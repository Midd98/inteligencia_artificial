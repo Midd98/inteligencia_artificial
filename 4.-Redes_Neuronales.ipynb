{
 "cells": [
  {
   "cell_type": "markdown",
   "metadata": {},
   "source": [
    "# Diferenciacion automatica\n",
    "\n",
    "Supongamos que necesitamos encontrar derivadas de la funcion $F(x)=(5x+1)^2$\n",
    "\n",
    "Si descomponemos la funci\\'on $F(x)=f(g(x))$, donde $f(x)=x^2$ y $g(x)=5x+1$ entonces podemos calcular la derivada de $\\frac{\\partial F(x)}{\\partial x}$ como:\n",
    "\n",
    "\\begin{align}\n",
    "\\frac{\\partial F(x)}{\\partial x}=\\frac{\\partial f(g(x))}{\\partial x} \\times \\frac{\\partial g(x)}{\\partial x}\n",
    "\\end{align}"
   ]
  },
  {
   "cell_type": "code",
   "execution_count": 1,
   "metadata": {},
   "outputs": [
    {
     "name": "stdout",
     "output_type": "stream",
     "text": [
      "F(X) : 1.000000\n",
      "dF/dx : 10.000000\n"
     ]
    }
   ],
   "source": [
    "from autograd import grad\n",
    "from autograd.core import primitive\n",
    "import autograd.numpy as np\n",
    "\n",
    "def F(x):\n",
    "    return (5*x+1)**2\n",
    "\n",
    "grad_F = grad(F)\n",
    "\n",
    "print ('F(X) : %.6f'%F(0.0))\n",
    "print ('dF/dx : %.6f'%grad_F(0.0))"
   ]
  },
  {
   "cell_type": "markdown",
   "metadata": {},
   "source": [
    "# Redes Neuronales\n",
    "\n",
    "Ahora en el contexto del aprendizaje automatico, queremos eoncontrar derivadas parciales de una funcion objetivo con respecto a los parametros del modelo. En el caso de problemas de clasificacion binaria multi-variable contamos con datos de entrada $\\textbf X=(\\mathbf x_1,\\ldots,\\mathbf x_n)$ y sus correspondientes etiquetas $\\textbf y=(y_1,\\ldots,y_n)$.\n",
    "\n",
    "Para cada tupla $(x_i,y_i)$ podemos establecer la siguiente relacion lineal:\n",
    "\n",
    "\\begin{align}\n",
    "\\text{log}\\left(\\frac{p( C=1 \\vert \\mathbf x_i )}{p(C=0 \\vert \\mathbf x_i )} \\right)&=w_0+\\sum_{j=1}^{n} w_j\\,x_{ij}\\\\\n",
    "&=\\mathbf w^T \\mathbf x_i\n",
    "\\end{align}  \n",
    "\n",
    "Al mismo tiempo , podemos obtener las probabilidades condicionales para cada clase:\n",
    "\n",
    "\\begin{align}\n",
    "p(C=1\\vert \\textbf x_i)&= \\phi(\\mathbf w^T \\mathbf x_i)=\\frac{\\text{exp}(\\mathbf w^T \\mathbf x_i)}{1+\\text{exp}(\\mathbf w^T \\mathbf x_i)}\n",
    "\\end{align} \n",
    "\n",
    "Donde $\\phi(\\cdot)$ es la llamada función sigmoide.\n",
    "\n",
    "La funcion sigmoide convierte cualquier entrada $\\mathbf w^T \\mathbf x_i \\in [-\\inf,\\inf]$ hacia el intervalo $(0,1)$, por lo tanto podemos utilizar la funcion de verosimilitud de la distribucion de Bernoulli para comparar las probabilidad de clase con las etiquetas binarias:\n",
    "\n",
    "\\begin{align}\n",
    "p(\\textbf y, \\textbf X,\\mathbf w)= \\prod_{i=1}^N (\\phi(\\mathbf w^T \\mathbf x_i))^y_i \\times (1-\\phi(\\mathbf w^T \\mathbf x_i))^{1-y_i}\n",
    "\\end{align}\n",
    "\n",
    "Ahora queremos obtener los parametros $\\hat{\\mathbf w}$ que maximicen la verosimilitud $p(\\textbf y, \\textbf X,\\mathbf w)$. Dado que la funcion logaritmo es monotona en todo el dominio $[-\\inf,\\inf]$ utilizamos $\\operatorname{log} p(\\textbf y, \\textbf X,\\mathbf w)$ como funcion objetivo (log-loss):\n",
    "\n",
    "\\begin{align}\n",
    "L(\\mathbf w)=\\sum_{i=1}^N (y_i \\operatorname{log} \\phi(\\mathbf w^T \\mathbf x_i)) + ({1-y_i}) \\operatorname{log} (1-\\phi(\\mathbf w^T \\mathbf x_i))\n",
    "\\end{align}\n",
    "\n",
    "Ahora que tenemos definida una funcion objetivo, podemos evaluar iterativamente los pesos $w$ escogiendo la direccion de maximo crecimiento (gradiente).\n",
    "\n",
    "\\begin{align}\n",
    "\\mathbf w^{j+1}= \\mathbf  w^j-\\eta \\frac{\\partial L(\\mathbf w)}{\\partial \\mathbf w}\n",
    "\\end{align}\n",
    "\n",
    "Donde $\\eta > 0$ es un factor de descuento o tasa de aprendizaje."
   ]
  },
  {
   "cell_type": "code",
   "execution_count": 2,
   "metadata": {},
   "outputs": [],
   "source": [
    "from __future__ import absolute_import\n",
    "from __future__ import print_function\n",
    "from builtins import range\n",
    "import autograd.numpy as np\n",
    "from autograd import grad\n",
    "from autograd.test_util import check_grads\n",
    "import matplotlib.pyplot as plt\n",
    "\n",
    "def sigmoid(x):\n",
    "    return np.exp(x)/(1+np.exp(x))\n",
    "\n",
    "def logistic_predictions(weights, inputs):\n",
    "    # Outputs probability of a label being true according to logistic model.\n",
    "    return sigmoid(np.dot(inputs, weights))\n",
    "\n",
    "def training_loss(weights):\n",
    "    # Training loss is the negative log-likelihood of the training labels.\n",
    "    preds = logistic_predictions(weights, inputs)\n",
    "    label_probabilities = np.log(preds) * targets + np.log((1 - preds)) * (1 - targets)\n",
    "    return -np.sum(label_probabilities)\n",
    "\n",
    "def train_net(weights,iterations,eta=0.1):\n",
    "    loss_history=[]\n",
    "    eta=0.1\n",
    "    for i in range(iterations):\n",
    "        weights -= training_gradient_fun(weights) * eta\n",
    "        loss_history.append(training_loss(weights))\n",
    "        if i%(iterations/10)==0:\n",
    "            print(\"Iteration : {0}, Trained loss: {1}\".format(i,training_loss(weights)))\n",
    "    return weights,loss_history\n",
    "\n",
    "# Build a function that returns gradients of training loss using autograd.\n",
    "training_gradient_fun = grad(training_loss)"
   ]
  },
  {
   "cell_type": "code",
   "execution_count": 4,
   "metadata": {},
   "outputs": [
    {
     "name": "stdout",
     "output_type": "stream",
     "text": [
      "None\n",
      "Iteration : 0, Trained loss: 2.283497754191519\n",
      "Iteration : 100, Trained loss: 0.16583313868587354\n",
      "Iteration : 200, Trained loss: 0.08498108937659068\n",
      "Iteration : 300, Trained loss: 0.05693670361850756\n",
      "Iteration : 400, Trained loss: 0.04275843168296287\n",
      "Iteration : 500, Trained loss: 0.03421470813642524\n",
      "Iteration : 600, Trained loss: 0.028508088444567432\n",
      "Iteration : 700, Trained loss: 0.024428500857397714\n",
      "Iteration : 800, Trained loss: 0.021367810994468505\n",
      "Iteration : 900, Trained loss: 0.01898713850700267\n"
     ]
    },
    {
     "data": {
      "image/png": "[encoded data removed]",
      "text/plain": [
       "<Figure size 432x288 with 1 Axes>"
      ]
     },
     "metadata": {},
     "output_type": "display_data"
    }
   ],
   "source": [
    "# Build a toy dataset.\n",
    "inputs = np.array([[0.52, 1.12,  0.77],\n",
    "                   [0.88, -1.08, 0.15],\n",
    "                   [0.52, 0.06, -1.30],\n",
    "                   [0.74, -2.49, 1.39]])\n",
    "targets = np.array([True, True, False, True])\n",
    "\n",
    "# Check the gradients numerically, just to be safe.\n",
    "weights = np.array([0.0, 0.0, 0.0])\n",
    "print(check_grads(training_loss, modes=['rev'])(weights))\n",
    "w_hat,loss=train_net(weights,1000)\n",
    "plt.plot(loss)\n",
    "plt.show()"
   ]
  },
  {
   "cell_type": "markdown",
   "metadata": {},
   "source": [
    "# Redes Neuronales Profundas\n",
    "\n",
    "Una alternativa para superar el problema de la separacion lineal entre clases es utilizar multiples perceptrones ordenados en capas\n",
    "\n",
    "La salida toma la siguiente forma:\n",
    "\\begin{align*}\n",
    "f(\\mathbf x) = \\phi_0 \\left(w_0+\\sum_h w_{hk}\\phi_h (\\alpha_h+\\sum_i w_{ih}x_i) \\right)\n",
    "\\end{align*}"
   ]
  },
  {
   "cell_type": "code",
   "execution_count": 115,
   "metadata": {},
   "outputs": [],
   "source": [
    "from  sklearn import  datasets\n",
    "iris=datasets.load_iris()\n",
    "x=iris.data\n",
    "y=iris.target\n",
    "\n",
    "\n",
    "y=y[iris.target!=0]\n",
    "x=x[iris.target!=0,:2]\n",
    "idx = np.arange(x.shape[0])\n",
    "np.random.seed(13)\n",
    "np.random.shuffle(idx)\n",
    "x = x[idx]\n",
    "y = y[idx]\n",
    "\n",
    "# standardize\n",
    "mean = x.mean(axis=0)\n",
    "std = x.std(axis=0)\n",
    "x = (x - mean) / std\n",
    "\n",
    "from sklearn.model_selection import train_test_split\n",
    "x_train,x_test,y_train,y_test=train_test_split(x,y,test_size=.1)\n",
    "\n"
   ]
  },
  {
   "cell_type": "code",
   "execution_count": 125,
   "metadata": {},
   "outputs": [
    {
     "name": "stdout",
     "output_type": "stream",
     "text": [
      "None\n",
      "Iteration : 0, Trained loss: 62.41566350937781\n",
      "Iteration : 10, Trained loss: 87.87076294012196\n",
      "Iteration : 20, Trained loss: 88.03869784625647\n",
      "Iteration : 30, Trained loss: 88.03869804320504\n",
      "Iteration : 40, Trained loss: 88.03869804320536\n",
      "Iteration : 50, Trained loss: 88.03869804320534\n",
      "Iteration : 60, Trained loss: 88.03869804320536\n",
      "Iteration : 70, Trained loss: 88.03869804320534\n",
      "Iteration : 80, Trained loss: 88.03869804320536\n",
      "Iteration : 90, Trained loss: 88.03869804320534\n"
     ]
    },
    {
     "data": {
      "image/png": "[encoded data removed]",
      "text/plain": [
       "<Figure size 432x288 with 1 Axes>"
      ]
     },
     "metadata": {},
     "output_type": "display_data"
    }
   ],
   "source": [
    "inputs = x_train\n",
    "targets = y_train==1\n",
    "\n",
    "# Build a function that returns gradients of training loss using autograd.\n",
    "weights = np.array([0.0, 0.0])\n",
    "print(check_grads(training_loss, modes=['rev'])(weights))\n",
    "w_hat,loss=train_net(weights,100,0.0001)\n",
    "\n",
    "plt.plot(loss)\n",
    "plt.show()"
   ]
  },
  {
   "cell_type": "code",
   "execution_count": 126,
   "metadata": {},
   "outputs": [
    {
     "data": {
      "image/png": "[encoded data removed]",
      "text/plain": [
       "<Figure size 432x288 with 1 Axes>"
      ]
     },
     "metadata": {},
     "output_type": "display_data"
    }
   ],
   "source": [
    "plt.scatter(x[:, 0], x[:, 1], c=y, cmap=plt.cm.Set1,edgecolor='k')\n",
    "xmin, xmax = plt.xlim()\n",
    "ymin, ymax = plt.ylim()\n",
    "\n",
    "def line(x0):\n",
    "    return (-(x0 * w_hat[0]) ) / w_hat[1]\n",
    "\n",
    "plt.plot([xmin, xmax], [line(xmin), line(xmax)],ls=\"--\")\n",
    "plt.xlabel('Sepal length')\n",
    "plt.ylabel('Sepal width')\n",
    "plt.show()"
   ]
  },
  {
   "cell_type": "code",
   "execution_count": 109,
   "metadata": {},
   "outputs": [],
   "source": [
    "def deep_training_loss(weights):\n",
    "    # Training loss is the negative log-likelihood of the training labels.\n",
    "    input_layer = logistic_predictions(weights['input'], inputs).reshape(-1,1)\n",
    "    hidden_layer = logistic_predictions(weights['hidden'], input_layer)\n",
    "    output_layer = logistic_predictions(weights['output'],hidden_layer)\n",
    "    label_probabilities = np.log(output_layer) * targets + np.log((1 - output_layer)) * (1 - targets)\n",
    "    return -np.sum(label_probabilities)\n",
    "\n",
    "\n",
    "# Build a function that returns gradients of training loss using autograd.\n",
    "deep_training_gradient_fun = grad(deep_training_loss)\n",
    "\n",
    "def train_deep_net(weights,iterations,eta=0.1):\n",
    "    loss_history=[]\n",
    "    for i in range(iterations):\n",
    "        grad = deep_training_gradient_fun(weights)\n",
    "        for w in weights.keys():\n",
    "            weights[w] -= grad[w] * eta\n",
    "        loss_history.append(deep_training_loss(weights))\n",
    "        if i%(iterations/10)==0:\n",
    "            print(\"Iteration : {0}, Trained loss: {1}\".format(i,training_loss(weights)))\n",
    "    return weights,loss_history"
   ]
  },
  {
   "cell_type": "code",
   "execution_count": 110,
   "metadata": {},
   "outputs": [
    {
     "ename": "AssertionError",
     "evalue": "Derivative (VJP) check of vjp_deep_training_loss failed with arg ({'input': array([0., 0.]), 'hidden': array([[0., 0., 0., 0., 0., 0., 0., 0., 0., 0.]]), 'output': array([[0.],\n       [0.],\n       [0.],\n       [0.],\n       [0.],\n       [0.],\n       [0.],\n       [0.],\n       [0.],\n       [0.]])}, array(-0.08847409)):\nanalytic: -298.89625903653064\nnumeric:  -300.7400404109716",
     "output_type": "error",
     "traceback": [
      "\u001b[0;31m---------------------------------------------------------------------------\u001b[0m",
      "\u001b[0;31mAssertionError\u001b[0m                            Traceback (most recent call last)",
      "\u001b[0;32m<ipython-input-110-838f7869c1cb>\u001b[0m in \u001b[0;36m<module>\u001b[0;34m()\u001b[0m\n\u001b[1;32m      1\u001b[0m \u001b[0mnum_hidden\u001b[0m\u001b[0;34m=\u001b[0m\u001b[0;36m10\u001b[0m\u001b[0;34m\u001b[0m\u001b[0;34m\u001b[0m\u001b[0m\n\u001b[1;32m      2\u001b[0m \u001b[0mweights\u001b[0m \u001b[0;34m=\u001b[0m \u001b[0;34m{\u001b[0m\u001b[0;34m'input'\u001b[0m\u001b[0;34m:\u001b[0m\u001b[0mnp\u001b[0m\u001b[0;34m.\u001b[0m\u001b[0marray\u001b[0m\u001b[0;34m(\u001b[0m\u001b[0;34m[\u001b[0m\u001b[0;36m0.0\u001b[0m\u001b[0;34m,\u001b[0m \u001b[0;36m0.0\u001b[0m\u001b[0;34m]\u001b[0m\u001b[0;34m)\u001b[0m\u001b[0;34m,\u001b[0m\u001b[0;34m'hidden'\u001b[0m\u001b[0;34m:\u001b[0m\u001b[0mnp\u001b[0m\u001b[0;34m.\u001b[0m\u001b[0mzeros\u001b[0m\u001b[0;34m(\u001b[0m\u001b[0;34m(\u001b[0m\u001b[0;36m1\u001b[0m\u001b[0;34m,\u001b[0m\u001b[0mnum_hidden\u001b[0m\u001b[0;34m)\u001b[0m\u001b[0;34m)\u001b[0m\u001b[0;34m,\u001b[0m\u001b[0;34m'output'\u001b[0m\u001b[0;34m:\u001b[0m\u001b[0mnp\u001b[0m\u001b[0;34m.\u001b[0m\u001b[0mzeros\u001b[0m\u001b[0;34m(\u001b[0m\u001b[0;34m(\u001b[0m\u001b[0mnum_hidden\u001b[0m\u001b[0;34m,\u001b[0m\u001b[0;36m1\u001b[0m\u001b[0;34m)\u001b[0m\u001b[0;34m)\u001b[0m\u001b[0;34m}\u001b[0m\u001b[0;34m\u001b[0m\u001b[0;34m\u001b[0m\u001b[0m\n\u001b[0;32m----> 3\u001b[0;31m \u001b[0mprint\u001b[0m\u001b[0;34m(\u001b[0m\u001b[0mcheck_grads\u001b[0m\u001b[0;34m(\u001b[0m\u001b[0mdeep_training_loss\u001b[0m\u001b[0;34m,\u001b[0m \u001b[0mmodes\u001b[0m\u001b[0;34m=\u001b[0m\u001b[0;34m[\u001b[0m\u001b[0;34m'rev'\u001b[0m\u001b[0;34m]\u001b[0m\u001b[0;34m)\u001b[0m\u001b[0;34m(\u001b[0m\u001b[0mweights\u001b[0m\u001b[0;34m)\u001b[0m\u001b[0;34m)\u001b[0m\u001b[0;34m\u001b[0m\u001b[0;34m\u001b[0m\u001b[0m\n\u001b[0m\u001b[1;32m      4\u001b[0m \u001b[0;34m\u001b[0m\u001b[0m\n\u001b[1;32m      5\u001b[0m \u001b[0mw_hat\u001b[0m\u001b[0;34m,\u001b[0m\u001b[0mloss\u001b[0m\u001b[0;34m=\u001b[0m\u001b[0mtrain_deep_net\u001b[0m\u001b[0;34m(\u001b[0m\u001b[0mweights\u001b[0m\u001b[0;34m,\u001b[0m\u001b[0;36m10000\u001b[0m\u001b[0;34m,\u001b[0m\u001b[0;36m0.00001\u001b[0m\u001b[0;34m)\u001b[0m\u001b[0;34m\u001b[0m\u001b[0;34m\u001b[0m\u001b[0m\n",
      "\u001b[0;32m/usr/local/lib/python3.6/dist-packages/autograd/wrap_util.py\u001b[0m in \u001b[0;36mnary_f\u001b[0;34m(*args, **kwargs)\u001b[0m\n\u001b[1;32m     18\u001b[0m             \u001b[0;32melse\u001b[0m\u001b[0;34m:\u001b[0m\u001b[0;34m\u001b[0m\u001b[0;34m\u001b[0m\u001b[0m\n\u001b[1;32m     19\u001b[0m                 \u001b[0mx\u001b[0m \u001b[0;34m=\u001b[0m \u001b[0mtuple\u001b[0m\u001b[0;34m(\u001b[0m\u001b[0margs\u001b[0m\u001b[0;34m[\u001b[0m\u001b[0mi\u001b[0m\u001b[0;34m]\u001b[0m \u001b[0;32mfor\u001b[0m \u001b[0mi\u001b[0m \u001b[0;32min\u001b[0m \u001b[0margnum\u001b[0m\u001b[0;34m)\u001b[0m\u001b[0;34m\u001b[0m\u001b[0;34m\u001b[0m\u001b[0m\n\u001b[0;32m---> 20\u001b[0;31m             \u001b[0;32mreturn\u001b[0m \u001b[0munary_operator\u001b[0m\u001b[0;34m(\u001b[0m\u001b[0munary_f\u001b[0m\u001b[0;34m,\u001b[0m \u001b[0mx\u001b[0m\u001b[0;34m,\u001b[0m \u001b[0;34m*\u001b[0m\u001b[0mnary_op_args\u001b[0m\u001b[0;34m,\u001b[0m \u001b[0;34m**\u001b[0m\u001b[0mnary_op_kwargs\u001b[0m\u001b[0;34m)\u001b[0m\u001b[0;34m\u001b[0m\u001b[0;34m\u001b[0m\u001b[0m\n\u001b[0m\u001b[1;32m     21\u001b[0m         \u001b[0;32mreturn\u001b[0m \u001b[0mnary_f\u001b[0m\u001b[0;34m\u001b[0m\u001b[0;34m\u001b[0m\u001b[0m\n\u001b[1;32m     22\u001b[0m     \u001b[0;32mreturn\u001b[0m \u001b[0mnary_operator\u001b[0m\u001b[0;34m\u001b[0m\u001b[0;34m\u001b[0m\u001b[0m\n",
      "\u001b[0;32m/usr/local/lib/python3.6/dist-packages/autograd/test_util.py\u001b[0m in \u001b[0;36mcheck_grads\u001b[0;34m(f, x, modes, order)\u001b[0m\n\u001b[1;32m     66\u001b[0m             \u001b[0mgrad_f\u001b[0m\u001b[0;34m.\u001b[0m\u001b[0m__name__\u001b[0m \u001b[0;34m=\u001b[0m \u001b[0;34m'vjp_{}'\u001b[0m\u001b[0;34m.\u001b[0m\u001b[0mformat\u001b[0m\u001b[0;34m(\u001b[0m\u001b[0mget_name\u001b[0m\u001b[0;34m(\u001b[0m\u001b[0mf\u001b[0m\u001b[0;34m)\u001b[0m\u001b[0;34m)\u001b[0m\u001b[0;34m\u001b[0m\u001b[0;34m\u001b[0m\u001b[0m\n\u001b[1;32m     67\u001b[0m             \u001b[0mv\u001b[0m \u001b[0;34m=\u001b[0m \u001b[0mvspace\u001b[0m\u001b[0;34m(\u001b[0m\u001b[0mf\u001b[0m\u001b[0;34m(\u001b[0m\u001b[0mx\u001b[0m\u001b[0;34m)\u001b[0m\u001b[0;34m)\u001b[0m\u001b[0;34m.\u001b[0m\u001b[0mrandn\u001b[0m\u001b[0;34m(\u001b[0m\u001b[0;34m)\u001b[0m\u001b[0;34m\u001b[0m\u001b[0;34m\u001b[0m\u001b[0m\n\u001b[0;32m---> 68\u001b[0;31m             \u001b[0mcheck_grads\u001b[0m\u001b[0;34m(\u001b[0m\u001b[0mgrad_f\u001b[0m\u001b[0;34m,\u001b[0m \u001b[0;34m(\u001b[0m\u001b[0;36m0\u001b[0m\u001b[0;34m,\u001b[0m \u001b[0;36m1\u001b[0m\u001b[0;34m)\u001b[0m\u001b[0;34m,\u001b[0m \u001b[0mmodes\u001b[0m\u001b[0;34m,\u001b[0m \u001b[0morder\u001b[0m\u001b[0;34m=\u001b[0m\u001b[0morder\u001b[0m\u001b[0;34m-\u001b[0m\u001b[0;36m1\u001b[0m\u001b[0;34m)\u001b[0m\u001b[0;34m(\u001b[0m\u001b[0mx\u001b[0m\u001b[0;34m,\u001b[0m \u001b[0mv\u001b[0m\u001b[0;34m)\u001b[0m\u001b[0;34m\u001b[0m\u001b[0;34m\u001b[0m\u001b[0m\n\u001b[0m\u001b[1;32m     69\u001b[0m \u001b[0;34m\u001b[0m\u001b[0m\n\u001b[1;32m     70\u001b[0m \u001b[0;32mdef\u001b[0m \u001b[0mcombo_check\u001b[0m\u001b[0;34m(\u001b[0m\u001b[0mfun\u001b[0m\u001b[0;34m,\u001b[0m \u001b[0;34m*\u001b[0m\u001b[0margs\u001b[0m\u001b[0;34m,\u001b[0m \u001b[0;34m**\u001b[0m\u001b[0mkwargs\u001b[0m\u001b[0;34m)\u001b[0m\u001b[0;34m:\u001b[0m\u001b[0;34m\u001b[0m\u001b[0;34m\u001b[0m\u001b[0m\n",
      "\u001b[0;32m/usr/local/lib/python3.6/dist-packages/autograd/wrap_util.py\u001b[0m in \u001b[0;36mnary_f\u001b[0;34m(*args, **kwargs)\u001b[0m\n\u001b[1;32m     18\u001b[0m             \u001b[0;32melse\u001b[0m\u001b[0;34m:\u001b[0m\u001b[0;34m\u001b[0m\u001b[0;34m\u001b[0m\u001b[0m\n\u001b[1;32m     19\u001b[0m                 \u001b[0mx\u001b[0m \u001b[0;34m=\u001b[0m \u001b[0mtuple\u001b[0m\u001b[0;34m(\u001b[0m\u001b[0margs\u001b[0m\u001b[0;34m[\u001b[0m\u001b[0mi\u001b[0m\u001b[0;34m]\u001b[0m \u001b[0;32mfor\u001b[0m \u001b[0mi\u001b[0m \u001b[0;32min\u001b[0m \u001b[0margnum\u001b[0m\u001b[0;34m)\u001b[0m\u001b[0;34m\u001b[0m\u001b[0;34m\u001b[0m\u001b[0m\n\u001b[0;32m---> 20\u001b[0;31m             \u001b[0;32mreturn\u001b[0m \u001b[0munary_operator\u001b[0m\u001b[0;34m(\u001b[0m\u001b[0munary_f\u001b[0m\u001b[0;34m,\u001b[0m \u001b[0mx\u001b[0m\u001b[0;34m,\u001b[0m \u001b[0;34m*\u001b[0m\u001b[0mnary_op_args\u001b[0m\u001b[0;34m,\u001b[0m \u001b[0;34m**\u001b[0m\u001b[0mnary_op_kwargs\u001b[0m\u001b[0;34m)\u001b[0m\u001b[0;34m\u001b[0m\u001b[0;34m\u001b[0m\u001b[0m\n\u001b[0m\u001b[1;32m     21\u001b[0m         \u001b[0;32mreturn\u001b[0m \u001b[0mnary_f\u001b[0m\u001b[0;34m\u001b[0m\u001b[0;34m\u001b[0m\u001b[0m\n\u001b[1;32m     22\u001b[0m     \u001b[0;32mreturn\u001b[0m \u001b[0mnary_operator\u001b[0m\u001b[0;34m\u001b[0m\u001b[0;34m\u001b[0m\u001b[0m\n",
      "\u001b[0;32m/usr/local/lib/python3.6/dist-packages/autograd/test_util.py\u001b[0m in \u001b[0;36mcheck_grads\u001b[0;34m(f, x, modes, order)\u001b[0m\n\u001b[1;32m     61\u001b[0m             \u001b[0mcheck_grads\u001b[0m\u001b[0;34m(\u001b[0m\u001b[0mgrad_f\u001b[0m\u001b[0;34m,\u001b[0m \u001b[0;34m(\u001b[0m\u001b[0;36m0\u001b[0m\u001b[0;34m,\u001b[0m \u001b[0;36m1\u001b[0m\u001b[0;34m)\u001b[0m\u001b[0;34m,\u001b[0m \u001b[0mmodes\u001b[0m\u001b[0;34m,\u001b[0m \u001b[0morder\u001b[0m\u001b[0;34m=\u001b[0m\u001b[0morder\u001b[0m\u001b[0;34m-\u001b[0m\u001b[0;36m1\u001b[0m\u001b[0;34m)\u001b[0m\u001b[0;34m(\u001b[0m\u001b[0mx\u001b[0m\u001b[0;34m,\u001b[0m \u001b[0mv\u001b[0m\u001b[0;34m)\u001b[0m\u001b[0;34m\u001b[0m\u001b[0;34m\u001b[0m\u001b[0m\n\u001b[1;32m     62\u001b[0m     \u001b[0;32mif\u001b[0m \u001b[0;34m'rev'\u001b[0m \u001b[0;32min\u001b[0m \u001b[0mmodes\u001b[0m\u001b[0;34m:\u001b[0m\u001b[0;34m\u001b[0m\u001b[0;34m\u001b[0m\u001b[0m\n\u001b[0;32m---> 63\u001b[0;31m         \u001b[0mcheck_vjp\u001b[0m\u001b[0;34m(\u001b[0m\u001b[0mf\u001b[0m\u001b[0;34m,\u001b[0m \u001b[0mx\u001b[0m\u001b[0;34m)\u001b[0m\u001b[0;34m\u001b[0m\u001b[0;34m\u001b[0m\u001b[0m\n\u001b[0m\u001b[1;32m     64\u001b[0m         \u001b[0;32mif\u001b[0m \u001b[0morder\u001b[0m \u001b[0;34m>\u001b[0m \u001b[0;36m1\u001b[0m\u001b[0;34m:\u001b[0m\u001b[0;34m\u001b[0m\u001b[0;34m\u001b[0m\u001b[0m\n\u001b[1;32m     65\u001b[0m             \u001b[0mgrad_f\u001b[0m \u001b[0;34m=\u001b[0m \u001b[0;32mlambda\u001b[0m \u001b[0mx\u001b[0m\u001b[0;34m,\u001b[0m \u001b[0mv\u001b[0m\u001b[0;34m:\u001b[0m \u001b[0mmake_vjp\u001b[0m\u001b[0;34m(\u001b[0m\u001b[0mf\u001b[0m\u001b[0;34m,\u001b[0m \u001b[0mx\u001b[0m\u001b[0;34m)\u001b[0m\u001b[0;34m[\u001b[0m\u001b[0;36m0\u001b[0m\u001b[0;34m]\u001b[0m\u001b[0;34m(\u001b[0m\u001b[0mv\u001b[0m\u001b[0;34m)\u001b[0m\u001b[0;34m\u001b[0m\u001b[0;34m\u001b[0m\u001b[0m\n",
      "\u001b[0;32m/usr/local/lib/python3.6/dist-packages/autograd/test_util.py\u001b[0m in \u001b[0;36mcheck_vjp\u001b[0;34m(f, x)\u001b[0m\n\u001b[1;32m     35\u001b[0m         (\"Derivative (VJP) check of {} failed with arg {}:\\n\"\n\u001b[1;32m     36\u001b[0m          \"analytic: {}\\nnumeric:  {}\".format(\n\u001b[0;32m---> 37\u001b[0;31m             get_name(f), x, vjv_exact, vjv_numeric))\n\u001b[0m\u001b[1;32m     38\u001b[0m \u001b[0;34m\u001b[0m\u001b[0m\n\u001b[1;32m     39\u001b[0m \u001b[0;32mdef\u001b[0m \u001b[0mcheck_jvp\u001b[0m\u001b[0;34m(\u001b[0m\u001b[0mf\u001b[0m\u001b[0;34m,\u001b[0m \u001b[0mx\u001b[0m\u001b[0;34m)\u001b[0m\u001b[0;34m:\u001b[0m\u001b[0;34m\u001b[0m\u001b[0;34m\u001b[0m\u001b[0m\n",
      "\u001b[0;31mAssertionError\u001b[0m: Derivative (VJP) check of vjp_deep_training_loss failed with arg ({'input': array([0., 0.]), 'hidden': array([[0., 0., 0., 0., 0., 0., 0., 0., 0., 0.]]), 'output': array([[0.],\n       [0.],\n       [0.],\n       [0.],\n       [0.],\n       [0.],\n       [0.],\n       [0.],\n       [0.],\n       [0.]])}, array(-0.08847409)):\nanalytic: -298.89625903653064\nnumeric:  -300.7400404109716"
     ]
    }
   ],
   "source": [
    "num_hidden=10\n",
    "weights = {'input':np.array([0.0, 0.0]),'hidden':np.zeros((1,num_hidden)),'output':np.zeros((num_hidden,1))}\n",
    "print(check_grads(deep_training_loss, modes=['rev'])(weights))\n",
    "\n",
    "w_hat,loss=train_deep_net(weights,10000,0.00001)\n",
    "\n",
    "plt.plot(loss)\n",
    "plt.show()"
   ]
  },
  {
   "cell_type": "code",
   "execution_count": 117,
   "metadata": {},
   "outputs": [
    {
     "data": {
      "text/plain": [
       "(90, 2)"
      ]
     },
     "execution_count": 117,
     "metadata": {},
     "output_type": "execute_result"
    }
   ],
   "source": [
    "inputs.shape"
   ]
  },
  {
   "cell_type": "code",
   "execution_count": 111,
   "metadata": {},
   "outputs": [
    {
     "data": {
      "text/plain": [
       "{'hidden': array([[0., 0., 0., 0., 0., 0., 0., 0., 0., 0.]]),\n",
       " 'input': array([0., 0.]),\n",
       " 'output': array([[25.],\n",
       "        [25.],\n",
       "        [25.],\n",
       "        [25.],\n",
       "        [25.],\n",
       "        [25.],\n",
       "        [25.],\n",
       "        [25.],\n",
       "        [25.],\n",
       "        [25.]])}"
      ]
     },
     "execution_count": 111,
     "metadata": {},
     "output_type": "execute_result"
    }
   ],
   "source": [
    "deep_training_gradient_fun(weights)"
   ]
  },
  {
   "cell_type": "code",
   "execution_count": 101,
   "metadata": {},
   "outputs": [
    {
     "data": {
      "text/plain": [
       "dict_keys(['input', 'hidden', 'output'])"
      ]
     },
     "execution_count": 101,
     "metadata": {},
     "output_type": "execute_result"
    }
   ],
   "source": [
    "weights.keys()"
   ]
  },
  {
   "cell_type": "code",
   "execution_count": null,
   "metadata": {},
   "outputs": [],
   "source": []
  }
 ],
 "metadata": {
  "kernelspec": {
   "display_name": "Python 3",
   "language": "python",
   "name": "python3"
  },
  "language_info": {
   "codemirror_mode": {
    "name": "ipython",
    "version": 3
   },
   "file_extension": ".py",
   "mimetype": "text/x-python",
   "name": "python",
   "nbconvert_exporter": "python",
   "pygments_lexer": "ipython3",
   "version": "3.6.9"
  }
 },
 "nbformat": 4,
 "nbformat_minor": 2
}
