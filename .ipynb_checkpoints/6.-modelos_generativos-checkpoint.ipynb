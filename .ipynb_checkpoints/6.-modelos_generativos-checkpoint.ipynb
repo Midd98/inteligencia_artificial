{
 "cells": [
  {
   "cell_type": "markdown",
   "metadata": {},
   "source": [
    "# Modelos Generativos\n",
    "\n",
    "Los modelos generativos son \n",
    "\n",
    "\n",
    "Por ejemplo, consideremos un modelo generativo para el reconocimiento optico de caracteres a partir de \n",
    "imagenes binarias de digitos []. Las datos $\\textbf x$ consisten de imagenes binarias de digitos del $0-9$ escaneados y redimensionados a $28 \\times 28$ pixeles. \n",
    "\n",
    "Dado que los datos provienen de imagenes binarias donde cada pixel es independiente del otro, un modelo acorde es \n",
    "la distribucion de Bernoulli. Por lo tanto, la probabilidad de observar el pixel $x_i \\in \\{0,1\\}$ esta dada por la distribucion de Bernoulli con parametro $\\theta_i$\n",
    "    \n",
    "\\begin{align}\n",
    "p(\\textbf {x} \\vert \\Theta)= \\prod_{i=1}^{784} p(x_i \\vert \\theta_i)\\\\\n",
    "p(x_i \\vert \\theta_i)=\\theta_i^{x_i} (1-\\theta_i)^{1-x_i}\n",
    "\\end{align}\n",
    "\n",
    "Utilizando el teorema de Bayes:\n",
    "\n",
    "\\begin{align}\n",
    "p(\\Theta \\vert  \\textbf {x} ) =  \\frac{p(\\textbf {x} \\vert \\Theta)p(\\Theta)}{p(\\textbf {x})}\n",
    "\\end{align}\n",
    "\n",
    "donde $\\Theta = [\\theta_1,\\ldots,\\theta_{784}]$\n",
    "\n",
    "Si hacemos que la probabilidad apriori de cada pixel $p(\\theta_i)$ sea una distribucion Beta, tenemos:\n",
    "\n",
    "\\begin{align}\n",
    "p(\\theta_i)= \\frac{1}{B(\\alpha,\\beta)} \\theta_i^{\\alpha-1} (1-\\theta_i)^{\\beta-1}\n",
    "\\end{align}\n",
    "\n",
    "donde $B(\\alpha,\\beta)$ es la funcion Beta.\n",
    "\n",
    "Ahora, utlizamos $p(\\theta_i)$para calcular $p(\\textbf {x})$:\n",
    "\n",
    "\\begin{align}\n",
    "p(\\textbf {x} ) &=  \\int p(\\textbf {x} \\vert \\Theta)p(\\Theta) d \\Theta\\\\ \n",
    "& \\frac{1}{B(\\alpha,\\beta)^{784}} \\prod_{i=1}^{784} \\int   \\theta_i^{x_i+\\alpha-1} (1-\\theta_i)^{1-x_i+\\beta-1}d \\theta_i\n",
    "\\end{align}\n"
   ]
  },
  {
   "cell_type": "code",
   "execution_count": 5,
   "metadata": {},
   "outputs": [],
   "source": [
    "import time\n",
    "import matplotlib.pyplot as plt\n",
    "import numpy as np\n",
    "import sklearn \n",
    "\n",
    "from sklearn.datasets import fetch_openml"
   ]
  },
  {
   "cell_type": "code",
   "execution_count": 6,
   "metadata": {},
   "outputs": [],
   "source": [
    "X, y = fetch_openml('mnist_784', version=1, return_X_y=True)\n",
    "zero_data=X[y=='0',:]"
   ]
  },
  {
   "cell_type": "code",
   "execution_count": 27,
   "metadata": {},
   "outputs": [
    {
     "data": {
      "text/plain": [
       "<matplotlib.image.AxesImage at 0x7fceb7307a20>"
      ]
     },
     "execution_count": 27,
     "metadata": {},
     "output_type": "execute_result"
    },
    {
     "data": {
      "image/png": "[encoded data removed]",
      "text/plain": [
       "<Figure size 432x288 with 1 Axes>"
      ]
     },
     "metadata": {},
     "output_type": "display_data"
    }
   ],
   "source": [
    "plt.imshow(zero_data[0].reshape([28,28]), cmap='Greys')"
   ]
  },
  {
   "cell_type": "code",
   "execution_count": 30,
   "metadata": {},
   "outputs": [],
   "source": [
    "binary_data=(zero_data>128).astype(np.int)"
   ]
  },
  {
   "cell_type": "code",
   "execution_count": 31,
   "metadata": {},
   "outputs": [
    {
     "data": {
      "text/plain": [
       "<matplotlib.image.AxesImage at 0x7fceb72f1198>"
      ]
     },
     "execution_count": 31,
     "metadata": {},
     "output_type": "execute_result"
    },
    {
     "data": {
      "image/png": "[encoded data removed]",
      "text/plain": [
       "<Figure size 432x288 with 1 Axes>"
      ]
     },
     "metadata": {},
     "output_type": "display_data"
    }
   ],
   "source": [
    "plt.imshow(binary_data[0].reshape([28,28]), cmap='Greys')"
   ]
  },
  {
   "cell_type": "code",
   "execution_count": 60,
   "metadata": {},
   "outputs": [],
   "source": [
    "from scipy.stats import beta\n",
    "from scipy.stats import bernoulli\n",
    "from scipy.stats import betabinom\n",
    "\n",
    "n=binary_data.shape[0]\n",
    "p_theta = [betabinom(n,2, 2) for i in range(784)]\n",
    "theta=binary_data.sum(axis=0)/\n",
    "p_x_theta = [ bernoulli(p) for p in theta]"
   ]
  },
  {
   "cell_type": "code",
   "execution_count": 75,
   "metadata": {},
   "outputs": [],
   "source": [
    "p_theta_x_j = [ p_x_theta[i].logpmf(binary_data[0][i])+p_theta[i].logpdf(theta[i]) for i in range(784)]"
   ]
  },
  {
   "cell_type": "code",
   "execution_count": 76,
   "metadata": {},
   "outputs": [
    {
     "name": "stdout",
     "output_type": "stream",
     "text": [
      "p(x | theta)=-inf\n"
     ]
    }
   ],
   "source": [
    "print('p(x | theta)={0:0.2f}'.format(np.sum(p_theta_x_j)))"
   ]
  },
  {
   "cell_type": "code",
   "execution_count": 74,
   "metadata": {},
   "outputs": [
    {
     "data": {
      "text/plain": [
       "array([0.00000000e+00, 0.00000000e+00, 0.00000000e+00, 0.00000000e+00,\n",
       "       0.00000000e+00, 0.00000000e+00, 0.00000000e+00, 0.00000000e+00,\n",
       "       0.00000000e+00, 0.00000000e+00, 0.00000000e+00, 0.00000000e+00,\n",
       "       0.00000000e+00, 0.00000000e+00, 0.00000000e+00, 0.00000000e+00,\n",
       "       0.00000000e+00, 0.00000000e+00, 0.00000000e+00, 0.00000000e+00,\n",
       "       0.00000000e+00, 0.00000000e+00, 0.00000000e+00, 0.00000000e+00,\n",
       "       0.00000000e+00, 0.00000000e+00, 0.00000000e+00, 0.00000000e+00,\n",
       "       0.00000000e+00, 0.00000000e+00, 0.00000000e+00, 0.00000000e+00,\n",
       "       0.00000000e+00, 0.00000000e+00, 0.00000000e+00, 0.00000000e+00,\n",
       "       0.00000000e+00, 0.00000000e+00, 0.00000000e+00, 0.00000000e+00,\n",
       "       8.68935499e-04, 0.00000000e+00, 0.00000000e+00, 0.00000000e+00,\n",
       "       8.68935499e-04, 0.00000000e+00, 0.00000000e+00, 0.00000000e+00,\n",
       "       0.00000000e+00, 0.00000000e+00, 0.00000000e+00, 0.00000000e+00,\n",
       "       0.00000000e+00, 0.00000000e+00, 0.00000000e+00, 0.00000000e+00,\n",
       "       0.00000000e+00, 0.00000000e+00, 0.00000000e+00, 0.00000000e+00,\n",
       "       0.00000000e+00, 0.00000000e+00, 0.00000000e+00, 8.68935499e-04,\n",
       "       0.00000000e+00, 0.00000000e+00, 0.00000000e+00, 0.00000000e+00,\n",
       "       8.68935499e-04, 1.73736745e-03, 0.00000000e+00, 8.68935499e-04,\n",
       "       8.68935499e-04, 0.00000000e+00, 0.00000000e+00, 1.73736745e-03,\n",
       "       8.68935499e-04, 0.00000000e+00, 0.00000000e+00, 0.00000000e+00,\n",
       "       0.00000000e+00, 0.00000000e+00, 0.00000000e+00, 0.00000000e+00,\n",
       "       0.00000000e+00, 0.00000000e+00, 0.00000000e+00, 0.00000000e+00,\n",
       "       0.00000000e+00, 1.73736745e-03, 8.68935499e-04, 8.68935499e-04,\n",
       "       2.60529596e-03, 3.47272115e-03, 1.03940159e-02, 2.75567189e-02,\n",
       "       4.45193596e-02, 6.62731395e-02, 8.52378053e-02, 1.03941884e-01,\n",
       "       1.08778517e-01, 8.76922174e-02, 6.29482376e-02, 5.37638528e-02,\n",
       "       3.86051377e-02, 1.38426035e-02, 7.80230095e-03, 4.33964311e-03,\n",
       "       8.68935499e-04, 0.00000000e+00, 0.00000000e+00, 0.00000000e+00,\n",
       "       0.00000000e+00, 0.00000000e+00, 0.00000000e+00, 0.00000000e+00,\n",
       "       0.00000000e+00, 8.68935499e-04, 4.33964311e-03, 9.53061339e-03,\n",
       "       2.41402113e-02, 7.20726598e-02, 1.45275759e-01, 2.72748434e-01,\n",
       "       4.53344457e-01, 6.51690066e-01, 7.73058207e-01, 8.41979833e-01,\n",
       "       2.97450260e-01, 2.50259906e-01, 1.64336439e-01, 5.91124132e-01,\n",
       "       3.85825337e-01, 1.97353797e-01, 7.53757932e-02, 1.72831606e-02,\n",
       "       3.47272115e-03, 8.68935499e-04, 0.00000000e+00, 0.00000000e+00,\n",
       "       0.00000000e+00, 0.00000000e+00, 0.00000000e+00, 8.68935499e-04,\n",
       "       8.68935499e-04, 8.68935499e-04, 1.47034953e-02, 3.43657336e-02,\n",
       "       9.25877530e-02, 2.20361299e-01, 4.35380426e-01, 6.95348668e-01,\n",
       "       8.63681050e-01, 8.70184966e-01, 7.49238691e-01, 8.40135630e-01,\n",
       "       8.62326946e-01, 8.22076486e-01, 6.88211197e-01, 4.51397691e-01,\n",
       "       7.88480437e-01, 5.24685316e-01, 2.51522192e-01, 5.96154068e-02,\n",
       "       1.12569160e-02, 2.60529596e-03, 0.00000000e+00, 0.00000000e+00,\n",
       "       0.00000000e+00, 0.00000000e+00, 0.00000000e+00, 0.00000000e+00,\n",
       "       1.73736745e-03, 1.55638854e-02, 3.43657336e-02, 9.42156641e-02,\n",
       "       2.46508794e-01, 4.97243513e-01, 7.65031888e-01, 8.88724853e-01,\n",
       "       7.97628076e-01, 5.82051294e-01, 8.85506840e-01, 8.45403953e-01,\n",
       "       8.28606276e-01, 8.49147913e-01, 8.88153600e-01, 8.06835568e-01,\n",
       "       8.69073777e-01, 8.23745490e-01, 5.29319097e-01, 1.67757435e-01,\n",
       "       2.15725747e-02, 2.60529596e-03, 0.00000000e+00, 0.00000000e+00,\n",
       "       0.00000000e+00, 0.00000000e+00, 0.00000000e+00, 0.00000000e+00,\n",
       "       3.47272115e-03, 2.15725747e-02, 6.71031269e-02, 2.09285665e-01,\n",
       "       4.65276209e-01, 7.65594947e-01, 8.88876316e-01, 7.76042402e-01,\n",
       "       5.59449643e-01, 8.85204603e-01, 8.58787896e-01, 8.43300635e-01,\n",
       "       8.39790376e-01, 8.30118855e-01, 2.87035987e-01, 8.88400527e-01,\n",
       "       8.02191788e-01, 8.80881992e-01, 7.75220370e-01, 3.69488230e-01,\n",
       "       5.96154068e-02, 3.47272115e-03, 0.00000000e+00, 8.68935499e-04,\n",
       "       0.00000000e+00, 0.00000000e+00, 0.00000000e+00, 0.00000000e+00,\n",
       "       6.93739077e-03, 3.43657336e-02, 1.33487624e-01, 3.88932398e-01,\n",
       "       7.17022995e-01, 8.87533131e-01, 7.91648317e-01, 8.60912974e-01,\n",
       "       8.88558966e-01, 8.85248590e-01, 8.88708069e-01, 8.77978352e-01,\n",
       "       8.68316407e-01, 8.75443902e-01, 4.35753064e-01, 8.84560354e-01,\n",
       "       8.83705040e-01, 7.25475073e-01, 8.83965741e-01, 5.80892111e-01,\n",
       "       1.30325667e-01, 2.60529596e-03, 0.00000000e+00, 0.00000000e+00,\n",
       "       0.00000000e+00, 0.00000000e+00, 0.00000000e+00, 8.68935499e-04,\n",
       "       9.53061339e-03, 5.54382075e-02, 2.83204241e-01, 6.19343818e-01,\n",
       "       8.63800502e-01, 8.30116848e-01, 6.13531567e-01, 8.88838669e-01,\n",
       "       8.88852589e-01, 8.67351144e-01, 7.63121392e-01, 8.35522634e-01,\n",
       "       5.48461087e-01, 6.08385608e-01, 7.34148091e-01, 5.28306127e-01,\n",
       "       8.87859937e-01, 8.43062821e-01, 8.62968179e-01, 7.38844128e-01,\n",
       "       2.19626242e-01, 2.60529596e-03, 0.00000000e+00, 0.00000000e+00,\n",
       "       0.00000000e+00, 0.00000000e+00, 8.68935499e-04, 0.00000000e+00,\n",
       "       1.64237738e-02, 1.27155927e-01, 4.66402610e-01, 8.04085230e-01,\n",
       "       8.75677598e-01, 6.70699270e-01, 8.87307407e-01, 8.88843559e-01,\n",
       "       8.45909508e-01, 6.83751957e-01, 8.88563805e-01, 8.38243192e-01,\n",
       "       7.73329703e-01, 8.25909306e-01, 8.86225945e-01, 7.30288778e-01,\n",
       "       8.83803690e-01, 8.74811254e-01, 7.74027721e-01, 8.44277999e-01,\n",
       "       3.24653020e-01, 5.20606196e-03, 0.00000000e+00, 0.00000000e+00,\n",
       "       0.00000000e+00, 0.00000000e+00, 0.00000000e+00, 8.68935499e-04,\n",
       "       3.09652240e-02, 2.36412926e-01, 6.54515239e-01, 8.87369278e-01,\n",
       "       7.58483872e-01, 8.80196320e-01, 8.88873629e-01, 8.55403694e-01,\n",
       "       6.58178635e-01, 8.82887213e-01, 7.26342776e-01, 5.31878743e-01,\n",
       "       4.64148079e-01, 5.98896286e-01, 8.35962822e-01, 8.42373135e-01,\n",
       "       8.61895462e-01, 8.83146092e-01, 7.92404165e-01, 8.82483752e-01,\n",
       "       4.21780530e-01, 9.53061339e-03, 8.68935499e-04, 0.00000000e+00,\n",
       "       0.00000000e+00, 0.00000000e+00, 0.00000000e+00, 1.73736745e-03,\n",
       "       4.87288627e-02, 3.96958572e-01, 8.20731056e-01, 8.48414866e-01,\n",
       "       8.52976186e-01, 8.88843309e-01, 8.78259970e-01, 7.84155525e-01,\n",
       "       8.81320331e-01, 6.83969012e-01, 4.01860370e-01, 2.67833232e-01,\n",
       "       2.55801103e-01, 4.26537285e-01, 7.54948539e-01, 8.78468881e-01,\n",
       "       8.30116848e-01, 8.82776020e-01, 8.08593415e-01, 8.88876316e-01,\n",
       "       5.05809074e-01, 1.72831606e-02, 8.68935499e-04, 0.00000000e+00,\n",
       "       0.00000000e+00, 0.00000000e+00, 0.00000000e+00, 2.60529596e-03,\n",
       "       9.66538455e-02, 5.84169101e-01, 8.87785183e-01, 7.25244588e-01,\n",
       "       8.86638977e-01, 8.88744049e-01, 6.85737675e-01, 8.88776058e-01,\n",
       "       7.01079904e-01, 3.48314637e-01, 1.85299828e-01, 1.24773509e-01,\n",
       "       1.46057756e-01, 3.50907347e-01, 7.34420388e-01, 8.83093908e-01,\n",
       "       8.21101684e-01, 8.80759334e-01, 8.04883764e-01, 8.88150670e-01,\n",
       "       5.38990121e-01, 2.32848332e-02, 0.00000000e+00, 0.00000000e+00,\n",
       "       0.00000000e+00, 0.00000000e+00, 0.00000000e+00, 8.68935499e-04,\n",
       "       1.53073944e-01, 7.44427190e-01, 8.61132695e-01, 8.59126717e-01,\n",
       "       8.88229340e-01, 8.75365573e-01, 8.41399933e-01, 8.01545324e-01,\n",
       "       4.25350735e-01, 1.70059982e-01, 9.50288825e-02, 7.78479567e-02,\n",
       "       1.19197476e-01, 3.94496999e-01, 7.81572808e-01, 8.67932770e-01,\n",
       "       8.32998135e-01, 8.76816926e-01, 7.76042402e-01, 8.88686258e-01,\n",
       "       5.43518533e-01, 2.92619713e-02, 0.00000000e+00, 0.00000000e+00,\n",
       "       0.00000000e+00, 0.00000000e+00, 0.00000000e+00, 8.68935499e-04,\n",
       "       2.48660208e-01, 8.45881797e-01, 7.84739754e-01, 8.84739559e-01,\n",
       "       8.88596765e-01, 6.79261973e-01, 8.88775073e-01, 6.22813562e-01,\n",
       "       2.46508794e-01, 8.85093701e-02, 6.04493582e-02, 8.11372650e-02,\n",
       "       2.13728729e-01, 5.63238136e-01, 8.59570582e-01, 8.07012063e-01,\n",
       "       8.59013400e-01, 8.63074350e-01, 7.14049458e-01, 8.74875246e-01,\n",
       "       4.77571730e-01, 2.24289543e-02, 0.00000000e+00, 0.00000000e+00,\n",
       "       0.00000000e+00, 0.00000000e+00, 0.00000000e+00, 8.68935499e-04,\n",
       "       3.32605818e-01, 8.82773317e-01, 7.09786144e-01, 8.88873678e-01,\n",
       "       8.87837353e-01, 7.86097897e-01, 8.46514537e-01, 4.55631913e-01,\n",
       "       1.63910232e-01, 7.45507510e-02, 9.01421990e-02, 1.64680636e-01,\n",
       "       4.17595251e-01, 7.68943639e-01, 8.78538079e-01, 8.01830222e-01,\n",
       "       8.73085445e-01, 8.33447323e-01, 8.57522449e-01, 8.15118539e-01,\n",
       "       3.57357436e-01, 1.21193139e-02, 0.00000000e+00, 0.00000000e+00,\n",
       "       0.00000000e+00, 0.00000000e+00, 0.00000000e+00, 4.33964311e-03,\n",
       "       4.30086388e-01, 8.88888763e-01, 6.64337140e-01, 8.88665424e-01,\n",
       "       8.80004640e-01, 8.22884223e-01, 7.99907724e-01, 4.21183955e-01,\n",
       "       1.84542391e-01, 1.42926863e-01, 2.27685837e-01, 4.39473486e-01,\n",
       "       7.39782796e-01, 8.88860620e-01, 7.56568470e-01, 8.68696745e-01,\n",
       "       8.68696745e-01, 7.57421057e-01, 8.88803450e-01, 6.69907442e-01,\n",
       "       2.26224712e-01, 1.03940159e-02, 0.00000000e+00, 0.00000000e+00,\n",
       "       0.00000000e+00, 0.00000000e+00, 0.00000000e+00, 6.93739077e-03,\n",
       "       4.66965162e-01, 8.88767342e-01, 6.64081519e-01, 8.87989625e-01,\n",
       "       8.83352546e-01, 8.02191788e-01, 8.56237173e-01, 5.82298979e-01,\n",
       "       4.08553954e-01, 4.35966462e-01, 6.01160003e-01, 8.11896189e-01,\n",
       "       8.85542807e-01, 7.50108633e-01, 8.68125001e-01, 8.80759334e-01,\n",
       "       6.86975640e-01, 8.70184966e-01, 8.22548564e-01, 4.59618255e-01,\n",
       "       1.07973636e-01, 3.47272115e-03, 0.00000000e+00, 0.00000000e+00,\n",
       "       0.00000000e+00, 0.00000000e+00, 0.00000000e+00, 8.66670845e-03,\n",
       "       4.33619691e-01, 8.79987163e-01, 7.22701762e-01, 8.88860497e-01,\n",
       "       8.88724853e-01, 6.62033455e-01, 8.74408880e-01, 8.54145534e-01,\n",
       "       8.00142683e-01, 8.37895874e-01, 8.87506480e-01, 8.46575313e-01,\n",
       "       8.05417955e-01, 8.81304245e-01, 8.87469640e-01, 6.41261190e-01,\n",
       "       8.37563302e-01, 8.67793569e-01, 6.13210382e-01, 2.51522192e-01,\n",
       "       3.52146125e-02, 8.68935499e-04, 0.00000000e+00, 0.00000000e+00,\n",
       "       0.00000000e+00, 8.68935499e-04, 0.00000000e+00, 7.80230095e-03,\n",
       "       3.26647385e-01, 8.16806604e-01, 8.19134114e-01, 8.80759334e-01,\n",
       "       8.73431781e-01, 8.85292307e-01, 5.78445669e-01, 7.41985678e-01,\n",
       "       7.99830603e-01, 7.30972289e-01, 8.09640523e-01, 8.76291297e-01,\n",
       "       8.88827752e-01, 8.88876316e-01, 6.18922870e-01, 8.25915255e-01,\n",
       "       8.76983480e-01, 6.74142701e-01, 3.35900095e-01, 9.01421990e-02,\n",
       "       1.12569160e-02, 0.00000000e+00, 8.68935499e-04, 0.00000000e+00,\n",
       "       0.00000000e+00, 0.00000000e+00, 0.00000000e+00, 8.66670845e-03,\n",
       "       1.86056787e-01, 6.40197925e-01, 8.88675970e-01, 7.84934208e-01,\n",
       "       8.87479567e-01, 8.10805433e-01, 7.96582662e-01, 8.37197414e-01,\n",
       "       8.68010770e-01, 8.72108021e-01, 8.65556425e-01, 8.70015421e-01,\n",
       "       8.88775073e-01, 6.55081180e-01, 8.44292747e-01, 8.68334359e-01,\n",
       "       6.64057003e-01, 3.49611898e-01, 1.11190225e-01, 2.67033425e-02,\n",
       "       2.60529596e-03, 0.00000000e+00, 8.68935499e-04, 0.00000000e+00,\n",
       "       0.00000000e+00, 0.00000000e+00, 0.00000000e+00, 3.47272115e-03,\n",
       "       5.87809594e-02, 3.58642029e-01, 7.43504828e-01, 4.66166432e-01,\n",
       "       7.84934208e-01, 8.88545852e-01, 8.18473509e-01, 7.54948539e-01,\n",
       "       7.64467414e-01, 8.08598880e-01, 8.72492041e-01, 5.38831926e-01,\n",
       "       7.56995022e-01, 8.87107241e-01, 8.11024251e-01, 5.79481573e-01,\n",
       "       2.94927985e-01, 1.05556054e-01, 2.75567189e-02, 8.66670845e-03,\n",
       "       8.68935499e-04, 0.00000000e+00, 8.68935499e-04, 0.00000000e+00,\n",
       "       0.00000000e+00, 0.00000000e+00, 0.00000000e+00, 0.00000000e+00,\n",
       "       9.53061339e-03, 9.50288825e-02, 2.97667086e-01, 6.11443588e-01,\n",
       "       8.50505628e-01, 5.44501440e-01, 7.36851797e-01, 8.36255436e-01,\n",
       "       8.53590255e-01, 6.96548069e-01, 8.24327571e-01, 8.88884352e-01,\n",
       "       8.08376386e-01, 6.06551856e-01, 3.55427158e-01, 1.55403970e-01,\n",
       "       5.54382075e-02, 1.64237738e-02, 3.47272115e-03, 3.47272115e-03,\n",
       "       8.68935499e-04, 0.00000000e+00, 0.00000000e+00, 0.00000000e+00,\n",
       "       0.00000000e+00, 0.00000000e+00, 0.00000000e+00, 0.00000000e+00,\n",
       "       2.60529596e-03, 7.80230095e-03, 3.77582548e-02, 9.34019543e-02,\n",
       "       2.07800844e-01, 3.58642029e-01, 5.14266066e-01, 6.01160003e-01,\n",
       "       6.33070380e-01, 6.03413648e-01, 5.03677879e-01, 3.70755699e-01,\n",
       "       2.41472384e-01, 1.19197476e-01, 5.20875110e-02, 1.98583126e-02,\n",
       "       7.80230095e-03, 4.33964311e-03, 8.68935499e-04, 8.68935499e-04,\n",
       "       0.00000000e+00, 0.00000000e+00, 0.00000000e+00, 0.00000000e+00,\n",
       "       0.00000000e+00, 0.00000000e+00, 0.00000000e+00, 0.00000000e+00,\n",
       "       0.00000000e+00, 0.00000000e+00, 0.00000000e+00, 1.73736745e-03,\n",
       "       4.33964311e-03, 6.93739077e-03, 1.21193139e-02, 1.47034953e-02,\n",
       "       1.03940159e-02, 1.03940159e-02, 7.80230095e-03, 4.33964311e-03,\n",
       "       2.60529596e-03, 8.68935499e-04, 0.00000000e+00, 0.00000000e+00,\n",
       "       0.00000000e+00, 0.00000000e+00, 0.00000000e+00, 0.00000000e+00,\n",
       "       0.00000000e+00, 0.00000000e+00, 0.00000000e+00, 0.00000000e+00,\n",
       "       0.00000000e+00, 0.00000000e+00, 0.00000000e+00, 0.00000000e+00,\n",
       "       0.00000000e+00, 0.00000000e+00, 0.00000000e+00, 0.00000000e+00,\n",
       "       0.00000000e+00, 0.00000000e+00, 0.00000000e+00, 0.00000000e+00,\n",
       "       0.00000000e+00, 0.00000000e+00, 0.00000000e+00, 0.00000000e+00,\n",
       "       0.00000000e+00, 0.00000000e+00, 0.00000000e+00, 0.00000000e+00,\n",
       "       0.00000000e+00, 0.00000000e+00, 0.00000000e+00, 0.00000000e+00,\n",
       "       0.00000000e+00, 0.00000000e+00, 0.00000000e+00, 0.00000000e+00,\n",
       "       0.00000000e+00, 0.00000000e+00, 0.00000000e+00, 0.00000000e+00,\n",
       "       0.00000000e+00, 0.00000000e+00, 0.00000000e+00, 0.00000000e+00,\n",
       "       0.00000000e+00, 0.00000000e+00, 0.00000000e+00, 0.00000000e+00,\n",
       "       0.00000000e+00, 0.00000000e+00, 0.00000000e+00, 0.00000000e+00,\n",
       "       0.00000000e+00, 0.00000000e+00, 0.00000000e+00, 0.00000000e+00,\n",
       "       0.00000000e+00, 0.00000000e+00, 0.00000000e+00, 0.00000000e+00,\n",
       "       0.00000000e+00, 0.00000000e+00, 0.00000000e+00, 0.00000000e+00])"
      ]
     },
     "execution_count": 74,
     "metadata": {},
     "output_type": "execute_result"
    }
   ],
   "source": [
    "fake_data=[]"
   ]
  },
  {
   "cell_type": "code",
   "execution_count": null,
   "metadata": {},
   "outputs": [],
   "source": []
  }
 ],
 "metadata": {
  "kernelspec": {
   "display_name": "Python 3",
   "language": "python",
   "name": "python3"
  },
  "language_info": {
   "codemirror_mode": {
    "name": "ipython",
    "version": 3
   },
   "file_extension": ".py",
   "mimetype": "text/x-python",
   "name": "python",
   "nbconvert_exporter": "python",
   "pygments_lexer": "ipython3",
   "version": "3.6.9"
  }
 },
 "nbformat": 4,
 "nbformat_minor": 2
}
