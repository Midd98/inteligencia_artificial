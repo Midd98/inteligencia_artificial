{
 "cells": [
  {
   "cell_type": "markdown",
   "metadata": {},
   "source": [
    "# Redes Bayesianas\n",
    "Las redes Bayesianas corresponden a un caso particular de factorización de una probabilidad conjunto en que cada factor es también una distribución.\n",
    "\n",
    "El criterio para detectar independencia entre condicional en un grafo probabilístico corresponde a la d-separación, que nos dice que si $x_i$ y $x_j$ están bloqueados por un subconjunto $S \\in X \\setminus \\{x_i,x_j\\}$ de las variables, entonces $x_i$ es independiente de $x_j$ dado $S$. Esto nos lleva también a concluir que en un árbol, cada variable $x_i$ es independiente de sus hijos y sus abuelos, dado el valor de las variables en el conjunto $S$ que contiene a sus padres. \n",
    "\n",
    "\n",
    "En general, podemos decir que podemos garantizar que $x_i \\perp x_j \\vert S$,si no existe ninguna ruta activa entre ambos vertices. Una ruta se dice activa si todas las tripletas que la componen se encuentran activas."
   ]
  },
  {
   "cell_type": "code",
   "execution_count": 2,
   "metadata": {},
   "outputs": [
    {
     "name": "stdout",
     "output_type": "stream",
     "text": [
      "Collecting pgmpy\n",
      "  Using cached https://files.pythonhosted.org/packages/68/6b/661a65aa7788f3aff7228ba81625c540917d656f41e3eb031c6d60b0a25d/pgmpy-0.1.10-py3-none-any.whl\n",
      "Collecting networkx\n",
      "  Using cached https://files.pythonhosted.org/packages/41/8f/dd6a8e85946def36e4f2c69c84219af0fa5e832b018c970e92f2ad337e45/networkx-2.4-py3-none-any.whl\n",
      "Collecting scipy\n",
      "  Using cached https://files.pythonhosted.org/packages/dc/29/162476fd44203116e7980cfbd9352eef9db37c49445d1fec35509022f6aa/scipy-1.4.1-cp36-cp36m-manylinux1_x86_64.whl\n",
      "Collecting pyparsing\n",
      "  Using cached https://files.pythonhosted.org/packages/8a/bb/488841f56197b13700afd5658fc279a2025a39e22449b7cf29864669b15d/pyparsing-2.4.7-py2.py3-none-any.whl\n",
      "Collecting torch\n",
      "  Using cached https://files.pythonhosted.org/packages/13/70/54e9fb010fe1547bc4774716f11ececb81ae5b306c05f090f4461ee13205/torch-1.5.0-cp36-cp36m-manylinux1_x86_64.whl\n",
      "Collecting statsmodels\n",
      "  Using cached https://files.pythonhosted.org/packages/cb/83/540fd83238a18abe6c2d280fa8e489ac5fcefa1f370f0ca1acd16ae1b860/statsmodels-0.11.1-cp36-cp36m-manylinux1_x86_64.whl\n",
      "Collecting numpy\n",
      "  Using cached https://files.pythonhosted.org/packages/b3/a9/b1bc4c935ed063766bce7d3e8c7b20bd52e515ff1c732b02caacf7918e5a/numpy-1.18.5-cp36-cp36m-manylinux1_x86_64.whl\n",
      "Collecting tqdm\n",
      "  Using cached https://files.pythonhosted.org/packages/f3/76/4697ce203a3d42b2ead61127b35e5fcc26bba9a35c03b32a2bd342a4c869/tqdm-4.46.1-py2.py3-none-any.whl\n",
      "Collecting joblib\n",
      "  Using cached https://files.pythonhosted.org/packages/b8/a6/d1a816b89aa1e9e96bcb298eb1ee1854f21662ebc6d55ffa3d7b3b50122b/joblib-0.15.1-py3-none-any.whl\n",
      "Collecting pandas\n",
      "  Using cached https://files.pythonhosted.org/packages/8e/86/c14387d6813ebadb7bf61b9ad270ffff111c8b587e4d266e07de774e385e/pandas-1.0.4-cp36-cp36m-manylinux1_x86_64.whl\n",
      "Collecting decorator>=4.3.0\n",
      "  Using cached https://files.pythonhosted.org/packages/ed/1b/72a1821152d07cf1d8b6fce298aeb06a7eb90f4d6d41acec9861e7cc6df0/decorator-4.4.2-py2.py3-none-any.whl\n",
      "Requirement already satisfied: future in /usr/local/lib/python3.6/dist-packages (from torch->pgmpy) (0.18.2)\n",
      "Collecting patsy>=0.5\n",
      "  Using cached https://files.pythonhosted.org/packages/ea/0c/5f61f1a3d4385d6bf83b83ea495068857ff8dfb89e74824c6e9eb63286d8/patsy-0.5.1-py2.py3-none-any.whl\n",
      "Requirement already satisfied: pytz>=2017.2 in /usr/lib/python3/dist-packages (from pandas->pgmpy) (2018.3)\n",
      "Requirement already satisfied: python-dateutil>=2.6.1 in /usr/lib/python3/dist-packages (from pandas->pgmpy) (2.6.1)\n",
      "Requirement already satisfied: six in /usr/lib/python3/dist-packages (from patsy>=0.5->statsmodels->pgmpy) (1.11.0)\n",
      "Installing collected packages: decorator, networkx, numpy, scipy, pyparsing, torch, pandas, patsy, statsmodels, tqdm, joblib, pgmpy\n",
      "Successfully installed decorator-4.4.2 joblib-0.15.1 networkx-2.4 numpy-1.18.5 pandas-1.0.4 patsy-0.5.1 pgmpy-0.1.10 pyparsing-2.4.7 scipy-1.4.1 statsmodels-0.11.1 torch-1.5.0 tqdm-4.46.1\n",
      "\u001b[33mWARNING: You are using pip version 19.3.1; however, version 20.1.1 is available.\n",
      "You should consider upgrading via the 'pip install --upgrade pip' command.\u001b[0m\n",
      "Processing /home/sergio/.cache/pip/wheels/40/15/30/7d8f7cea2902b4db79e3fea550d7d7b85ecb27ef992b618f3f/wget-3.2-cp36-none-any.whl\n",
      "Installing collected packages: wget\n",
      "Successfully installed wget-3.2\n",
      "\u001b[33mWARNING: You are using pip version 19.3.1; however, version 20.1.1 is available.\n",
      "You should consider upgrading via the 'pip install --upgrade pip' command.\u001b[0m\n"
     ]
    }
   ],
   "source": [
    "! pip install --user pgmpy\n",
    "! pip install --user  wget"
   ]
  },
  {
   "cell_type": "code",
   "execution_count": 13,
   "metadata": {},
   "outputs": [],
   "source": [
    "import pgmpy\n",
    "from pgmpy.readwrite import BIFReader"
   ]
  },
  {
   "cell_type": "code",
   "execution_count": 14,
   "metadata": {},
   "outputs": [
    {
     "data": {
      "text/plain": [
       "True"
      ]
     },
     "execution_count": 14,
     "metadata": {},
     "output_type": "execute_result"
    }
   ],
   "source": [
    "from pgmpy.models import BayesianModel\n",
    "from pgmpy.factors.discrete import TabularCPD\n",
    "\n",
    "# Defining the model structure. We can define the network by just passing a list of edges.\n",
    "model = BayesianModel([('P', 'H'), ('U', 'A'), ('P', 'U'), ('D', 'U')])\n",
    "\n",
    "# Defining individual CPDs.\n",
    "cpd_p = TabularCPD(variable='P', variable_card=2, values=[[0.8, 0.2]])\n",
    "cpd_d = TabularCPD(variable='D', variable_card=2, values=[[0.6, 0.4]])\n",
    "\n",
    "\n",
    "\n",
    "cpd_u = TabularCPD(variable='U', variable_card=2,\n",
    "                        values=[[0.99, 0.1,0.1,0.001],\n",
    "                               [0.01,0.9,0.9,0.999]],\n",
    "                        evidence=['P', 'D'],\n",
    "                        evidence_card=[2, 2])\n",
    "\n",
    "cpd_a = TabularCPD(variable='A', variable_card=2,\n",
    "                      values=[[0.5,0.05],\n",
    "                              [0.5,0.95],],\n",
    "                      evidence=['U'], evidence_card=[2])\n",
    "cpd_h = TabularCPD(variable='H', variable_card=2,\n",
    "                      values=[[0.8, 0.1],\n",
    "                              [0.2,0.9]],\n",
    "                      evidence=['P'], evidence_card=[2])\n",
    "\n",
    "# Associating the CPDs with the network\n",
    "model.add_cpds(cpd_p, cpd_d, cpd_u,cpd_a,cpd_h)\n",
    "\n",
    "# check_model checks for the network structure and CPDs and verifies that the CPDs are correctly \n",
    "# defined and sum to 1.\n",
    "model.check_model()"
   ]
  },
  {
   "cell_type": "code",
   "execution_count": 15,
   "metadata": {},
   "outputs": [
    {
     "name": "stdout",
     "output_type": "stream",
     "text": [
      "+------+-----+\n",
      "| P(0) | 0.8 |\n",
      "+------+-----+\n",
      "| P(1) | 0.2 |\n",
      "+------+-----+\n"
     ]
    }
   ],
   "source": [
    "print(cpd_p)"
   ]
  },
  {
   "cell_type": "code",
   "execution_count": 16,
   "metadata": {},
   "outputs": [
    {
     "name": "stdout",
     "output_type": "stream",
     "text": [
      "+------+-----+\n",
      "| D(0) | 0.6 |\n",
      "+------+-----+\n",
      "| D(1) | 0.4 |\n",
      "+------+-----+\n"
     ]
    }
   ],
   "source": [
    "print(cpd_d)"
   ]
  },
  {
   "cell_type": "code",
   "execution_count": 17,
   "metadata": {},
   "outputs": [
    {
     "name": "stdout",
     "output_type": "stream",
     "text": [
      "+------+------+------+------+-------+\n",
      "| P    | P(0) | P(0) | P(1) | P(1)  |\n",
      "+------+------+------+------+-------+\n",
      "| D    | D(0) | D(1) | D(0) | D(1)  |\n",
      "+------+------+------+------+-------+\n",
      "| U(0) | 0.99 | 0.1  | 0.1  | 0.001 |\n",
      "+------+------+------+------+-------+\n",
      "| U(1) | 0.01 | 0.9  | 0.9  | 0.999 |\n",
      "+------+------+------+------+-------+\n"
     ]
    }
   ],
   "source": [
    "print(cpd_u)\n"
   ]
  },
  {
   "cell_type": "code",
   "execution_count": 18,
   "metadata": {},
   "outputs": [
    {
     "name": "stdout",
     "output_type": "stream",
     "text": [
      "+------+------+------+\n",
      "| P    | P(0) | P(1) |\n",
      "+------+------+------+\n",
      "| H(0) | 0.8  | 0.1  |\n",
      "+------+------+------+\n",
      "| H(1) | 0.2  | 0.9  |\n",
      "+------+------+------+\n"
     ]
    }
   ],
   "source": [
    "print(cpd_h)"
   ]
  },
  {
   "cell_type": "code",
   "execution_count": 19,
   "metadata": {},
   "outputs": [
    {
     "name": "stdout",
     "output_type": "stream",
     "text": [
      "+------+------+------+\n",
      "| U    | U(0) | U(1) |\n",
      "+------+------+------+\n",
      "| A(0) | 0.5  | 0.05 |\n",
      "+------+------+------+\n",
      "| A(1) | 0.5  | 0.95 |\n",
      "+------+------+------+\n"
     ]
    }
   ],
   "source": [
    "print(cpd_a)"
   ]
  },
  {
   "cell_type": "code",
   "execution_count": 20,
   "metadata": {},
   "outputs": [
    {
     "name": "stderr",
     "output_type": "stream",
     "text": [
      "Finding Elimination Order: : 100%|██████████| 4/4 [00:00<00:00, 1733.90it/s]\n",
      "Eliminating: D: 100%|██████████| 4/4 [00:00<00:00, 538.58it/s]"
     ]
    },
    {
     "name": "stdout",
     "output_type": "stream",
     "text": [
      "+------+----------+\n",
      "| P    |   phi(P) |\n",
      "+======+==========+\n",
      "| P(0) |   0.8000 |\n",
      "+------+----------+\n",
      "| P(1) |   0.2000 |\n",
      "+------+----------+\n"
     ]
    },
    {
     "name": "stderr",
     "output_type": "stream",
     "text": [
      "\n"
     ]
    }
   ],
   "source": [
    "from pgmpy.inference import VariableElimination\n",
    "infer = VariableElimination(model)\n",
    "p_dist = infer.query(['P'])\n",
    "print(p_dist)"
   ]
  },
  {
   "cell_type": "code",
   "execution_count": 23,
   "metadata": {},
   "outputs": [
    {
     "name": "stderr",
     "output_type": "stream",
     "text": [
      "Finding Elimination Order: : 100%|██████████| 2/2 [00:00<00:00, 956.29it/s]\n",
      "Eliminating: D: 100%|██████████| 2/2 [00:00<00:00, 420.59it/s]"
     ]
    },
    {
     "name": "stdout",
     "output_type": "stream",
     "text": [
      "+------+----------+\n",
      "| P    |   phi(P) |\n",
      "+======+==========+\n",
      "| P(0) |   0.3903 |\n",
      "+------+----------+\n",
      "| P(1) |   0.6097 |\n",
      "+------+----------+\n"
     ]
    },
    {
     "name": "stderr",
     "output_type": "stream",
     "text": [
      "\n"
     ]
    }
   ],
   "source": [
    "# P(p|a=1,h=1)\n",
    "print(infer.query(['P'], evidence={'A': 1, 'H': 1}))"
   ]
  },
  {
   "cell_type": "code",
   "execution_count": 27,
   "metadata": {},
   "outputs": [
    {
     "name": "stderr",
     "output_type": "stream",
     "text": [
      "Finding Elimination Order: : 100%|██████████| 3/3 [00:00<00:00, 1294.41it/s]\n",
      "Eliminating: D: 100%|██████████| 3/3 [00:00<00:00, 527.25it/s]"
     ]
    },
    {
     "name": "stdout",
     "output_type": "stream",
     "text": [
      "+------+----------+\n",
      "| U    |   phi(U) |\n",
      "+======+==========+\n",
      "| U(0) |   0.0604 |\n",
      "+------+----------+\n",
      "| U(1) |   0.9396 |\n",
      "+------+----------+\n"
     ]
    },
    {
     "name": "stderr",
     "output_type": "stream",
     "text": [
      "\n"
     ]
    }
   ],
   "source": [
    "print(infer.query(['U'], evidence={'P': 1}))"
   ]
  },
  {
   "cell_type": "code",
   "execution_count": 28,
   "metadata": {},
   "outputs": [
    {
     "name": "stderr",
     "output_type": "stream",
     "text": [
      "Finding Elimination Order: : 100%|██████████| 3/3 [00:00<00:00, 1097.22it/s]\n",
      "Eliminating: D: 100%|██████████| 3/3 [00:00<00:00, 597.37it/s]"
     ]
    },
    {
     "name": "stdout",
     "output_type": "stream",
     "text": [
      "+------+----------+\n",
      "| U    |   phi(U) |\n",
      "+======+==========+\n",
      "| U(0) |   0.6340 |\n",
      "+------+----------+\n",
      "| U(1) |   0.3660 |\n",
      "+------+----------+\n"
     ]
    },
    {
     "name": "stderr",
     "output_type": "stream",
     "text": [
      "\n"
     ]
    }
   ],
   "source": [
    "# phi_d(p=0)\n",
    "print(infer.query(['U'], evidence={'P': 0}))"
   ]
  },
  {
   "cell_type": "code",
   "execution_count": 38,
   "metadata": {},
   "outputs": [
    {
     "name": "stderr",
     "output_type": "stream",
     "text": [
      "Finding Elimination Order: : 100%|██████████| 3/3 [00:00<00:00, 1554.21it/s]\n",
      "Eliminating: D: 100%|██████████| 3/3 [00:00<00:00, 670.23it/s]"
     ]
    },
    {
     "name": "stdout",
     "output_type": "stream",
     "text": [
      "+------+----------+\n",
      "| U    |   phi(U) |\n",
      "+======+==========+\n",
      "| U(0) |   0.0604 |\n",
      "+------+----------+\n",
      "| U(1) |   0.9396 |\n",
      "+------+----------+\n"
     ]
    },
    {
     "name": "stderr",
     "output_type": "stream",
     "text": [
      "\n"
     ]
    }
   ],
   "source": [
    "# phi_d(u,p=1)\n",
    "print(infer.query(['U'], evidence={'P': 1}))"
   ]
  },
  {
   "cell_type": "code",
   "execution_count": 30,
   "metadata": {},
   "outputs": [
    {
     "name": "stderr",
     "output_type": "stream",
     "text": [
      "Finding Elimination Order: : 100%|██████████| 3/3 [00:00<00:00, 1113.33it/s]\n",
      "Eliminating: D: 100%|██████████| 3/3 [00:00<00:00, 390.58it/s]"
     ]
    },
    {
     "name": "stdout",
     "output_type": "stream",
     "text": [
      "+------+----------+\n",
      "| A    |   phi(A) |\n",
      "+======+==========+\n",
      "| A(0) |   0.0772 |\n",
      "+------+----------+\n",
      "| A(1) |   0.9228 |\n",
      "+------+----------+\n"
     ]
    },
    {
     "name": "stderr",
     "output_type": "stream",
     "text": [
      "\n"
     ]
    }
   ],
   "source": [
    "# phi_a(a,p=1)\n",
    "print(infer.query(['A'], evidence={'P': 1}))"
   ]
  },
  {
   "cell_type": "code",
   "execution_count": 40,
   "metadata": {},
   "outputs": [
    {
     "name": "stderr",
     "output_type": "stream",
     "text": [
      "Finding Elimination Order: : 100%|██████████| 3/3 [00:00<00:00, 1346.92it/s]\n",
      "Eliminating: D: 100%|██████████| 3/3 [00:00<00:00, 710.18it/s]"
     ]
    },
    {
     "name": "stdout",
     "output_type": "stream",
     "text": [
      "+------+----------+\n",
      "| U    |   phi(U) |\n",
      "+======+==========+\n",
      "| U(0) |   0.6340 |\n",
      "+------+----------+\n",
      "| U(1) |   0.3660 |\n",
      "+------+----------+\n"
     ]
    },
    {
     "name": "stderr",
     "output_type": "stream",
     "text": [
      "\n"
     ]
    }
   ],
   "source": [
    "# phi_d(u,p=0)\n",
    "print(infer.query(['U'], evidence={'P': 0}))"
   ]
  },
  {
   "cell_type": "code",
   "execution_count": 41,
   "metadata": {},
   "outputs": [
    {
     "name": "stderr",
     "output_type": "stream",
     "text": [
      "Finding Elimination Order: : 100%|██████████| 3/3 [00:00<00:00, 1388.08it/s]\n",
      "Eliminating: D: 100%|██████████| 3/3 [00:00<00:00, 521.31it/s]"
     ]
    },
    {
     "name": "stdout",
     "output_type": "stream",
     "text": [
      "+------+----------+\n",
      "| A    |   phi(A) |\n",
      "+======+==========+\n",
      "| A(0) |   0.3353 |\n",
      "+------+----------+\n",
      "| A(1) |   0.6647 |\n",
      "+------+----------+\n"
     ]
    },
    {
     "name": "stderr",
     "output_type": "stream",
     "text": [
      "\n"
     ]
    }
   ],
   "source": [
    "# phi_a(a,p=0)\n",
    "print(infer.query(['A'], evidence={'P': 0}))"
   ]
  },
  {
   "cell_type": "code",
   "execution_count": 42,
   "metadata": {},
   "outputs": [
    {
     "name": "stderr",
     "output_type": "stream",
     "text": [
      "Finding Elimination Order: : 100%|██████████| 2/2 [00:00<00:00, 567.80it/s]\n",
      "Eliminating: D: 100%|██████████| 2/2 [00:00<00:00, 501.29it/s]"
     ]
    },
    {
     "name": "stdout",
     "output_type": "stream",
     "text": [
      "+------+----------+\n",
      "| P    |   phi(P) |\n",
      "+======+==========+\n",
      "| P(0) |   0.3903 |\n",
      "+------+----------+\n",
      "| P(1) |   0.6097 |\n",
      "+------+----------+\n"
     ]
    },
    {
     "name": "stderr",
     "output_type": "stream",
     "text": [
      "\n"
     ]
    }
   ],
   "source": [
    "print(infer.query(['P'], evidence={'A': 1, 'H': 1}))"
   ]
  },
  {
   "cell_type": "code",
   "execution_count": 47,
   "metadata": {},
   "outputs": [
    {
     "name": "stdout",
     "output_type": "stream",
     "text": [
      "p(h=1|p=1)p(p=1)phi_u(a=1,p=1)=0.17\n",
      "p(h=1|p=0)p(p=0)phi_u(a=1,p=0)=0.11\n",
      "p(p=1|h=1,a=1)=0.6097\n"
     ]
    }
   ],
   "source": [
    "p1=0.9*0.2*0.9228\n",
    "p2=0.2*0.8*0.6647\n",
    "p3=p1/(p1+p2)\n",
    "print('p(h=1|p=1)p(p=1)phi_u(a=1,p=1)={0:0.2f}'.format(p1))\n",
    "print('p(h=1|p=0)p(p=0)phi_u(a=1,p=0)={0:0.2f}'.format(p2))\n",
    "print('p(p=1|h=1,a=1)={0:0.4f}'.format(p3))"
   ]
  },
  {
   "cell_type": "markdown",
   "metadata": {},
   "source": [
    "# Red Asia"
   ]
  },
  {
   "cell_type": "code",
   "execution_count": 1,
   "metadata": {},
   "outputs": [],
   "source": [
    "import wget\n",
    "import gzip\n",
    "f = wget.download('http://www.bnlearn.com/bnrepository/asia/asia.bif.gz')\n",
    "with gzip.open('asia.bif.gz', mode='rb') as f:\n",
    "    file_content=f.read()\n",
    "with open('asia.bif', mode='wb') as f:\n",
    "    f.write(file_content)"
   ]
  },
  {
   "cell_type": "code",
   "execution_count": 2,
   "metadata": {},
   "outputs": [],
   "source": [
    "from pgmpy.readwrite import BIFReader\n",
    "reader = BIFReader('asia.bif')\n",
    "!rm asia.bif\n",
    "!rm asia.bif.gz\n",
    "model = reader.get_model()"
   ]
  },
  {
   "cell_type": "code",
   "execution_count": 6,
   "metadata": {},
   "outputs": [],
   "source": [
    "#reader=BIFReader('data/asia.bif')\n",
    "#model=reader.get_model()"
   ]
  },
  {
   "cell_type": "code",
   "execution_count": 3,
   "metadata": {},
   "outputs": [
    {
     "data": {
      "text/plain": [
       "NodeView(('asia', 'tub', 'smoke', 'lung', 'bronc', 'either', 'xray', 'dysp'))"
      ]
     },
     "execution_count": 3,
     "metadata": {},
     "output_type": "execute_result"
    }
   ],
   "source": [
    "model.nodes()"
   ]
  },
  {
   "cell_type": "code",
   "execution_count": 4,
   "metadata": {},
   "outputs": [
    {
     "data": {
      "image/png": "[encoded data removed]",
      "text/plain": [
       "<IPython.core.display.Image object>"
      ]
     },
     "execution_count": 4,
     "metadata": {},
     "output_type": "execute_result"
    }
   ],
   "source": [
    "from IPython.display import Image\n",
    "Image('data/asia.png')"
   ]
  },
  {
   "cell_type": "code",
   "execution_count": 8,
   "metadata": {},
   "outputs": [
    {
     "data": {
      "text/plain": [
       "True"
      ]
     },
     "execution_count": 8,
     "metadata": {},
     "output_type": "execute_result"
    }
   ],
   "source": [
    "model.is_active_trail('tub', 'smoke', observed='dysp')"
   ]
  },
  {
   "cell_type": "code",
   "execution_count": 9,
   "metadata": {},
   "outputs": [
    {
     "data": {
      "text/plain": [
       "False"
      ]
     },
     "execution_count": 9,
     "metadata": {},
     "output_type": "execute_result"
    }
   ],
   "source": [
    "model.is_active_trail('tub', 'smoke')"
   ]
  },
  {
   "cell_type": "code",
   "execution_count": 6,
   "metadata": {},
   "outputs": [
    {
     "data": {
      "text/plain": [
       "False"
      ]
     },
     "execution_count": 6,
     "metadata": {},
     "output_type": "execute_result"
    }
   ],
   "source": [
    "model.is_active_trail('lung', 'bronc', observed='smoke')"
   ]
  },
  {
   "cell_type": "code",
   "execution_count": 7,
   "metadata": {},
   "outputs": [
    {
     "data": {
      "text/plain": [
       "False"
      ]
     },
     "execution_count": 7,
     "metadata": {},
     "output_type": "execute_result"
    }
   ],
   "source": [
    "model.is_active_trail('asia', 'smoke', observed='lung')"
   ]
  },
  {
   "cell_type": "code",
   "execution_count": 8,
   "metadata": {},
   "outputs": [
    {
     "data": {
      "text/plain": [
       "True"
      ]
     },
     "execution_count": 8,
     "metadata": {},
     "output_type": "execute_result"
    }
   ],
   "source": [
    "model.is_active_trail('asia', 'smoke', observed=['lung','dysp'])"
   ]
  },
  {
   "cell_type": "code",
   "execution_count": 12,
   "metadata": {},
   "outputs": [
    {
     "data": {
      "text/plain": [
       "(asia _|_ lung, bronc, smoke)\n",
       "(asia _|_ xray | either)\n",
       "(asia _|_ bronc, smoke | lung)\n",
       "(asia _|_ bronc, lung | smoke)\n",
       "(asia _|_ lung, smoke | bronc)\n",
       "(asia _|_ bronc, either, xray, dysp, lung, smoke | tub)\n",
       "(asia _|_ dysp, xray, bronc, smoke | either, lung)\n",
       "(asia _|_ dysp, xray, bronc | either, smoke)\n",
       "(asia _|_ xray | dysp, either)\n",
       "(asia _|_ dysp, xray | either, bronc)\n",
       "(asia _|_ bronc, xray, dysp, lung, smoke | either, tub)\n",
       "(asia _|_ bronc, smoke | xray, lung)\n",
       "(asia _|_ bronc | lung, smoke)\n",
       "(asia _|_ smoke | bronc, lung)\n",
       "(asia _|_ xray, either, dysp, bronc, smoke | lung, tub)\n",
       "(asia _|_ bronc | xray, smoke)\n",
       "(asia _|_ bronc, either, dysp, lung, smoke | xray, tub)\n",
       "(asia _|_ lung | bronc, smoke)\n",
       "(asia _|_ bronc, xray, either, dysp, lung | tub, smoke)\n",
       "(asia _|_ bronc, xray, either, lung, smoke | dysp, tub)\n",
       "(asia _|_ xray, either, dysp, lung, smoke | bronc, tub)\n",
       "(asia _|_ dysp, bronc, smoke | xray, either, lung)\n",
       "(asia _|_ dysp, xray, bronc | either, lung, smoke)\n",
       "(asia _|_ xray, bronc, smoke | dysp, either, lung)\n",
       "(asia _|_ dysp, xray, smoke | bronc, either, lung)\n",
       "(asia _|_ dysp, xray, bronc, smoke | either, lung, tub)\n",
       "(asia _|_ dysp, bronc | xray, either, smoke)\n",
       "(asia _|_ dysp | xray, either, bronc)\n",
       "(asia _|_ dysp, lung, bronc, smoke | xray, either, tub)\n",
       "(asia _|_ xray, bronc | dysp, either, smoke)\n",
       "(asia _|_ dysp, xray | either, bronc, smoke)\n",
       "(asia _|_ dysp, xray, lung, bronc | either, tub, smoke)\n",
       "(asia _|_ xray | dysp, either, bronc)\n",
       "(asia _|_ xray, lung, bronc, smoke | dysp, either, tub)\n",
       "(asia _|_ dysp, xray, lung, smoke | either, bronc, tub)\n",
       "(asia _|_ bronc | xray, lung, smoke)\n",
       "(asia _|_ smoke | bronc, xray, lung)\n",
       "(asia _|_ dysp, either, bronc, smoke | xray, lung, tub)\n",
       "(asia _|_ bronc, dysp, xray, either | tub, lung, smoke)\n",
       "(asia _|_ smoke | bronc, dysp, lung)\n",
       "(asia _|_ bronc, xray, either, smoke | dysp, lung, tub)\n",
       "(asia _|_ dysp, xray, either, smoke | bronc, lung, tub)\n",
       "(asia _|_ dysp, either, lung, bronc | xray, tub, smoke)\n",
       "(asia _|_ either, lung, bronc, smoke | dysp, xray, tub)\n",
       "(asia _|_ dysp, either, lung, smoke | xray, bronc, tub)\n",
       "(asia _|_ either, xray, lung, bronc | dysp, tub, smoke)\n",
       "(asia _|_ dysp, xray, lung, either | tub, bronc, smoke)\n",
       "(asia _|_ xray, lung, either, smoke | dysp, bronc, tub)\n",
       "(asia _|_ dysp, bronc | xray, either, lung, smoke)\n",
       "(asia _|_ bronc, smoke | dysp, xray, either, lung)\n",
       "(asia _|_ dysp, smoke | bronc, xray, either, lung)\n",
       "(asia _|_ dysp, bronc, smoke | xray, either, lung, tub)\n",
       "(asia _|_ xray, bronc | dysp, either, lung, smoke)\n",
       "(asia _|_ dysp, xray | bronc, either, lung, smoke)\n",
       "(asia _|_ dysp, xray, bronc | tub, either, lung, smoke)\n",
       "(asia _|_ xray, smoke | bronc, dysp, either, lung)\n",
       "(asia _|_ xray, bronc, smoke | dysp, either, lung, tub)\n",
       "(asia _|_ dysp, xray, smoke | bronc, either, lung, tub)\n",
       "(asia _|_ bronc | dysp, xray, either, smoke)\n",
       "(asia _|_ dysp | xray, either, bronc, smoke)\n",
       "(asia _|_ dysp, lung, bronc | xray, either, tub, smoke)\n",
       "(asia _|_ lung, bronc, smoke | dysp, xray, either, tub)\n",
       "(asia _|_ dysp, lung, smoke | xray, either, bronc, tub)\n",
       "(asia _|_ xray | dysp, either, bronc, smoke)\n",
       "(asia _|_ xray, lung, bronc | dysp, either, tub, smoke)\n",
       "(asia _|_ dysp, xray, lung | tub, either, bronc, smoke)\n",
       "(asia _|_ xray, lung, smoke | dysp, either, bronc, tub)\n",
       "(asia _|_ dysp, either, bronc | tub, xray, lung, smoke)\n",
       "(asia _|_ smoke | bronc, dysp, xray, lung)\n",
       "(asia _|_ either, bronc, smoke | dysp, xray, lung, tub)\n",
       "(asia _|_ dysp, either, smoke | bronc, xray, lung, tub)\n",
       "(asia _|_ bronc, xray, either | tub, dysp, lung, smoke)\n",
       "(asia _|_ dysp, xray, either | tub, bronc, lung, smoke)\n",
       "(asia _|_ xray, either, smoke | bronc, dysp, lung, tub)\n",
       "(asia _|_ either, lung, bronc | dysp, xray, tub, smoke)\n",
       "(asia _|_ dysp, either, lung | tub, xray, bronc, smoke)\n",
       "(asia _|_ either, lung, smoke | dysp, xray, bronc, tub)\n",
       "(asia _|_ xray, lung, either | tub, dysp, bronc, smoke)\n",
       "(asia _|_ bronc | xray, either, smoke, dysp, lung)\n",
       "(asia _|_ dysp | xray, either, lung, smoke, bronc)\n",
       "(asia _|_ dysp, bronc | xray, either, smoke, lung, tub)\n",
       "(asia _|_ smoke | xray, either, lung, dysp, bronc)\n",
       "(asia _|_ bronc, smoke | xray, either, dysp, lung, tub)\n",
       "(asia _|_ dysp, smoke | xray, either, lung, bronc, tub)\n",
       "(asia _|_ xray | either, lung, smoke, dysp, bronc)\n",
       "(asia _|_ xray, bronc | either, smoke, dysp, lung, tub)\n",
       "(asia _|_ dysp, xray | either, lung, smoke, bronc, tub)\n",
       "(asia _|_ xray, smoke | either, lung, dysp, bronc, tub)\n",
       "(asia _|_ lung, bronc | xray, either, smoke, dysp, tub)\n",
       "(asia _|_ dysp, lung | xray, either, smoke, bronc, tub)\n",
       "(asia _|_ lung, smoke | xray, either, dysp, bronc, tub)\n",
       "(asia _|_ xray, lung | either, smoke, dysp, bronc, tub)\n",
       "(asia _|_ either, bronc | xray, smoke, dysp, lung, tub)\n",
       "(asia _|_ dysp, either | xray, lung, smoke, bronc, tub)\n",
       "(asia _|_ either, smoke | xray, lung, dysp, bronc, tub)\n",
       "(asia _|_ xray, either | lung, smoke, dysp, bronc, tub)\n",
       "(asia _|_ either, lung | xray, smoke, dysp, bronc, tub)\n",
       "(asia _|_ bronc | xray, either, smoke, dysp, lung, tub)\n",
       "(asia _|_ dysp | xray, either, lung, smoke, bronc, tub)\n",
       "(asia _|_ smoke | xray, either, lung, dysp, bronc, tub)\n",
       "(asia _|_ xray | either, lung, smoke, dysp, bronc, tub)\n",
       "(asia _|_ lung | xray, either, smoke, dysp, bronc, tub)\n",
       "(asia _|_ either | xray, lung, smoke, dysp, bronc, tub)\n",
       "(tub _|_ lung, bronc, smoke)\n",
       "(tub _|_ xray | either)\n",
       "(tub _|_ bronc, smoke | lung)\n",
       "(tub _|_ lung, bronc, smoke | asia)\n",
       "(tub _|_ lung, bronc | smoke)\n",
       "(tub _|_ lung, smoke | bronc)\n",
       "(tub _|_ dysp, xray, bronc, smoke | either, lung)\n",
       "(tub _|_ xray | either, asia)\n",
       "(tub _|_ dysp, xray, bronc | either, smoke)\n",
       "(tub _|_ xray | dysp, either)\n",
       "(tub _|_ dysp, xray | either, bronc)\n",
       "(tub _|_ bronc, smoke | xray, lung)\n",
       "(tub _|_ bronc, smoke | asia, lung)\n",
       "(tub _|_ bronc | lung, smoke)\n",
       "(tub _|_ smoke | bronc, lung)\n",
       "(tub _|_ bronc | xray, smoke)\n",
       "(tub _|_ bronc, lung | asia, smoke)\n",
       "(tub _|_ lung, smoke | bronc, asia)\n",
       "(tub _|_ lung | bronc, smoke)\n",
       "(tub _|_ dysp, bronc, smoke | xray, either, lung)\n",
       "(tub _|_ dysp, xray, bronc, smoke | either, asia, lung)\n",
       "(tub _|_ dysp, xray, bronc | either, lung, smoke)\n",
       "(tub _|_ xray, bronc, smoke | dysp, either, lung)\n",
       "(tub _|_ dysp, xray, smoke | bronc, either, lung)\n",
       "(tub _|_ dysp, bronc | xray, either, smoke)\n",
       "(tub _|_ dysp | xray, either, bronc)\n",
       "(tub _|_ dysp, xray, bronc | either, asia, smoke)\n",
       "(tub _|_ xray | dysp, either, asia)\n",
       "(tub _|_ dysp, xray | bronc, either, asia)\n",
       "(tub _|_ xray, bronc | dysp, either, smoke)\n",
       "(tub _|_ dysp, xray | either, bronc, smoke)\n",
       "(tub _|_ xray | dysp, either, bronc)\n",
       "(tub _|_ bronc, smoke | xray, asia, lung)\n",
       "(tub _|_ bronc | xray, lung, smoke)\n",
       "(tub _|_ smoke | bronc, xray, lung)\n",
       "(tub _|_ bronc | asia, lung, smoke)\n",
       "(tub _|_ smoke | bronc, asia, lung)\n",
       "(tub _|_ smoke | bronc, dysp, lung)\n",
       "(tub _|_ bronc | xray, asia, smoke)\n",
       "(tub _|_ lung | bronc, asia, smoke)\n",
       "(tub _|_ dysp, bronc, smoke | xray, either, asia, lung)\n",
       "(tub _|_ dysp, bronc | xray, either, lung, smoke)\n",
       "(tub _|_ bronc, smoke | dysp, xray, either, lung)\n",
       "(tub _|_ dysp, smoke | bronc, xray, either, lung)\n",
       "(tub _|_ dysp, xray, bronc | either, asia, lung, smoke)\n",
       "(tub _|_ xray, bronc, smoke | dysp, either, asia, lung)\n",
       "(tub _|_ dysp, xray, smoke | bronc, either, asia, lung)\n",
       "(tub _|_ xray, bronc | dysp, either, lung, smoke)\n",
       "(tub _|_ dysp, xray | bronc, either, lung, smoke)\n",
       "(tub _|_ xray, smoke | bronc, dysp, either, lung)\n",
       "(tub _|_ dysp, bronc | xray, either, asia, smoke)\n",
       "(tub _|_ dysp | bronc, xray, either, asia)\n",
       "(tub _|_ bronc | dysp, xray, either, smoke)\n",
       "(tub _|_ dysp | xray, either, bronc, smoke)\n",
       "(tub _|_ xray, bronc | dysp, either, asia, smoke)\n",
       "(tub _|_ dysp, xray | bronc, either, asia, smoke)\n",
       "(tub _|_ xray | bronc, dysp, either, asia)\n",
       "(tub _|_ xray | dysp, either, bronc, smoke)\n",
       "(tub _|_ bronc | xray, asia, lung, smoke)\n",
       "(tub _|_ smoke | bronc, xray, asia, lung)\n",
       "(tub _|_ smoke | bronc, dysp, xray, lung)\n",
       "(tub _|_ smoke | bronc, dysp, asia, lung)\n",
       "(tub _|_ dysp, bronc | xray, either, asia, smoke, lung)\n",
       "(tub _|_ bronc, smoke | xray, either, asia, dysp, lung)\n",
       "(tub _|_ dysp, smoke | xray, either, lung, asia, bronc)\n",
       "(tub _|_ bronc | xray, either, smoke, dysp, lung)\n",
       "(tub _|_ dysp | xray, either, lung, smoke, bronc)\n",
       "(tub _|_ smoke | xray, either, lung, dysp, bronc)\n",
       "(tub _|_ xray, bronc | either, asia, smoke, dysp, lung)\n",
       "(tub _|_ dysp, xray | either, lung, asia, smoke, bronc)\n",
       "(tub _|_ xray, smoke | either, lung, asia, dysp, bronc)\n",
       "(tub _|_ xray | either, lung, smoke, dysp, bronc)\n",
       "(tub _|_ bronc | xray, either, asia, smoke, dysp)\n",
       "(tub _|_ dysp | xray, either, asia, smoke, bronc)\n",
       "(tub _|_ xray | either, asia, smoke, dysp, bronc)\n",
       "(tub _|_ smoke | xray, lung, asia, dysp, bronc)\n",
       "(tub _|_ bronc | xray, either, asia, smoke, dysp, lung)\n",
       "(tub _|_ dysp | bronc, xray, either, asia, smoke, lung)\n",
       "(tub _|_ smoke | bronc, xray, either, asia, dysp, lung)\n",
       "(tub _|_ xray | bronc, either, asia, smoke, dysp, lung)\n",
       "(smoke _|_ asia, tub)\n",
       "(smoke _|_ xray | either)\n",
       "(smoke _|_ xray, asia, either, tub | lung)\n",
       "(smoke _|_ tub | asia)\n",
       "(smoke _|_ asia, tub | bronc)\n",
       "(smoke _|_ asia | tub)\n",
       "(smoke _|_ xray, asia, tub | either, lung)\n",
       "(smoke _|_ xray | either, asia)\n",
       "(smoke _|_ xray | dysp, either)\n",
       "(smoke _|_ dysp, xray | either, bronc)\n",
       "(smoke _|_ xray, asia | either, tub)\n",
       "(smoke _|_ either, asia, tub | xray, lung)\n",
       "(smoke _|_ xray, either, tub | asia, lung)\n",
       "(smoke _|_ xray, either, dysp, asia, tub | bronc, lung)\n",
       "(smoke _|_ xray, asia, either | lung, tub)\n",
       "(smoke _|_ asia | xray, tub)\n",
       "(smoke _|_ tub | bronc, asia)\n",
       "(smoke _|_ asia | dysp, tub)\n",
       "(smoke _|_ asia | bronc, tub)\n",
       "(smoke _|_ asia, tub | xray, either, lung)\n",
       "(smoke _|_ xray, tub | either, asia, lung)\n",
       "(smoke _|_ xray, asia, tub | dysp, either, lung)\n",
       "(smoke _|_ dysp, xray, asia, tub | bronc, either, lung)\n",
       "(smoke _|_ xray, asia | either, lung, tub)\n",
       "(smoke _|_ dysp | xray, either, bronc)\n",
       "(smoke _|_ asia | xray, either, tub)\n",
       "(smoke _|_ xray | dysp, either, asia)\n",
       "(smoke _|_ dysp, xray | bronc, either, asia)\n",
       "(smoke _|_ xray | either, asia, tub)\n",
       "(smoke _|_ xray | dysp, either, bronc)\n",
       "(smoke _|_ xray, asia | dysp, either, tub)\n",
       "(smoke _|_ dysp, xray, asia | either, bronc, tub)\n",
       "(smoke _|_ either, tub | xray, asia, lung)\n",
       "(smoke _|_ dysp, either, asia, tub | bronc, xray, lung)\n",
       "(smoke _|_ either, asia | xray, lung, tub)\n",
       "(smoke _|_ dysp, xray, either, tub | bronc, asia, lung)\n",
       "(smoke _|_ xray, either | asia, lung, tub)\n",
       "(smoke _|_ xray, asia, either, tub | bronc, dysp, lung)\n",
       "(smoke _|_ asia | dysp, lung, tub)\n",
       "(smoke _|_ dysp, xray, asia, either | bronc, lung, tub)\n",
       "(smoke _|_ asia | dysp, xray, tub)\n",
       "(smoke _|_ asia | xray, bronc, tub)\n",
       "(smoke _|_ asia | dysp, bronc, tub)\n",
       "(smoke _|_ tub | xray, either, asia, lung)\n",
       "(smoke _|_ asia, tub | dysp, xray, either, lung)\n",
       "(smoke _|_ dysp, asia, tub | bronc, xray, either, lung)\n",
       "(smoke _|_ asia | xray, either, lung, tub)\n",
       "(smoke _|_ xray, tub | dysp, either, asia, lung)\n",
       "(smoke _|_ dysp, xray, tub | bronc, either, asia, lung)\n",
       "(smoke _|_ xray | either, asia, lung, tub)\n",
       "(smoke _|_ xray, asia, tub | bronc, dysp, either, lung)\n",
       "(smoke _|_ xray, asia | dysp, either, lung, tub)\n",
       "(smoke _|_ dysp, xray, asia | bronc, either, lung, tub)\n",
       "(smoke _|_ dysp | bronc, xray, either, asia)\n",
       "(smoke _|_ asia | dysp, xray, either, tub)\n",
       "(smoke _|_ dysp, asia | xray, either, bronc, tub)\n",
       "(smoke _|_ xray | bronc, dysp, either, asia)\n",
       "(smoke _|_ xray | dysp, either, asia, tub)\n",
       "(smoke _|_ dysp, xray | bronc, either, asia, tub)\n",
       "(smoke _|_ xray, asia | dysp, either, bronc, tub)\n",
       "(smoke _|_ dysp, either, tub | bronc, xray, asia, lung)\n",
       "(smoke _|_ either | xray, asia, lung, tub)\n",
       "(smoke _|_ either, asia, tub | bronc, dysp, xray, lung)\n",
       "(smoke _|_ asia | dysp, xray, lung, tub)\n",
       "(smoke _|_ dysp, either, asia | bronc, xray, lung, tub)\n",
       "(smoke _|_ xray, either, tub | bronc, dysp, asia, lung)\n",
       "(smoke _|_ dysp, xray, either | bronc, asia, lung, tub)\n",
       "(smoke _|_ xray, asia, either | bronc, dysp, lung, tub)\n",
       "(smoke _|_ asia | dysp, xray, bronc, tub)\n",
       "(smoke _|_ tub | xray, either, asia, dysp, lung)\n",
       "(smoke _|_ dysp, tub | xray, either, lung, asia, bronc)\n",
       "(smoke _|_ asia, tub | xray, either, lung, dysp, bronc)\n",
       "(smoke _|_ asia | xray, either, dysp, lung, tub)\n",
       "(smoke _|_ dysp, asia | xray, either, lung, bronc, tub)\n",
       "(smoke _|_ xray, tub | either, lung, asia, dysp, bronc)\n",
       "(smoke _|_ xray | either, asia, dysp, lung, tub)\n",
       "(smoke _|_ dysp, xray | either, lung, asia, bronc, tub)\n",
       "(smoke _|_ xray, asia | either, lung, dysp, bronc, tub)\n",
       "(smoke _|_ dysp | xray, either, asia, bronc, tub)\n",
       "(smoke _|_ asia | xray, either, dysp, bronc, tub)\n",
       "(smoke _|_ xray | either, asia, dysp, bronc, tub)\n",
       "(smoke _|_ either, tub | xray, lung, asia, dysp, bronc)\n",
       "(smoke _|_ dysp, either | xray, lung, asia, bronc, tub)\n",
       "(smoke _|_ either, asia | xray, lung, dysp, bronc, tub)\n",
       "(smoke _|_ xray, either | lung, asia, dysp, bronc, tub)\n",
       "(smoke _|_ tub | bronc, xray, either, asia, dysp, lung)\n",
       "(smoke _|_ dysp | xray, either, lung, asia, bronc, tub)\n",
       "(smoke _|_ asia | xray, either, lung, dysp, bronc, tub)\n",
       "(smoke _|_ xray | either, lung, asia, dysp, bronc, tub)\n",
       "(smoke _|_ either | xray, lung, asia, dysp, bronc, tub)\n",
       "(lung _|_ asia, tub)\n",
       "(lung _|_ xray | either)\n",
       "(lung _|_ tub | asia)\n",
       "(lung _|_ bronc, asia, tub | smoke)\n",
       "(lung _|_ asia, tub | bronc)\n",
       "(lung _|_ asia | tub)\n",
       "(lung _|_ xray | either, asia)\n",
       "(lung _|_ dysp, xray, bronc | either, smoke)\n",
       "(lung _|_ xray | dysp, either)\n",
       "(lung _|_ dysp, xray | either, bronc)\n",
       "(lung _|_ xray, asia | either, tub)\n",
       "(lung _|_ bronc | xray, smoke)\n",
       "(lung _|_ asia | xray, tub)\n",
       "(lung _|_ bronc, tub | asia, smoke)\n",
       "(lung _|_ tub | bronc, asia)\n",
       "(lung _|_ asia, tub | bronc, smoke)\n",
       "(lung _|_ bronc, asia | tub, smoke)\n",
       "(lung _|_ asia | dysp, tub)\n",
       "(lung _|_ asia | bronc, tub)\n",
       "(lung _|_ dysp, bronc | xray, either, smoke)\n",
       "(lung _|_ dysp | xray, either, bronc)\n",
       "(lung _|_ asia | xray, either, tub)\n",
       "(lung _|_ dysp, xray, bronc | either, asia, smoke)\n",
       "(lung _|_ xray | dysp, either, asia)\n",
       "(lung _|_ dysp, xray | bronc, either, asia)\n",
       "(lung _|_ xray | either, asia, tub)\n",
       "(lung _|_ xray, bronc | dysp, either, smoke)\n",
       "(lung _|_ dysp, xray | either, bronc, smoke)\n",
       "(lung _|_ dysp, xray, asia, bronc | either, tub, smoke)\n",
       "(lung _|_ xray | dysp, either, bronc)\n",
       "(lung _|_ xray, asia | dysp, either, tub)\n",
       "(lung _|_ dysp, xray, asia | either, bronc, tub)\n",
       "(lung _|_ bronc | xray, asia, smoke)\n",
       "(lung _|_ asia, bronc | xray, tub, smoke)\n",
       "(lung _|_ asia | dysp, xray, tub)\n",
       "(lung _|_ asia | xray, bronc, tub)\n",
       "(lung _|_ tub | bronc, asia, smoke)\n",
       "(lung _|_ bronc | tub, asia, smoke)\n",
       "(lung _|_ asia | dysp, tub, smoke)\n",
       "(lung _|_ asia | tub, bronc, smoke)\n",
       "(lung _|_ asia | dysp, bronc, tub)\n",
       "(lung _|_ dysp, bronc | xray, either, asia, smoke)\n",
       "(lung _|_ dysp | bronc, xray, either, asia)\n",
       "(lung _|_ bronc | dysp, xray, either, smoke)\n",
       "(lung _|_ dysp | xray, either, bronc, smoke)\n",
       "(lung _|_ dysp, asia, bronc | xray, either, tub, smoke)\n",
       "(lung _|_ asia | dysp, xray, either, tub)\n",
       "(lung _|_ dysp, asia | xray, either, bronc, tub)\n",
       "(lung _|_ xray, bronc | dysp, either, asia, smoke)\n",
       "(lung _|_ dysp, xray | bronc, either, asia, smoke)\n",
       "(lung _|_ dysp, xray, bronc | tub, either, asia, smoke)\n",
       "(lung _|_ xray | bronc, dysp, either, asia)\n",
       "(lung _|_ xray | dysp, either, asia, tub)\n",
       "(lung _|_ dysp, xray | bronc, either, asia, tub)\n",
       "(lung _|_ xray | dysp, either, bronc, smoke)\n",
       "(lung _|_ xray, asia, bronc | dysp, either, tub, smoke)\n",
       "(lung _|_ dysp, xray, asia | tub, either, bronc, smoke)\n",
       "(lung _|_ xray, asia | dysp, either, bronc, tub)\n",
       "(lung _|_ bronc | tub, xray, asia, smoke)\n",
       "(lung _|_ asia | dysp, xray, tub, smoke)\n",
       "(lung _|_ asia | tub, xray, bronc, smoke)\n",
       "(lung _|_ asia | dysp, xray, bronc, tub)\n",
       "(lung _|_ asia | tub, dysp, bronc, smoke)\n",
       "(lung _|_ bronc | xray, either, asia, smoke, dysp)\n",
       "(lung _|_ dysp | xray, either, asia, smoke, bronc)\n",
       "(lung _|_ dysp, bronc | xray, either, asia, smoke, tub)\n",
       "(lung _|_ dysp | xray, either, asia, bronc, tub)\n",
       "(lung _|_ asia, bronc | xray, either, smoke, dysp, tub)\n",
       "(lung _|_ dysp, asia | xray, either, smoke, bronc, tub)\n",
       "(lung _|_ asia | xray, either, dysp, bronc, tub)\n",
       "(lung _|_ xray | either, asia, smoke, dysp, bronc)\n",
       "(lung _|_ xray, bronc | either, asia, smoke, dysp, tub)\n",
       "(lung _|_ dysp, xray | either, asia, smoke, bronc, tub)\n",
       "(lung _|_ xray | either, asia, dysp, bronc, tub)\n",
       "(lung _|_ xray, asia | either, smoke, dysp, bronc, tub)\n",
       "(lung _|_ asia | xray, smoke, dysp, bronc, tub)\n",
       "(lung _|_ bronc | xray, either, asia, smoke, dysp, tub)\n",
       "(lung _|_ dysp | xray, either, asia, smoke, bronc, tub)\n",
       "(lung _|_ asia | xray, either, smoke, dysp, bronc, tub)\n",
       "(lung _|_ xray | either, asia, smoke, dysp, bronc, tub)\n",
       "(bronc _|_ asia, tub)\n",
       "(bronc _|_ xray | either)\n",
       "(bronc _|_ xray, asia, either, tub | lung)\n",
       "(bronc _|_ tub | asia)\n",
       "(bronc _|_ xray, either, lung, asia, tub | smoke)\n",
       "(bronc _|_ asia | tub)\n",
       "(bronc _|_ xray, asia, tub | either, lung)\n",
       "(bronc _|_ xray | either, asia)\n",
       "(bronc _|_ xray, lung, asia, tub | either, smoke)\n",
       "(bronc _|_ xray | dysp, either)\n",
       "(bronc _|_ xray, asia | either, tub)\n",
       "(bronc _|_ either, asia, tub | xray, lung)\n",
       "(bronc _|_ xray, either, tub | asia, lung)\n",
       "(bronc _|_ xray, asia, either, tub | lung, smoke)\n",
       "(bronc _|_ xray, asia, either | lung, tub)\n",
       "(bronc _|_ either, lung, asia, tub | xray, smoke)\n",
       "(bronc _|_ asia | xray, tub)\n",
       "(bronc _|_ xray, lung, either, tub | asia, smoke)\n",
       "(bronc _|_ lung, xray, asia, either | tub, smoke)\n",
       "(bronc _|_ asia | dysp, tub)\n",
       "(bronc _|_ asia, tub | xray, either, lung)\n",
       "(bronc _|_ xray, tub | either, asia, lung)\n",
       "(bronc _|_ xray, asia, tub | either, lung, smoke)\n",
       "(bronc _|_ xray, asia, tub | dysp, either, lung)\n",
       "(bronc _|_ xray, asia | either, lung, tub)\n",
       "(bronc _|_ lung, asia, tub | xray, either, smoke)\n",
       "(bronc _|_ asia | xray, either, tub)\n",
       "(bronc _|_ xray, lung, tub | either, asia, smoke)\n",
       "(bronc _|_ xray | dysp, either, asia)\n",
       "(bronc _|_ xray | either, asia, tub)\n",
       "(bronc _|_ xray, lung, asia, tub | dysp, either, smoke)\n",
       "(bronc _|_ xray, lung, asia | either, tub, smoke)\n",
       "(bronc _|_ xray, asia | dysp, either, tub)\n",
       "(bronc _|_ either, tub | xray, asia, lung)\n",
       "(bronc _|_ either, asia, tub | xray, lung, smoke)\n",
       "(bronc _|_ either, asia | xray, lung, tub)\n",
       "(bronc _|_ xray, either, tub | asia, lung, smoke)\n",
       "(bronc _|_ xray, either | asia, lung, tub)\n",
       "(bronc _|_ xray, asia, either | tub, lung, smoke)\n",
       "(bronc _|_ asia | dysp, lung, tub)\n",
       "(bronc _|_ either, lung, tub | xray, asia, smoke)\n",
       "(bronc _|_ either, lung, asia | xray, tub, smoke)\n",
       "(bronc _|_ asia | dysp, xray, tub)\n",
       "(bronc _|_ xray, lung, either | tub, asia, smoke)\n",
       "(bronc _|_ asia | dysp, tub, smoke)\n",
       "(bronc _|_ tub | xray, either, asia, lung)\n",
       "(bronc _|_ asia, tub | xray, either, lung, smoke)\n",
       "(bronc _|_ asia, tub | dysp, xray, either, lung)\n",
       "(bronc _|_ asia | xray, either, lung, tub)\n",
       "(bronc _|_ xray, tub | either, asia, lung, smoke)\n",
       "(bronc _|_ xray, tub | dysp, either, asia, lung)\n",
       "(bronc _|_ xray | either, asia, lung, tub)\n",
       "(bronc _|_ xray, asia, tub | dysp, either, lung, smoke)\n",
       "(bronc _|_ xray, asia | tub, either, lung, smoke)\n",
       "(bronc _|_ xray, asia | dysp, either, lung, tub)\n",
       "(bronc _|_ lung, tub | xray, either, asia, smoke)\n",
       "(bronc _|_ lung, asia, tub | dysp, xray, either, smoke)\n",
       "(bronc _|_ lung, asia | xray, either, tub, smoke)\n",
       "(bronc _|_ asia | dysp, xray, either, tub)\n",
       "(bronc _|_ xray, lung, tub | dysp, either, asia, smoke)\n",
       "(bronc _|_ xray, lung | tub, either, asia, smoke)\n",
       "(bronc _|_ xray | dysp, either, asia, tub)\n",
       "(bronc _|_ xray, lung, asia | dysp, either, tub, smoke)\n",
       "(bronc _|_ either, tub | xray, asia, lung, smoke)\n",
       "(bronc _|_ either | xray, asia, lung, tub)\n",
       "(bronc _|_ either, asia | tub, xray, lung, smoke)\n",
       "(bronc _|_ asia | dysp, xray, lung, tub)\n",
       "(bronc _|_ xray, either | tub, asia, lung, smoke)\n",
       "(bronc _|_ asia | tub, dysp, lung, smoke)\n",
       "(bronc _|_ either, lung | tub, xray, asia, smoke)\n",
       "(bronc _|_ asia | dysp, xray, tub, smoke)\n",
       "(bronc _|_ tub | xray, either, asia, smoke, lung)\n",
       "(bronc _|_ tub | xray, either, asia, dysp, lung)\n",
       "(bronc _|_ asia, tub | xray, either, smoke, dysp, lung)\n",
       "(bronc _|_ asia | xray, either, smoke, lung, tub)\n",
       "(bronc _|_ asia | xray, either, dysp, lung, tub)\n",
       "(bronc _|_ xray, tub | either, asia, smoke, dysp, lung)\n",
       "(bronc _|_ xray | either, asia, smoke, lung, tub)\n",
       "(bronc _|_ xray | either, asia, dysp, lung, tub)\n",
       "(bronc _|_ xray, asia | either, smoke, dysp, lung, tub)\n",
       "(bronc _|_ lung, tub | xray, either, asia, smoke, dysp)\n",
       "(bronc _|_ lung | xray, either, asia, smoke, tub)\n",
       "(bronc _|_ lung, asia | xray, either, smoke, dysp, tub)\n",
       "(bronc _|_ xray, lung | either, asia, smoke, dysp, tub)\n",
       "(bronc _|_ either | xray, asia, smoke, lung, tub)\n",
       "(bronc _|_ asia | xray, smoke, dysp, lung, tub)\n",
       "(bronc _|_ tub | xray, either, asia, smoke, dysp, lung)\n",
       "(bronc _|_ asia | xray, either, smoke, dysp, lung, tub)\n",
       "(bronc _|_ xray | either, asia, smoke, dysp, lung, tub)\n",
       "(bronc _|_ lung | xray, either, asia, smoke, dysp, tub)\n",
       "(either _|_ bronc, smoke | lung)\n",
       "(either _|_ bronc | smoke)\n",
       "(either _|_ asia | tub)\n",
       "(either _|_ bronc, smoke | xray, lung)\n",
       "(either _|_ bronc, smoke | asia, lung)\n",
       "(either _|_ bronc | lung, smoke)\n",
       "(either _|_ smoke | bronc, lung)\n",
       "(either _|_ bronc, asia, smoke | lung, tub)\n",
       "(either _|_ bronc | xray, smoke)\n",
       "(either _|_ asia | xray, tub)\n",
       "(either _|_ bronc | asia, smoke)\n",
       "(either _|_ bronc, asia | tub, smoke)\n",
       "(either _|_ asia | dysp, tub)\n",
       "(either _|_ asia | bronc, tub)\n",
       "(either _|_ bronc, smoke | xray, asia, lung)\n",
       "(either _|_ bronc | xray, lung, smoke)\n",
       "(either _|_ smoke | bronc, xray, lung)\n",
       "(either _|_ asia, bronc, smoke | xray, lung, tub)\n",
       "(either _|_ bronc | asia, lung, smoke)\n",
       "(either _|_ smoke | bronc, asia, lung)\n",
       "(either _|_ bronc, smoke | asia, lung, tub)\n",
       "(either _|_ asia, bronc | tub, lung, smoke)\n",
       "(either _|_ smoke | bronc, dysp, lung)\n",
       "(either _|_ asia | dysp, lung, tub)\n",
       "(either _|_ asia, smoke | bronc, lung, tub)\n",
       "(either _|_ bronc | xray, asia, smoke)\n",
       "(either _|_ asia, bronc | xray, tub, smoke)\n",
       "(either _|_ asia | dysp, xray, tub)\n",
       "(either _|_ asia | xray, bronc, tub)\n",
       "(either _|_ bronc | tub, asia, smoke)\n",
       "(either _|_ asia | dysp, tub, smoke)\n",
       "(either _|_ asia | tub, bronc, smoke)\n",
       "(either _|_ asia | dysp, bronc, tub)\n",
       "(either _|_ bronc | xray, asia, lung, smoke)\n",
       "(either _|_ smoke | bronc, xray, asia, lung)\n",
       "(either _|_ bronc, smoke | xray, asia, lung, tub)\n",
       "(either _|_ asia, bronc | tub, xray, lung, smoke)\n",
       "(either _|_ smoke | bronc, dysp, xray, lung)\n",
       "(either _|_ asia | dysp, xray, lung, tub)\n",
       "(either _|_ asia, smoke | bronc, xray, lung, tub)\n",
       "(either _|_ bronc | tub, asia, lung, smoke)\n",
       "(either _|_ smoke | bronc, dysp, asia, lung)\n",
       "(either _|_ smoke | bronc, asia, lung, tub)\n",
       "(either _|_ asia | tub, dysp, lung, smoke)\n",
       "(either _|_ asia | tub, bronc, lung, smoke)\n",
       "(either _|_ asia, smoke | bronc, dysp, lung, tub)\n",
       "(either _|_ bronc | tub, xray, asia, smoke)\n",
       "(either _|_ asia | dysp, xray, tub, smoke)\n",
       "(either _|_ asia | tub, xray, bronc, smoke)\n",
       "(either _|_ asia | dysp, xray, bronc, tub)\n",
       "(either _|_ asia | tub, dysp, bronc, smoke)\n",
       "(either _|_ bronc | xray, asia, smoke, lung, tub)\n",
       "(either _|_ smoke | xray, lung, asia, dysp, bronc)\n",
       "(either _|_ smoke | xray, lung, asia, bronc, tub)\n",
       "(either _|_ asia | xray, smoke, dysp, lung, tub)\n",
       "(either _|_ asia | xray, lung, smoke, bronc, tub)\n",
       "(either _|_ asia, smoke | xray, lung, dysp, bronc, tub)\n",
       "(either _|_ smoke | lung, asia, dysp, bronc, tub)\n",
       "(either _|_ asia | lung, smoke, dysp, bronc, tub)\n",
       "(either _|_ asia | xray, smoke, dysp, bronc, tub)\n",
       "(either _|_ smoke | xray, lung, asia, dysp, bronc, tub)\n",
       "(either _|_ asia | xray, lung, smoke, dysp, bronc, tub)\n",
       "(xray _|_ bronc, asia, tub, dysp, lung, smoke | either)\n",
       "(xray _|_ bronc, smoke | lung)\n",
       "(xray _|_ bronc | smoke)\n",
       "(xray _|_ asia | tub)\n",
       "(xray _|_ bronc, tub, dysp, asia, smoke | either, lung)\n",
       "(xray _|_ bronc, tub, dysp, lung, smoke | either, asia)\n",
       "(xray _|_ bronc, asia, dysp, lung, tub | either, smoke)\n",
       "(xray _|_ bronc, asia, tub, lung, smoke | dysp, either)\n",
       "(xray _|_ lung, tub, dysp, asia, smoke | either, bronc)\n",
       "(xray _|_ bronc, asia, dysp, lung, smoke | either, tub)\n",
       "(xray _|_ bronc, smoke | asia, lung)\n",
       "(xray _|_ bronc | lung, smoke)\n",
       "(xray _|_ smoke | bronc, lung)\n",
       "(xray _|_ bronc, asia, smoke | lung, tub)\n",
       "(xray _|_ bronc | asia, smoke)\n",
       "(xray _|_ bronc, asia | tub, smoke)\n",
       "(xray _|_ asia | dysp, tub)\n",
       "(xray _|_ asia | bronc, tub)\n",
       "(xray _|_ smoke, dysp, bronc, tub | either, asia, lung)\n",
       "(xray _|_ dysp, asia, bronc, tub | either, lung, smoke)\n",
       "(xray _|_ smoke, asia, bronc, tub | dysp, either, lung)\n",
       "(xray _|_ smoke, dysp, asia, tub | bronc, either, lung)\n",
       "(xray _|_ dysp, asia, bronc, smoke | either, lung, tub)\n",
       "(xray _|_ dysp, lung, bronc, tub | either, asia, smoke)\n",
       "(xray _|_ smoke, lung, bronc, tub | dysp, either, asia)\n",
       "(xray _|_ smoke, dysp, lung, tub | bronc, either, asia)\n",
       "(xray _|_ dysp, lung, bronc, smoke | either, asia, tub)\n",
       "(xray _|_ lung, asia, bronc, tub | dysp, either, smoke)\n",
       "(xray _|_ dysp, lung, asia, tub | either, bronc, smoke)\n",
       "(xray _|_ dysp, asia, bronc, lung | either, tub, smoke)\n",
       "(xray _|_ smoke, lung, asia, tub | dysp, either, bronc)\n",
       "(xray _|_ lung, asia, bronc, smoke | dysp, either, tub)\n",
       "(xray _|_ dysp, lung, asia, smoke | either, bronc, tub)\n",
       "(xray _|_ bronc | asia, lung, smoke)\n",
       "(xray _|_ smoke | bronc, asia, lung)\n",
       "(xray _|_ bronc, smoke | asia, lung, tub)\n",
       "(xray _|_ asia, bronc | tub, lung, smoke)\n",
       "(xray _|_ smoke | bronc, dysp, lung)\n",
       "(xray _|_ asia | dysp, lung, tub)\n",
       "(xray _|_ asia, smoke | bronc, lung, tub)\n",
       "(xray _|_ bronc | tub, asia, smoke)\n",
       "(xray _|_ asia | dysp, tub, smoke)\n",
       "(xray _|_ asia | tub, bronc, smoke)\n",
       "(xray _|_ asia | dysp, bronc, tub)\n",
       "(xray _|_ dysp, bronc, tub | either, asia, lung, smoke)\n",
       "(xray _|_ smoke, bronc, tub | dysp, either, asia, lung)\n",
       "(xray _|_ dysp, smoke, tub | bronc, either, asia, lung)\n",
       "(xray _|_ dysp, bronc, smoke | either, asia, lung, tub)\n",
       "(xray _|_ asia, bronc, tub | dysp, either, lung, smoke)\n",
       "(xray _|_ dysp, asia, tub | bronc, either, lung, smoke)\n",
       "(xray _|_ dysp, asia, bronc | tub, either, lung, smoke)\n",
       "(xray _|_ smoke, asia, tub | bronc, dysp, either, lung)\n",
       "(xray _|_ asia, bronc, smoke | dysp, either, lung, tub)\n",
       "(xray _|_ dysp, asia, smoke | bronc, either, lung, tub)\n",
       "(xray _|_ lung, bronc, tub | dysp, either, asia, smoke)\n",
       "(xray _|_ dysp, lung, tub | bronc, either, asia, smoke)\n",
       "(xray _|_ dysp, lung, bronc | tub, either, asia, smoke)\n",
       "(xray _|_ smoke, lung, tub | bronc, dysp, either, asia)\n",
       "(xray _|_ lung, bronc, smoke | dysp, either, asia, tub)\n",
       "(xray _|_ dysp, lung, smoke | bronc, either, asia, tub)\n",
       "(xray _|_ lung, asia, tub | dysp, either, bronc, smoke)\n",
       "(xray _|_ lung, asia, bronc | dysp, either, tub, smoke)\n",
       "(xray _|_ dysp, lung, asia | tub, either, bronc, smoke)\n",
       "(xray _|_ lung, asia, smoke | dysp, either, bronc, tub)\n",
       "(xray _|_ bronc | tub, asia, lung, smoke)\n",
       "(xray _|_ smoke | bronc, dysp, asia, lung)\n",
       "(xray _|_ smoke | bronc, asia, lung, tub)\n",
       "(xray _|_ asia | tub, dysp, lung, smoke)\n",
       "(xray _|_ asia | tub, bronc, lung, smoke)\n",
       "(xray _|_ asia, smoke | bronc, dysp, lung, tub)\n",
       "(xray _|_ asia | tub, dysp, bronc, smoke)\n",
       "(xray _|_ bronc, tub | either, asia, smoke, dysp, lung)\n",
       "(xray _|_ dysp, tub | either, lung, asia, smoke, bronc)\n",
       "(xray _|_ dysp, bronc | either, asia, smoke, lung, tub)\n",
       "(xray _|_ smoke, tub | either, lung, asia, dysp, bronc)\n",
       "(xray _|_ bronc, smoke | either, asia, dysp, lung, tub)\n",
       "(xray _|_ dysp, smoke | either, lung, asia, bronc, tub)\n",
       "(xray _|_ asia, tub | either, lung, smoke, dysp, bronc)\n",
       "(xray _|_ asia, bronc | either, smoke, dysp, lung, tub)\n",
       "(xray _|_ dysp, asia | either, lung, smoke, bronc, tub)\n",
       "(xray _|_ asia, smoke | either, lung, dysp, bronc, tub)\n",
       "(xray _|_ lung, tub | either, asia, smoke, dysp, bronc)\n",
       "(xray _|_ lung, bronc | either, asia, smoke, dysp, tub)\n",
       "(xray _|_ dysp, lung | either, asia, smoke, bronc, tub)\n",
       "(xray _|_ lung, smoke | either, asia, dysp, bronc, tub)\n",
       "(xray _|_ lung, asia | either, smoke, dysp, bronc, tub)\n",
       "(xray _|_ smoke | lung, asia, dysp, bronc, tub)\n",
       "(xray _|_ asia | lung, smoke, dysp, bronc, tub)\n",
       "(xray _|_ tub | bronc, either, asia, smoke, dysp, lung)\n",
       "(xray _|_ bronc | either, asia, smoke, dysp, lung, tub)\n",
       "(xray _|_ dysp | either, lung, asia, smoke, bronc, tub)\n",
       "(xray _|_ smoke | either, lung, asia, dysp, bronc, tub)\n",
       "(xray _|_ asia | either, lung, smoke, dysp, bronc, tub)\n",
       "(xray _|_ lung | either, asia, smoke, dysp, bronc, tub)\n",
       "(dysp _|_ xray | either)\n",
       "(dysp _|_ asia | tub)\n",
       "(dysp _|_ xray, asia, tub | either, lung)\n",
       "(dysp _|_ xray | either, asia)\n",
       "(dysp _|_ xray, asia, lung, tub | either, smoke)\n",
       "(dysp _|_ xray, lung, tub, asia, smoke | either, bronc)\n",
       "(dysp _|_ xray, asia | either, tub)\n",
       "(dysp _|_ smoke | bronc, lung)\n",
       "(dysp _|_ asia | lung, tub)\n",
       "(dysp _|_ asia | xray, tub)\n",
       "(dysp _|_ asia | tub, smoke)\n",
       "(dysp _|_ asia | bronc, tub)\n",
       "(dysp _|_ asia, tub | xray, either, lung)\n",
       "(dysp _|_ xray, tub | either, asia, lung)\n",
       "(dysp _|_ xray, asia, tub | either, lung, smoke)\n",
       "(dysp _|_ smoke, xray, asia, tub | bronc, either, lung)\n",
       "(dysp _|_ xray, asia | either, lung, tub)\n",
       "(dysp _|_ lung, asia, tub | xray, either, smoke)\n",
       "(dysp _|_ smoke, lung, asia, tub | xray, either, bronc)\n",
       "(dysp _|_ asia | xray, either, tub)\n",
       "(dysp _|_ xray, lung, tub | either, asia, smoke)\n",
       "(dysp _|_ smoke, xray, lung, tub | bronc, either, asia)\n",
       "(dysp _|_ xray | either, asia, tub)\n",
       "(dysp _|_ xray, lung, asia, tub | either, bronc, smoke)\n",
       "(dysp _|_ xray, lung, asia | either, tub, smoke)\n",
       "(dysp _|_ xray, lung, asia, smoke | either, bronc, tub)\n",
       "(dysp _|_ smoke | bronc, xray, lung)\n",
       "(dysp _|_ asia | xray, lung, tub)\n",
       "(dysp _|_ smoke | bronc, asia, lung)\n",
       "(dysp _|_ asia | tub, lung, smoke)\n",
       "(dysp _|_ asia, smoke | bronc, lung, tub)\n",
       "(dysp _|_ asia | xray, tub, smoke)\n",
       "(dysp _|_ asia | xray, bronc, tub)\n",
       "(dysp _|_ asia | tub, bronc, smoke)\n",
       "(dysp _|_ tub | xray, either, asia, lung)\n",
       "(dysp _|_ asia, tub | xray, either, lung, smoke)\n",
       "(dysp _|_ smoke, asia, tub | bronc, xray, either, lung)\n",
       "(dysp _|_ asia | xray, either, lung, tub)\n",
       "(dysp _|_ xray, tub | either, asia, lung, smoke)\n",
       "(dysp _|_ xray, smoke, tub | bronc, either, asia, lung)\n",
       "(dysp _|_ xray | either, asia, lung, tub)\n",
       "(dysp _|_ xray, asia, tub | bronc, either, lung, smoke)\n",
       "(dysp _|_ xray, asia | tub, either, lung, smoke)\n",
       "(dysp _|_ xray, asia, smoke | bronc, either, lung, tub)\n",
       "(dysp _|_ lung, tub | xray, either, asia, smoke)\n",
       "(dysp _|_ smoke, lung, tub | bronc, xray, either, asia)\n",
       "(dysp _|_ lung, asia, tub | xray, either, bronc, smoke)\n",
       "(dysp _|_ lung, asia | xray, either, tub, smoke)\n",
       "(dysp _|_ lung, asia, smoke | xray, either, bronc, tub)\n",
       "(dysp _|_ xray, lung, tub | bronc, either, asia, smoke)\n",
       "(dysp _|_ xray, lung | tub, either, asia, smoke)\n",
       "(dysp _|_ xray, lung, smoke | bronc, either, asia, tub)\n",
       "(dysp _|_ xray, lung, asia | tub, either, bronc, smoke)\n",
       "(dysp _|_ smoke | bronc, xray, asia, lung)\n",
       "(dysp _|_ asia | tub, xray, lung, smoke)\n",
       "(dysp _|_ asia, smoke | bronc, xray, lung, tub)\n",
       "(dysp _|_ smoke | bronc, asia, lung, tub)\n",
       "(dysp _|_ asia | tub, bronc, lung, smoke)\n",
       "(dysp _|_ asia | tub, xray, bronc, smoke)\n",
       "(dysp _|_ tub | xray, either, asia, smoke, lung)\n",
       "(dysp _|_ smoke, tub | xray, either, lung, asia, bronc)\n",
       "(dysp _|_ asia, tub | xray, either, lung, smoke, bronc)\n",
       "(dysp _|_ asia | xray, either, smoke, lung, tub)\n",
       "(dysp _|_ asia, smoke | xray, either, lung, bronc, tub)\n",
       "(dysp _|_ xray, tub | either, lung, asia, smoke, bronc)\n",
       "(dysp _|_ xray | either, asia, smoke, lung, tub)\n",
       "(dysp _|_ xray, smoke | either, lung, asia, bronc, tub)\n",
       "(dysp _|_ xray, asia | either, lung, smoke, bronc, tub)\n",
       "(dysp _|_ lung, tub | xray, either, asia, smoke, bronc)\n",
       "(dysp _|_ lung | xray, either, asia, smoke, tub)\n",
       "(dysp _|_ lung, smoke | xray, either, asia, bronc, tub)\n",
       "(dysp _|_ lung, asia | xray, either, smoke, bronc, tub)\n",
       "(dysp _|_ xray, lung | either, asia, smoke, bronc, tub)\n",
       "(dysp _|_ smoke | xray, lung, asia, bronc, tub)\n",
       "(dysp _|_ asia | xray, lung, smoke, bronc, tub)\n",
       "(dysp _|_ tub | bronc, xray, either, asia, smoke, lung)\n",
       "(dysp _|_ smoke | xray, either, lung, asia, bronc, tub)\n",
       "(dysp _|_ asia | xray, either, lung, smoke, bronc, tub)\n",
       "(dysp _|_ xray | either, lung, asia, smoke, bronc, tub)\n",
       "(dysp _|_ lung | xray, either, asia, smoke, bronc, tub)"
      ]
     },
     "execution_count": 12,
     "metadata": {},
     "output_type": "execute_result"
    }
   ],
   "source": [
    "model.get_independencies()"
   ]
  },
  {
   "cell_type": "code",
   "execution_count": 13,
   "metadata": {},
   "outputs": [
    {
     "data": {
      "text/plain": [
       "(tub _|_ lung, bronc, smoke | asia)"
      ]
     },
     "execution_count": 13,
     "metadata": {},
     "output_type": "execute_result"
    }
   ],
   "source": [
    "model.local_independencies('tub')"
   ]
  },
  {
   "cell_type": "code",
   "execution_count": 12,
   "metadata": {},
   "outputs": [
    {
     "data": {
      "text/plain": [
       "True"
      ]
     },
     "execution_count": 12,
     "metadata": {},
     "output_type": "execute_result"
    }
   ],
   "source": [
    "model.is_active_trail('lung', 'tub', observed='either')"
   ]
  },
  {
   "cell_type": "code",
   "execution_count": null,
   "metadata": {},
   "outputs": [],
   "source": []
  }
 ],
 "metadata": {
  "kernelspec": {
   "display_name": "Python 3",
   "language": "python",
   "name": "python3"
  },
  "language_info": {
   "codemirror_mode": {
    "name": "ipython",
    "version": 3
   },
   "file_extension": ".py",
   "mimetype": "text/x-python",
   "name": "python",
   "nbconvert_exporter": "python",
   "pygments_lexer": "ipython3",
   "version": "3.6.9"
  }
 },
 "nbformat": 4,
 "nbformat_minor": 2
}
