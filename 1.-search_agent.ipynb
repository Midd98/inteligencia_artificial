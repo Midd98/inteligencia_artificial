{
  "nbformat": 4,
  "nbformat_minor": 0,
  "metadata": {
    "celltoolbar": "Slideshow",
    "kernelspec": {
      "display_name": "Python 3",
      "language": "python",
      "name": "python3"
    },
    "language_info": {
      "codemirror_mode": {
        "name": "ipython",
        "version": 3
      },
      "file_extension": ".py",
      "mimetype": "text/x-python",
      "name": "python",
      "nbconvert_exporter": "python",
      "pygments_lexer": "ipython3",
      "version": "3.6.9"
    },
    "colab": {
      "name": "1.-search_agent.ipynb",
      "provenance": []
    }
  },
  "cells": [
    {
      "cell_type": "markdown",
      "metadata": {
        "id": "AZTC9MACEH_3",
        "colab_type": "text"
      },
      "source": [
        "<h1>Búsqueda No Informada y Heurística</h1>\n",
        "<p>\n",
        "    En general, un problema de búsqueda se compone de:\n",
        "    <ul>\n",
        "        <li>Un nodo inicial</li>\n",
        "        <li>Una función que devuelve los hijos del nodo</li>\n",
        "        <li>Una función que booleana que devuelve TRUE si el nodo es uno de los objetivos</li>\n",
        "        <li>Una función que devuelve la heurística del nodo</li>\n",
        "    </ul>\n",
        "</p>\n",
        "La siguiente función provee una clase abstracta para un problema de búsqueda"
      ]
    },
    {
      "cell_type": "code",
      "metadata": {
        "id": "OE5EoeBnEH_4",
        "colab_type": "code",
        "colab": {}
      },
      "source": [
        "class generic_search_problem(object):\n",
        "    \n",
        "    def is_goal(self,node,goal):\n",
        "        raise NotImplementedError(\"is_goal\")\n",
        "    \n",
        "    def get_children(self,node):\n",
        "        raise NotImplementedError(\"get_children\")\n",
        "    \n",
        "    def search(self):\n",
        "        raise NotImplementedError(\"search\")\n"
      ],
      "execution_count": 1,
      "outputs": []
    },
    {
      "cell_type": "code",
      "metadata": {
        "id": "lrCP9HXSEH_9",
        "colab_type": "code",
        "colab": {}
      },
      "source": [
        "from heapq import heappush,heappop\n",
        "import numpy as np\n",
        "\n",
        "class puzzle(object):\n",
        "    \n",
        "    def __init__(self,node,level):\n",
        "        self.state=node\n",
        "        self.level=level\n",
        "        \n",
        "    def __hash__(self):\n",
        "        return hash(np.array_str(self.state.ravel()))\n",
        "        \n",
        "    def __eq__(self,other):\n",
        "        return np.array_equal(other.state,self.state)\n",
        "\n",
        "    \n",
        "    def __gt__(self,other):\n",
        "        return self.level>other.level\n",
        "\n",
        "    def __lt__(self,other):\n",
        "        return self.level<other.level\n",
        "   \n",
        "    def pretty_print(self):\n",
        "        return np.array_str(self.state.ravel())\n",
        " \n",
        "    def solvable(self):\n",
        "        return len([(a,b) for i,a in enumerate(self.state.ravel()) for b in self.state.ravel()[i:] if a>b & b!=0])%2==0\n",
        "    \n",
        "    def get_children(self):\n",
        "        child_list=set()\n",
        "        dim=self.state.shape[0]\n",
        "        i,j=map(np.int,np.where(self.state==0))\n",
        "        #print i,j\n",
        "        if (j>0):\n",
        "            child=self.state.copy()\n",
        "            child[i,j]=self.state[i,j-1]\n",
        "            child[i,j-1]=0\n",
        "            p=puzzle(child,self.level+1)\n",
        "            child_list.add(p)\n",
        "        if (j<dim-1):\n",
        "            child=self.state.copy()\n",
        "            child[i,j]=self.state[i,j+1]\n",
        "            child[i,j+1]=0\n",
        "            p=puzzle(child,self.level+1)\n",
        "            child_list.add(p)\n",
        "        if (i>0):\n",
        "            child=self.state.copy()\n",
        "            child[i,j]=self.state[i-1,j]\n",
        "            child[i-1,j]=0\n",
        "            p=puzzle(child,self.level+1)\n",
        "            child_list.add(p)\n",
        "        if (i<dim-1):\n",
        "            child=self.state.copy()\n",
        "            child[i,j]=self.state[i+1,j]\n",
        "            child[i+1,j]=0\n",
        "            p=puzzle(child,self.level+1)\n",
        "            child_list.add(p)\n",
        "        return child_list"
      ],
      "execution_count": 2,
      "outputs": []
    },
    {
      "cell_type": "code",
      "metadata": {
        "id": "s0ejtUWVEIAB",
        "colab_type": "code",
        "colab": {}
      },
      "source": [
        "dim=3\n",
        "\n",
        "goal=puzzle(np.insert(np.arange(1,dim*dim),dim*dim-1,0).reshape(dim,dim),0)\n",
        "\n",
        "easy_start=puzzle(np.insert(np.arange(1,dim*dim),6,0).reshape(dim,dim),0)\n",
        "\n"
      ],
      "execution_count": 3,
      "outputs": []
    },
    {
      "cell_type": "code",
      "metadata": {
        "scrolled": true,
        "id": "P8XjtglmEIAF",
        "colab_type": "code",
        "colab": {
          "base_uri": "https://localhost:8080/",
          "height": 755
        },
        "outputId": "3bc4ce6f-aa55-4694-b176-5077a2d0335a"
      },
      "source": [
        "print('nodo objetivo : ')\n",
        "print(goal.state)\n",
        "print('nodo inicial : ')\n",
        "print(easy_start.state)\n",
        "print('hijos : ')\n",
        "for p in easy_start.get_children():\n",
        "    print('Estado padre, nivel : {0}'.format(p.level))\n",
        "    print(p.state)\n",
        "    for c in p.get_children():\n",
        "        print('Estado hijo, nivel : {0}'.format(c.level))\n",
        "        print(c.state)"
      ],
      "execution_count": 4,
      "outputs": [
        {
          "output_type": "stream",
          "text": [
            "nodo objetivo : \n",
            "[[1 2 3]\n",
            " [4 5 6]\n",
            " [7 8 0]]\n",
            "nodo inicial : \n",
            "[[1 2 3]\n",
            " [4 5 6]\n",
            " [0 7 8]]\n",
            "hijos : \n",
            "Estado padre, nivel : 1\n",
            "[[1 2 3]\n",
            " [4 5 6]\n",
            " [7 0 8]]\n",
            "Estado hijo, nivel : 2\n",
            "[[1 2 3]\n",
            " [4 5 6]\n",
            " [7 8 0]]\n",
            "Estado hijo, nivel : 2\n",
            "[[1 2 3]\n",
            " [4 0 6]\n",
            " [7 5 8]]\n",
            "Estado hijo, nivel : 2\n",
            "[[1 2 3]\n",
            " [4 5 6]\n",
            " [0 7 8]]\n",
            "Estado padre, nivel : 1\n",
            "[[1 2 3]\n",
            " [0 5 6]\n",
            " [4 7 8]]\n",
            "Estado hijo, nivel : 2\n",
            "[[0 2 3]\n",
            " [1 5 6]\n",
            " [4 7 8]]\n",
            "Estado hijo, nivel : 2\n",
            "[[1 2 3]\n",
            " [4 5 6]\n",
            " [0 7 8]]\n",
            "Estado hijo, nivel : 2\n",
            "[[1 2 3]\n",
            " [5 0 6]\n",
            " [4 7 8]]\n"
          ],
          "name": "stdout"
        }
      ]
    },
    {
      "cell_type": "code",
      "metadata": {
        "id": "cNByp1CeEIAJ",
        "colab_type": "code",
        "colab": {}
      },
      "source": [
        "from collections import deque\n",
        "\n",
        "class bfs_puzzle(generic_search_problem):\n",
        "    \n",
        "    def __init__(self,start):\n",
        "        self.state=start\n",
        "            \n",
        "    def is_goal(self,node,goal):\n",
        "        return node==goal\n",
        "    \n",
        "    def get_children(self,node):\n",
        "        return node.get_children()\n",
        "    \n",
        "    def search(self,goal):\n",
        "        parents={}\n",
        "        visited=set()\n",
        "        parents.update({self.state:None})\n",
        "        frontier=deque() # queue\n",
        "        frontier.append(self.state)\n",
        "        while frontier:\n",
        "            node=frontier.popleft() # FIFO\n",
        "            if self.is_goal(node,goal):\n",
        "                return parents\n",
        "            visited.add(node)\n",
        "            for child in self.get_children(node):\n",
        "                if child not in visited and child not in frontier:\n",
        "                    parents.update({child:node})\n",
        "                    frontier.append(child)\n",
        "        return parents\n",
        "    \n",
        "class dfs_puzzle(generic_search_problem):\n",
        "    \n",
        "    def __init__(self,start):\n",
        "        self.state=start\n",
        "            \n",
        "    def is_goal(self,node,goal):\n",
        "        return node==goal\n",
        "    \n",
        "    def get_children(self,node):\n",
        "        return node.get_children()\n",
        "    \n",
        "    def search(self,goal):\n",
        "        parents={}\n",
        "        visited=set()\n",
        "        parents.update({self.state:None})\n",
        "        frontier=deque() # stack\n",
        "        frontier.append(self.state)\n",
        "        while frontier:\n",
        "            node=frontier.pop() # LIFO\n",
        "            if self.is_goal(node,goal):\n",
        "                return parents\n",
        "            visited.add(node)\n",
        "            for child in self.get_children(node):\n",
        "                if child not in visited and child not in frontier:\n",
        "                    parents.update({child:node})\n",
        "                    frontier.append(child)\n",
        "        return parents\n",
        "    \n",
        "def get_path(search_results,goal):\n",
        "    path=[key  for (key, value) in search_results.items() if key == goal]\n",
        "    node=goal\n",
        "    while search_results[node] is not None:\n",
        "        parent=search_results[node]\n",
        "        path.append(parent)\n",
        "        node=parent\n",
        "    return path"
      ],
      "execution_count": 5,
      "outputs": []
    },
    {
      "cell_type": "code",
      "metadata": {
        "id": "LwU-FmtqEIAN",
        "colab_type": "code",
        "colab": {
          "base_uri": "https://localhost:8080/",
          "height": 305
        },
        "outputId": "54193f16-e84b-4706-d610-37f7f0d52291"
      },
      "source": [
        "import sys\n",
        "bfs_tree=bfs_puzzle(easy_start).search(goal)\n",
        "\n",
        "for p in get_path(bfs_tree,goal):\n",
        "    print('-------------------------')\n",
        "    print('nivel : {0}'.format(p.level))\n",
        "    print(p.state)\n",
        "\n",
        "print('BFS memoria : {0:.2f} [kB]'.format(sys.getsizeof(bfs_tree)/1024))    "
      ],
      "execution_count": 6,
      "outputs": [
        {
          "output_type": "stream",
          "text": [
            "-------------------------\n",
            "nivel : 2\n",
            "[[1 2 3]\n",
            " [4 5 6]\n",
            " [7 8 0]]\n",
            "-------------------------\n",
            "nivel : 1\n",
            "[[1 2 3]\n",
            " [4 5 6]\n",
            " [7 0 8]]\n",
            "-------------------------\n",
            "nivel : 0\n",
            "[[1 2 3]\n",
            " [4 5 6]\n",
            " [0 7 8]]\n",
            "BFS memoria : 0.36 [kB]\n"
          ],
          "name": "stdout"
        }
      ]
    },
    {
      "cell_type": "code",
      "metadata": {
        "id": "FMYZ1TnHEIAV",
        "colab_type": "code",
        "colab": {}
      },
      "source": [
        "class ids_puzzle(generic_search_problem):\n",
        "    \n",
        "    def __init__(self,start):\n",
        "        self.state=start\n",
        "            \n",
        "    def is_goal(self,node,goal):\n",
        "        return node==goal\n",
        "    \n",
        "    def get_children(self,node):\n",
        "        return node.get_children()\n",
        "    \n",
        "    def search(self,goal,bound):\n",
        "        parents={}\n",
        "        visited=set()\n",
        "        parents.update({self.state:None})\n",
        "        frontier=deque() # stack\n",
        "        frontier.append(self.state)\n",
        "        while frontier:\n",
        "            node=frontier.pop() # LIFO\n",
        "            if self.is_goal(node,goal):\n",
        "                return parents\n",
        "            visited.add(node)\n",
        "            if node.level<bound:\n",
        "                for child in self.get_children(node):\n",
        "                    if child not in visited and child not in frontier:\n",
        "                        parents.update({child:node})\n",
        "                        frontier.append(child)\n",
        "        return parents"
      ],
      "execution_count": 9,
      "outputs": []
    },
    {
      "cell_type": "code",
      "metadata": {
        "id": "R3U2I565EIAY",
        "colab_type": "code",
        "colab": {
          "base_uri": "https://localhost:8080/",
          "height": 35
        },
        "outputId": "8aaaa9b1-3508-4a39-a62d-f11cfcd23d3e"
      },
      "source": [
        "import sys\n",
        "ids_tree=ids_puzzle(easy_start).search(goal,bound=1)\n",
        "\n",
        "#for p in get_path(ids_tree,goal):\n",
        "#    print('-------------------------')\n",
        "#    print('nivel : {0}'.format(p.level))\n",
        "#    print(p.state)\n",
        "\n",
        "print('cota :{0}, memoria : {1:.2f} [kB]'.format(2,sys.getsizeof(ids_tree)/1024))  "
      ],
      "execution_count": 10,
      "outputs": [
        {
          "output_type": "stream",
          "text": [
            "cota :2, memoria : 0.23 [kB]\n"
          ],
          "name": "stdout"
        }
      ]
    },
    {
      "cell_type": "code",
      "metadata": {
        "id": "SgRxWvAnPYAz",
        "colab_type": "code",
        "colab": {
          "base_uri": "https://localhost:8080/",
          "height": 71
        },
        "outputId": "9d0caf5d-a62c-4c3c-8972-922ea6e26130"
      },
      "source": [
        "for p in ids_tree:\n",
        "  print(p.pretty_print())"
      ],
      "execution_count": 11,
      "outputs": [
        {
          "output_type": "stream",
          "text": [
            "[1 2 3 4 5 6 0 7 8]\n",
            "[1 2 3 4 5 6 7 0 8]\n",
            "[1 2 3 0 5 6 4 7 8]\n"
          ],
          "name": "stdout"
        }
      ]
    },
    {
      "cell_type": "code",
      "metadata": {
        "id": "INabFKLxEIAb",
        "colab_type": "code",
        "colab": {}
      },
      "source": [
        "while True:\n",
        "    random_start=puzzle(np.random.permutation(np.arange(9)).reshape(dim,dim),0)\n",
        "    if random_start.solvable() : break"
      ],
      "execution_count": 12,
      "outputs": []
    },
    {
      "cell_type": "code",
      "metadata": {
        "id": "HTPrL4jzPwYE",
        "colab_type": "code",
        "colab": {
          "base_uri": "https://localhost:8080/",
          "height": 71
        },
        "outputId": "bbab8420-6f7b-499a-8a72-a0a61244fbc3"
      },
      "source": [
        "random_start.state"
      ],
      "execution_count": 13,
      "outputs": [
        {
          "output_type": "execute_result",
          "data": {
            "text/plain": [
              "array([[0, 8, 5],\n",
              "       [4, 1, 3],\n",
              "       [2, 7, 6]])"
            ]
          },
          "metadata": {
            "tags": []
          },
          "execution_count": 13
        }
      ]
    },
    {
      "cell_type": "code",
      "metadata": {
        "id": "LIJpevAgP3Fb",
        "colab_type": "code",
        "colab": {}
      },
      "source": [
        "bfs_tree=bfs_puzzle(random_start).search(goal)\n",
        "\n",
        "for p in get_path(bfs_tree,goal):\n",
        "    print('-------------------------')\n",
        "    print('nivel : {0}'.format(p.level))\n",
        "    print(p.state)\n",
        "\n",
        "print('BFS memoria : {0:.2f} [kB]'.format(sys.getsizeof(bfs_tree)/1024))"
      ],
      "execution_count": null,
      "outputs": []
    },
    {
      "cell_type": "code",
      "metadata": {
        "id": "ymuJ-XC_QN6L",
        "colab_type": "code",
        "colab": {}
      },
      "source": [
        "dfs_tree=dfs_puzzle(random_start).search(goal)\n",
        "\n",
        "for p in get_path(dfs_tree,goal):\n",
        "    print('-------------------------')\n",
        "    print('nivel : {0}'.format(p.level))\n",
        "    print(p.state)\n",
        "\n",
        "print('BFS memoria : {0:.2f} [kB]'.format(sys.getsizeof(dfs_tree)/1024))"
      ],
      "execution_count": null,
      "outputs": []
    },
    {
      "cell_type": "code",
      "metadata": {
        "id": "LwI7ZRz8EIAe",
        "colab_type": "code",
        "colab": {
          "base_uri": "https://localhost:8080/",
          "height": 557
        },
        "outputId": "1fb90176-8218-4ea0-eb54-5cbab1a3d5be"
      },
      "source": [
        "import sys\n",
        "ids_tree={}\n",
        "c=1\n",
        "while goal not in ids_tree:\n",
        "    ids_tree=ids_puzzle(random_start).search(goal,bound=c)\n",
        "    c=c+1\n",
        "    print('cota :{0}, memoria : {1:.2f} [kB]'.format(c,sys.getsizeof(ids_tree)/1024))   "
      ],
      "execution_count": 14,
      "outputs": [
        {
          "output_type": "stream",
          "text": [
            "cota :2, memoria : 0.23 [kB]\n",
            "cota :3, memoria : 0.36 [kB]\n",
            "cota :4, memoria : 0.63 [kB]\n",
            "cota :5, memoria : 1.16 [kB]\n",
            "cota :6, memoria : 2.23 [kB]\n",
            "cota :7, memoria : 4.59 [kB]\n",
            "cota :8, memoria : 4.59 [kB]\n",
            "cota :9, memoria : 9.10 [kB]\n",
            "cota :10, memoria : 18.09 [kB]\n",
            "cota :11, memoria : 18.09 [kB]\n",
            "cota :12, memoria : 18.09 [kB]\n",
            "cota :13, memoria : 36.10 [kB]\n",
            "cota :14, memoria : 36.10 [kB]\n",
            "cota :15, memoria : 72.09 [kB]\n",
            "cota :16, memoria : 72.09 [kB]\n",
            "cota :17, memoria : 144.10 [kB]\n",
            "cota :18, memoria : 144.10 [kB]\n",
            "cota :19, memoria : 288.09 [kB]\n",
            "cota :20, memoria : 288.09 [kB]\n",
            "cota :21, memoria : 288.09 [kB]\n",
            "cota :22, memoria : 144.10 [kB]\n",
            "cota :23, memoria : 576.10 [kB]\n",
            "cota :24, memoria : 288.09 [kB]\n",
            "cota :25, memoria : 576.10 [kB]\n",
            "cota :26, memoria : 576.10 [kB]\n",
            "cota :27, memoria : 1280.09 [kB]\n",
            "cota :28, memoria : 576.10 [kB]\n",
            "cota :29, memoria : 1280.09 [kB]\n",
            "cota :30, memoria : 576.10 [kB]\n",
            "cota :31, memoria : 2560.10 [kB]\n"
          ],
          "name": "stdout"
        }
      ]
    },
    {
      "cell_type": "markdown",
      "metadata": {
        "id": "Z6AE5mPkEIAi",
        "colab_type": "text"
      },
      "source": [
        "<h2>Búsqueda Heurística</h2>\n",
        "A diferencia de la búqueda no informada, la estrategia de búsqueda denominada best-first es un método del tipo greedy que incorpora al costo $h(n)$ del nodo $n$ hacia el objetivo. La estrategia de búsqueda greedy best-first selecciona el candidato $n \\in \\operatorname{GET\\_CHILDREN}$ con\n",
        "mejor puntuación $f(n) = h(n)$ en cada momento."
      ]
    },
    {
      "cell_type": "markdown",
      "metadata": {
        "id": "z9Dz_u0XEIAi",
        "colab_type": "text"
      },
      "source": [
        "la estrategia de búsqueda A* es también un método del tipo greedy que incorpora al costo $h(n)$ del nodo $n$ hacia el objetivo así como también el costo acumulado $g(n)$ de llegar hacia $n$. La estrategia de búsqueda greedy best-first selecciona el candidato $n \\in \\operatorname{GET\\_CHILDREN}$ con\n",
        "mejor puntuación $f(n) = h(n)+g(n)$ en cada momento."
      ]
    },
    {
      "cell_type": "markdown",
      "metadata": {
        "id": "cKSxTfA8EIAj",
        "colab_type": "text"
      },
      "source": [
        "<h1>Implementación A* Puzzle 8</h1>\n",
        "<p>\n",
        "El problema del 8-puzzle fue inventado en 1870 y se juega en una grilla de 3x3 con 9 bloques cuadrados. Cada bloque tiene una etiqueta con un número del 1 al 8 y existe un espacio en blanco en el cual el jugador puede mover un bloque adyacente.   \n",
        "</p>\n",
        "    "
      ]
    },
    {
      "cell_type": "code",
      "metadata": {
        "id": "vjU_XXkEEIAk",
        "colab_type": "code",
        "colab": {}
      },
      "source": [
        "from IPython.display import Image\n",
        "#Image(filename='../figures/8_puzzle.png') \n",
        "    "
      ],
      "execution_count": 18,
      "outputs": []
    },
    {
      "cell_type": "markdown",
      "metadata": {
        "id": "cljMAvTWEIAn",
        "colab_type": "text"
      },
      "source": [
        "<p>\n",
        "Cada estado del puzzle puede ser visto como un vértice de un grafo tipo árbol, cuyo nodo raiz es el estado inicial del puzzle. Las estrategias de búsqueda no-informada no utilizan ningún criterio para ponderar las soluciones y por ende dependen en gran medida de la complejidad del problema.</p>\n",
        "<p>\n",
        "<ul>\n",
        "<li>\n",
        "De modo de diseñar algoritmos ''inteligentes'', es necesario reducir el espacio de b{usqueda y concentrarse en los estados que sean  atractivos.\n",
        "</li>\n",
        "<li>\n",
        "Dado la alta complejidad de los problemas, no es posible recorrer todos los caminos y por lo tanto solo podemos evaluar estados que sean potencialmente atractivos.\n",
        "<li>\n",
        "La estrategia de búsqueda A* utiliza una combinación de búsqueda local:\n",
        "</li>\n",
        "\n",
        "\\begin{align}\n",
        "f(n)=g(n)+h(n)\n",
        "\\end{align}\n",
        "\n",
        "Donde $g(n)$ corresponde al costo de la ruta desde el nodo inicial al nodo $n$ y $h(n)$ es el costo estimado (cota inferior) desde $n$ hasta el nodo objetivo.\n",
        "</ul>\n",
        "\n",
        "Para el problema del puzzle, utlizamos las siguientes heurísticas:\n",
        "\n",
        "<ul>\n",
        "<li>\n",
        "Distancia Hamming : Número de bloques en la posición incorrecta.\n",
        "</li>\n",
        "<li>\n",
        "Distancia Manhattan : Suma de las distancias (suma de la distancia horizontal y vertical) desde el bloque hasta la posición objetivo ($d_M=\\vert X_n-X_g \\vert + \\vert Y_n-Y_g \\vert$).\n",
        "</li>\n"
      ]
    },
    {
      "cell_type": "code",
      "metadata": {
        "id": "ImwXl_qdEIAo",
        "colab_type": "code",
        "colab": {}
      },
      "source": [
        "from IPython.display import Image\n",
        "#Image(filename='../figures/8_puzzle_distancias.png') "
      ],
      "execution_count": null,
      "outputs": []
    },
    {
      "cell_type": "code",
      "metadata": {
        "id": "71jjU6oJEIAr",
        "colab_type": "code",
        "colab": {}
      },
      "source": [
        "def manhattan(node,goal):\n",
        "    dim=node.state.shape[0]\n",
        "    diff_mat=np.zeros((dim,dim))\n",
        "    for i in range(dim):\n",
        "        for j in range(dim):\n",
        "            if goal.state[i,j]!=0:\n",
        "                u,v=map(np.int,np.where(node.state==goal.state[i,j]))\n",
        "                diff_mat[i,j]=abs(i-u)+abs(j-v)\n",
        "    return int(diff_mat.sum())\n",
        "\n",
        "def hamming(node,goal):\n",
        "    dim=node.state.shape[0]\n",
        "    diff_mat=np.zeros((dim,dim))\n",
        "    diff_mat=node.state!=goal.state\n",
        "    dist=np.sum(diff_mat.astype(int).ravel())\n",
        "    if dist>0:\n",
        "        dist=dist-1\n",
        "    return dist\n",
        "    \n"
      ],
      "execution_count": 22,
      "outputs": []
    },
    {
      "cell_type": "code",
      "metadata": {
        "id": "TXZEe1_iEIAv",
        "colab_type": "code",
        "colab": {
          "base_uri": "https://localhost:8080/",
          "height": 161
        },
        "outputId": "435929cd-559f-45bf-b137-3a224ec2b444"
      },
      "source": [
        "easy_start=puzzle(np.insert(np.arange(1,dim*dim),5,0).reshape(dim,dim),0)\n",
        "print(easy_start.state)\n",
        "print(goal.state)\n",
        "print('Distancia hamming : {0}'.format(hamming(easy_start,goal)))\n",
        "print('Distancia manhattan : {0}'.format(manhattan(easy_start,goal)))"
      ],
      "execution_count": 25,
      "outputs": [
        {
          "output_type": "stream",
          "text": [
            "[[1 2 3]\n",
            " [4 5 0]\n",
            " [6 7 8]]\n",
            "[[1 2 3]\n",
            " [4 5 6]\n",
            " [7 8 0]]\n",
            "Distancia hamming : 3\n",
            "Distancia manhattan : 5\n"
          ],
          "name": "stdout"
        }
      ]
    },
    {
      "cell_type": "code",
      "metadata": {
        "id": "DOPfu9yDEIAy",
        "colab_type": "code",
        "colab": {}
      },
      "source": [
        "class bestfirst_puzzle(generic_search_problem):\n",
        "    \n",
        "    def __init__(self,start,heuristic):\n",
        "        self.state=start\n",
        "        self.heuristic=heuristic\n",
        "            \n",
        "    def is_goal(self,node,goal):\n",
        "        return node==goal\n",
        "    \n",
        "    def get_children(self,node):\n",
        "        return node.get_children()\n",
        "    \n",
        "    def search(self,goal):\n",
        "        parents={}\n",
        "        visited=set()\n",
        "        parents.update({self.state:None})\n",
        "        frontier=[]\n",
        "        fun=self.heuristic(self.state,goal)\n",
        "        heappush(frontier,(fun,self.state))\n",
        "        while frontier:\n",
        "            node=heappop(frontier)[1]\n",
        "            if self.is_goal(node,goal):\n",
        "                return parents,len(frontier),node.level\n",
        "            visited.add(node)\n",
        "            for child in self.get_children(node):\n",
        "                if child not in visited:\n",
        "                    parents.update({child:node})\n",
        "                    fun=self.heuristic(child,goal)\n",
        "                    heappush(frontier,(fun,child))\n",
        "        return parents,len(frontier),node.level"
      ],
      "execution_count": 28,
      "outputs": []
    },
    {
      "cell_type": "code",
      "metadata": {
        "id": "9OLJRSksEIA1",
        "colab_type": "code",
        "colab": {
          "base_uri": "https://localhost:8080/",
          "height": 53
        },
        "outputId": "83e2d56a-ef34-4b58-9dce-4fc07341687c"
      },
      "source": [
        "solver=bestfirst_puzzle(random_start,hamming)\n",
        "bf_tree,k,h=solver.search(goal)\n",
        "path=get_path(bf_tree,goal)\n",
        "\n",
        "print(bf_tree[goal].level)\n",
        "#for p in get_path(bf_tree,goal):\n",
        "#    print('-------------------------')\n",
        "#    print('nivel : {0}'.format(p.level))\n",
        "#    print(p.state)\n",
        "\n",
        "print('Best-First memoria (Hamming): {0:.2f} [kB]'.format(sys.getsizeof(bf_tree)/1024))  \n",
        "    "
      ],
      "execution_count": 39,
      "outputs": [
        {
          "output_type": "stream",
          "text": [
            "53\n",
            "Best-First memoria : 36.10 [kB]\n"
          ],
          "name": "stdout"
        }
      ]
    },
    {
      "cell_type": "code",
      "metadata": {
        "id": "a8NXgOzoF9Pa",
        "colab_type": "code",
        "colab": {
          "base_uri": "https://localhost:8080/",
          "height": 53
        },
        "outputId": "c4cbcf3a-d19e-4c61-c8b3-9005399b7c31"
      },
      "source": [
        "solver=bestfirst_puzzle(random_start,manhattan)\n",
        "bf_tree,k,h=solver.search(goal)\n",
        "path=get_path(bf_tree,goal)\n",
        "\n",
        "print(bf_tree[goal].level)\n",
        "print('Best-First memoria (Manhattan): {0:.2f} [kB]'.format(sys.getsizeof(bf_tree)/1024)) "
      ],
      "execution_count": 41,
      "outputs": [
        {
          "output_type": "stream",
          "text": [
            "43\n",
            "Best-First memoria (Manhattan): 9.10 [kB]\n"
          ],
          "name": "stdout"
        }
      ]
    },
    {
      "cell_type": "code",
      "metadata": {
        "id": "IUzvrFiOEIA4",
        "colab_type": "code",
        "colab": {
          "base_uri": "https://localhost:8080/",
          "height": 479
        },
        "outputId": "e6e3b1e7-17a7-45ab-c7a2-fd0600995b2f"
      },
      "source": [
        "import matplotlib.pyplot as plt\n",
        "import seaborn as sns\n",
        "sns.set(style=\"darkgrid\")\n",
        "\n",
        "hamming_path=[]\n",
        "hamming_frontier=[]\n",
        "manhattan_path=[]\n",
        "manhattan_frontier=[]\n",
        "\n",
        "        \n",
        "for i in range(100):\n",
        "    while True:\n",
        "        random_start=puzzle(np.random.permutation(np.arange(dim*dim)).reshape((dim,dim)),0)\n",
        "        if random_start.solvable() : break\n",
        "    solver1=bestfirst_puzzle(random_start,hamming)\n",
        "    solver2=bestfirst_puzzle(random_start,manhattan)\n",
        "    p1,i,j=solver1.search(goal)\n",
        "    p2,k,h=solver2.search(goal)\n",
        "    hamming_path.append(j)\n",
        "    hamming_frontier.append(i)\n",
        "    manhattan_path.append(h)\n",
        "    manhattan_frontier.append(k)\n",
        "    \n",
        "\n",
        "plt.figure(figsize=(20,15))\n",
        "plt.plot([1,2,3])\n",
        "plt.subplot(221)\n",
        "plt.hist(hamming_path,bins=20 , histtype='stepfilled', color='b', alpha=0.5, label='Hamming')\n",
        "plt.hist(manhattan_path,bins=20, histtype='stepfilled',  color='r', alpha=0.5, label='Manhattan') \n",
        "plt.title(\"Path length Best-First\")\n",
        "plt.legend()\n",
        "plt.subplot(222)\n",
        "plt.hist(hamming_frontier,bins=20, histtype='stepfilled',  color='b', alpha=0.5, label='Hamming') \n",
        "plt.hist(manhattan_frontier,bins=20, histtype='stepfilled', color='r', alpha=0.5, label='Manhattan') \n",
        "plt.title(\"Frontier length Best-First\")\n",
        "plt.legend()\n",
        "plt.show()"
      ],
      "execution_count": 42,
      "outputs": [
        {
          "output_type": "stream",
          "text": [
            "/usr/local/lib/python3.6/dist-packages/statsmodels/tools/_testing.py:19: FutureWarning: pandas.util.testing is deprecated. Use the functions in the public API at pandas.testing instead.\n",
            "  import pandas.util.testing as tm\n"
          ],
          "name": "stderr"
        },
        {
          "output_type": "display_data",
          "data": {
            "image/png": "[encoded data removed]",
            "text/plain": [
              "<Figure size 1440x1080 with 2 Axes>"
            ]
          },
          "metadata": {
            "tags": []
          }
        }
      ]
    },
    {
      "cell_type": "code",
      "metadata": {
        "id": "ZdwAxrn8EIA7",
        "colab_type": "code",
        "colab": {}
      },
      "source": [
        "class astar_puzzle(generic_search_problem):\n",
        "    \n",
        "    def __init__(self,start,heuristic):\n",
        "        self.state=start\n",
        "        self.heuristic=heuristic\n",
        "            \n",
        "    def is_goal(self,node,goal):\n",
        "        return node==goal\n",
        "    \n",
        "    def get_children(self,node):\n",
        "        return node.get_children()\n",
        "    \n",
        "    def search(self,goal):\n",
        "        parents={}\n",
        "        visited=set()\n",
        "        parents.update({self.state:None})\n",
        "        frontier=[]\n",
        "        fun=self.heuristic(self.state,goal)+self.state.level\n",
        "        heappush(frontier,(fun,self.state))\n",
        "        while frontier:\n",
        "            node=heappop(frontier)[1]\n",
        "            if self.is_goal(node,goal):\n",
        "                return parents,len(frontier),node.level\n",
        "            visited.add(node)\n",
        "            for child in self.get_children(node):\n",
        "                if child not in visited:\n",
        "                    parents.update({child:node})\n",
        "                    fun=self.heuristic(child,goal)+child.level\n",
        "                    heappush(frontier,(fun,child))\n",
        "        return parents,len(frontier),node.level"
      ],
      "execution_count": 43,
      "outputs": []
    },
    {
      "cell_type": "code",
      "metadata": {
        "id": "NXMP-moJEIA-",
        "colab_type": "code",
        "colab": {
          "base_uri": "https://localhost:8080/",
          "height": 35
        },
        "outputId": "b1d807b4-af0e-404e-9ff4-6db6319b13ec"
      },
      "source": [
        "astar_solver=astar_puzzle(random_start,hamming)\n",
        "astar_tree,k,h=astar_solver.search(goal)\n",
        "path=get_path(astar_tree,goal)\n",
        "\n",
        "#for p in path:\n",
        "#    print(p.state,p.level)\n",
        "#    print('---------------')\n",
        "#print('frontier : {0}, visited : {1}'.format(k,h))\n",
        "    \n",
        "print('A-Star Hamming memoria : {0:.2f} [kB]'.format(sys.getsizeof(astar_tree)/1024)) "
      ],
      "execution_count": 71,
      "outputs": [
        {
          "output_type": "stream",
          "text": [
            "A-Star Hamming memoria : 1280.09 [kB]\n"
          ],
          "name": "stdout"
        }
      ]
    },
    {
      "cell_type": "code",
      "metadata": {
        "id": "lzG9k338JUwq",
        "colab_type": "code",
        "colab": {
          "base_uri": "https://localhost:8080/",
          "height": 53
        },
        "outputId": "c0647af7-47ca-4a95-c0bc-1211e00c52ca"
      },
      "source": [
        "astar_solver=astar_puzzle(random_start,manhattan)\n",
        "astar_tree,k,h=astar_solver.search(goal)\n",
        "path=get_path(astar_tree,goal)\n",
        "\n",
        "#for p in path:\n",
        "#    print(p.state,p.level)\n",
        "#    print('---------------')\n",
        "print('frontier : {0}, visited : {1}'.format(k,h))\n",
        "    \n",
        "print('A-Star Manhattan memoria : {0:.2f} [kB]'.format(sys.getsizeof(astar_tree)/1024)) "
      ],
      "execution_count": 70,
      "outputs": [
        {
          "output_type": "stream",
          "text": [
            "frontier : 1774, visited : 24\n",
            "A-Star Manhattan memoria : 144.10 [kB]\n"
          ],
          "name": "stdout"
        }
      ]
    },
    {
      "cell_type": "code",
      "metadata": {
        "id": "U37AkwucEIBB",
        "colab_type": "code",
        "colab": {
          "base_uri": "https://localhost:8080/",
          "height": 423
        },
        "outputId": "7cef3a45-55e0-44e5-97e7-74195d938f06"
      },
      "source": [
        "import matplotlib.pyplot as plt\n",
        "import seaborn as sns\n",
        "sns.set(style=\"darkgrid\")\n",
        "\n",
        "hamming_path=[]\n",
        "hamming_frontier=[]\n",
        "manhattan_path=[]\n",
        "manhattan_frontier=[]\n",
        "\n",
        "        \n",
        "for i in range(100):\n",
        "    while True:\n",
        "        random_start=puzzle(np.random.permutation(np.arange(dim*dim)).reshape((dim,dim)),0)\n",
        "        if random_start.solvable() : break\n",
        "    solver1=astar_puzzle(random_start,hamming)\n",
        "    solver2=astar_puzzle(random_start,manhattan)\n",
        "    p1,i,j=solver1.search(goal)\n",
        "    p2,k,h=solver2.search(goal)\n",
        "    hamming_path.append(j)\n",
        "    hamming_frontier.append(i)\n",
        "    manhattan_path.append(h)\n",
        "    manhattan_frontier.append(k)\n",
        "    \n",
        "\n",
        "plt.figure(figsize=(20,15))\n",
        "plt.plot([1,2,3])\n",
        "plt.subplot(221)\n",
        "plt.hist(hamming_path,bins=20 , histtype='stepfilled', color='b', alpha=0.5, label='Hamming')\n",
        "plt.hist(manhattan_path,bins=20, histtype='stepfilled',  color='r', alpha=0.5, label='Manhattan') \n",
        "plt.title(\"Path length A star\")\n",
        "plt.legend()\n",
        "plt.subplot(222)\n",
        "plt.hist(hamming_frontier,bins=20, histtype='stepfilled',  color='b', alpha=0.5, label='Hamming') \n",
        "plt.hist(manhattan_frontier,bins=20, histtype='stepfilled', color='r', alpha=0.5, label='Manhattan') \n",
        "plt.title(\"Frontier length A star\")\n",
        "plt.legend()\n",
        "plt.show()"
      ],
      "execution_count": 67,
      "outputs": [
        {
          "output_type": "display_data",
          "data": {
            "image/png": "[encoded data removed]",
            "text/plain": [
              "<Figure size 1440x1080 with 2 Axes>"
            ]
          },
          "metadata": {
            "tags": []
          }
        }
      ]
    },
    {
      "cell_type": "code",
      "metadata": {
        "id": "0vT1DBVCEIBE",
        "colab_type": "code",
        "colab": {}
      },
      "source": [
        "def gen_state(level=1):\n",
        "    node=goal\n",
        "    visited={goal}\n",
        "    c=0\n",
        "    while c<level:\n",
        "        nodes=[p for p in node.get_children() if p not in visited]\n",
        "        ind=np.random.randint(len(nodes),size=1)\n",
        "        node=nodes[np.random.randint(len(nodes),size=1)[0]]\n",
        "        visited.add(node)\n",
        "        c=c+1\n",
        "    return node"
      ],
      "execution_count": 48,
      "outputs": []
    },
    {
      "cell_type": "code",
      "metadata": {
        "id": "IEhY7wjWEIBH",
        "colab_type": "code",
        "colab": {
          "base_uri": "https://localhost:8080/",
          "height": 107
        },
        "outputId": "74ed16e3-9a1e-40cd-cc49-737bf758f2eb"
      },
      "source": [
        "import time\n",
        "new_node=gen_state(level=100)\n",
        "\n",
        "solver=bestfirst_puzzle(new_node,manhattan)\n",
        "t1=time.time()\n",
        "bf_tree,k1,d1=solver.search(goal)\n",
        "print('Tiempo Best-First: ',time.time()-t1)\n",
        "print('Best-First memoria : {0:.2f} [kB], Nivel : '.format(sys.getsizeof(bf_tree)/1024),d1)\n",
        "print('----------------------------------')\n",
        "solver=astar_puzzle(new_node,manhattan)\n",
        "t2=time.time()\n",
        "astar_tree,k2,d2=solver.search(goal)\n",
        "print('Tiempo A-star: ',time.time()-t2)\n",
        "print('A-star memoria : {0:.2f} [kB], Nivel : '.format(sys.getsizeof(astar_tree)/1024),d2)"
      ],
      "execution_count": 65,
      "outputs": [
        {
          "output_type": "stream",
          "text": [
            "Tiempo Best-First:  0.127671480178833\n",
            "Best-First memoria : 9.10 [kB], Nivel :  148\n",
            "----------------------------------\n",
            "Tiempo A-star:  0.1307811737060547\n",
            "A-star memoria : 9.10 [kB], Nivel :  118\n"
          ],
          "name": "stdout"
        }
      ]
    },
    {
      "cell_type": "code",
      "metadata": {
        "id": "wNB_PofgEIBM",
        "colab_type": "code",
        "colab": {
          "base_uri": "https://localhost:8080/",
          "height": 107
        },
        "outputId": "f4cd5a5c-eab5-4f75-ed1e-833dfb29eafa"
      },
      "source": [
        "solver=bestfirst_puzzle(new_node,hamming)\n",
        "t1=time.time()\n",
        "bf_tree,k1,d1=solver.search(goal)\n",
        "print('Tiempo Best-First: ',time.time()-t1)\n",
        "print('Best-First memoria : {0:.2f} [kB], Nivel : '.format(sys.getsizeof(bf_tree)/1024),d1)\n",
        "print('----------------------------------')\n",
        "solver=astar_puzzle(new_node,hamming)\n",
        "t2=time.time()\n",
        "astar_tree,k2,d2=solver.search(goal)\n",
        "print('Tiempo A-star: ',time.time()-t2)\n",
        "print('A-star memoria : {0:.2f} [kB], Nivel : '.format(sys.getsizeof(astar_tree)/1024),d2)"
      ],
      "execution_count": 66,
      "outputs": [
        {
          "output_type": "stream",
          "text": [
            "Tiempo Best-First:  0.45841526985168457\n",
            "Best-First memoria : 36.10 [kB], Nivel :  158\n",
            "----------------------------------\n",
            "Tiempo A-star:  1.0276892185211182\n",
            "A-star memoria : 72.09 [kB], Nivel :  118\n"
          ],
          "name": "stdout"
        }
      ]
    },
    {
      "cell_type": "code",
      "metadata": {
        "id": "WNg-v8oGEIBP",
        "colab_type": "code",
        "colab": {}
      },
      "source": [
        ""
      ],
      "execution_count": null,
      "outputs": []
    }
  ]
}