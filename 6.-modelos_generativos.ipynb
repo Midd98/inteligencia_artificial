{
 "cells": [
  {
   "cell_type": "markdown",
   "metadata": {},
   "source": [
    "# Modelos Generativos\n",
    "\n",
    "Los modelos generativos son \n",
    "\n",
    "\n",
    "Por ejemplo, consideremos un modelo generativo para el reconocimiento optico de caracteres a partir de \n",
    "imagenes binarias de digitos []. Las datos $\\textbf x$ consisten de imagenes binarias de digitos del $0-9$ escaneados y redimensionados a $28 \\times 28$ pixeles. \n",
    "\n",
    "Dado que los datos provienen de imagenes binarias donde cada pixel es independiente del otro, un modelo acorde es \n",
    "la distribucion de Bernoulli. Por lo tanto, la probabilidad de observar el pixel $x_i \\in \\{0,1\\}$ esta dada por la distribucion de Bernoulli con parametro $\\theta_i$\n",
    "    \n",
    "\\begin{align}\n",
    "p(\\textbf {x} \\vert \\Theta)= \\prod_{i=1}^{784} p(x_i \\vert \\theta_i)\\\\\n",
    "p(x_i \\vert \\theta_i)=\\theta_i^{x_i} (1-\\theta_i)^{1-x_i}\n",
    "\\end{align}\n",
    "\n",
    "Utilizando el teorema de Bayes:\n",
    "\n",
    "\\begin{align}\n",
    "p(\\Theta \\vert  \\textbf {x} ) =  \\frac{p(\\textbf {x} \\vert \\Theta)p(\\Theta)}{p(\\textbf {x})}\n",
    "\\end{align}\n",
    "\n",
    "donde $\\Theta = [\\theta_1,\\ldots,\\theta_{784}]$\n",
    "\n",
    "Si hacemos que la probabilidad apriori de cada pixel $p(\\theta_i)$ sea una distribucion Beta, tenemos:\n",
    "\n",
    "\\begin{align}\n",
    "p(\\theta_i)= \\frac{1}{B(\\alpha,\\beta)} \\theta_i^{\\alpha-1} (1-\\theta_i)^{\\beta-1}\n",
    "\\end{align}\n",
    "\n",
    "donde $B(\\alpha,\\beta)$ es la funcion Beta.\n",
    "\n",
    "Ahora, utlizamos $p(\\theta_i)$:\n",
    "\n",
    "\\begin{align}\n",
    "p(\\Theta \\vert  \\textbf {x} ) \\propto  \\frac{1}{B(\\alpha,\\beta)^{784}} \\prod_{i=1}^{784}    \\theta_i^{x_i+\\alpha-1} (1-\\theta_i)^{1-x_i+\\beta-1}\n",
    "\\end{align}\n"
   ]
  },
  {
   "cell_type": "code",
   "execution_count": 157,
   "metadata": {},
   "outputs": [],
   "source": [
    "import time\n",
    "import matplotlib.pyplot as plt\n",
    "import numpy as np\n",
    "import sklearn \n",
    "\n",
    "from sklearn.datasets import fetch_openml\n",
    "X, y = fetch_openml('mnist_784', version=1, return_X_y=True)"
   ]
  },
  {
   "cell_type": "code",
   "execution_count": 126,
   "metadata": {},
   "outputs": [],
   "source": [
    "from sklearn.model_selection import train_test_split\n",
    "\n",
    "X_train, X_test, y_train, y_test = train_test_split(X, y, test_size=0.33, random_state=42)"
   ]
  },
  {
   "cell_type": "code",
   "execution_count": 136,
   "metadata": {},
   "outputs": [
    {
     "data": {
      "text/plain": [
       "<matplotlib.image.AxesImage at 0x7f385a7fe5f8>"
      ]
     },
     "execution_count": 136,
     "metadata": {},
     "output_type": "execute_result"
    },
    {
     "data": {
      "image/png": "[encoded data removed]",
      "text/plain": [
       "<Figure size 432x288 with 1 Axes>"
      ]
     },
     "metadata": {},
     "output_type": "display_data"
    }
   ],
   "source": [
    "zero_data=X_train[y_train=='0',:]\n",
    "plt.imshow(zero_data[0].reshape([28,28]), cmap='Greys')"
   ]
  },
  {
   "cell_type": "code",
   "execution_count": 137,
   "metadata": {},
   "outputs": [],
   "source": [
    "binary_zero=(zero_data>128).astype(np.int)"
   ]
  },
  {
   "cell_type": "code",
   "execution_count": 138,
   "metadata": {},
   "outputs": [
    {
     "data": {
      "text/plain": [
       "<matplotlib.image.AxesImage at 0x7f3852fe3278>"
      ]
     },
     "execution_count": 138,
     "metadata": {},
     "output_type": "execute_result"
    },
    {
     "data": {
      "image/png": "[encoded data removed]",
      "text/plain": [
       "<Figure size 432x288 with 1 Axes>"
      ]
     },
     "metadata": {},
     "output_type": "display_data"
    }
   ],
   "source": [
    "plt.imshow(binary_zero[0].reshape([28,28]), cmap='Greys')"
   ]
  },
  {
   "cell_type": "markdown",
   "metadata": {},
   "source": [
    "Ahora consideramos el conjunto de datos $X=\\{\\mathbf x_j\\}_{j=1}^N$. Primero obtenenos el estimador de maxima verosimilitud $\\hat \\Theta$:\n",
    "\n",
    "\n",
    "\\begin{align}\n",
    "p(X \\vert \\Theta) &=  \\prod_{j=1}^{N} \\prod_{i=1}^{784} p(x_{j,i} \\vert \\theta_i)\\\\\n",
    "& = \\prod_{i=1}^{784} \\binom{N}{\\sum_j x_i} \\theta_i^{\\sum_j x_i} (1-\\theta_i)^{1-\\sum_j x_i}\\\\\n",
    "\\hat \\Theta &= \\frac{\\partial{p(X \\vert \\Theta)}}{\\partial{\\Theta}}\\\\\n",
    "& \\equiv \\frac{\\partial{\\operatorname{log} p(X \\vert \\Theta)}}{\\partial{\\Theta}}\\\\\n",
    "\\hat \\theta_i &= \\frac{\\sum_j x_{j,i}}{N}\n",
    "\\end{align}"
   ]
  },
  {
   "cell_type": "code",
   "execution_count": 139,
   "metadata": {},
   "outputs": [],
   "source": [
    "from scipy.stats import beta\n",
    "from scipy.stats import bernoulli\n",
    "\n",
    "n_data=binary_zero.shape[0]\n",
    "theta=binary_zero.sum(axis=0)/n_data\n",
    "p_x_theta_ml = [ bernoulli(p) for p in theta]"
   ]
  },
  {
   "cell_type": "code",
   "execution_count": 158,
   "metadata": {},
   "outputs": [],
   "source": [
    "fake_data=np.asarray([p_x_theta_ml[i].rvs() for i in range(784)])"
   ]
  },
  {
   "cell_type": "code",
   "execution_count": 159,
   "metadata": {},
   "outputs": [
    {
     "data": {
      "text/plain": [
       "<matplotlib.image.AxesImage at 0x7f38605c3518>"
      ]
     },
     "execution_count": 159,
     "metadata": {},
     "output_type": "execute_result"
    },
    {
     "data": {
      "image/png": "[encoded data removed]",
      "text/plain": [
       "<Figure size 432x288 with 1 Axes>"
      ]
     },
     "metadata": {},
     "output_type": "display_data"
    }
   ],
   "source": [
    "plt.imshow(fake_data.reshape([28,28]), cmap='Greys')"
   ]
  },
  {
   "cell_type": "code",
   "execution_count": 147,
   "metadata": {},
   "outputs": [
    {
     "name": "stdout",
     "output_type": "stream",
     "text": [
      "ML log-likelihood : -inf\n"
     ]
    }
   ],
   "source": [
    "zero_test=X_test[y_test=='0',:]\n",
    "binary_test=(zero_data>128).astype(np.int)\n",
    "x_data=(binary_test[0])\n",
    "log_likelihood=[p_x_theta_ml[i].logpmf(x_data) for i in range(784)]\n",
    "print('ML log-likelihood : {0:0.2f}'.format(np.sum(log_likelihood)))"
   ]
  },
  {
   "cell_type": "code",
   "execution_count": 148,
   "metadata": {},
   "outputs": [],
   "source": [
    "xi_sum=binary_zero.sum(axis=0)\n",
    "p_theta = [beta(xi_sum[i]+2,2+n_data-xi_sum[i]) for i in range(784)]\n",
    "\n",
    "p_x_theta_map = [ bernoulli(p.rvs()) for p in p_theta]"
   ]
  },
  {
   "cell_type": "code",
   "execution_count": 145,
   "metadata": {},
   "outputs": [
    {
     "data": {
      "text/plain": [
       "<matplotlib.image.AxesImage at 0x7f38637a2d30>"
      ]
     },
     "execution_count": 145,
     "metadata": {},
     "output_type": "execute_result"
    },
    {
     "data": {
      "image/png": "[encoded data removed]",
      "text/plain": [
       "<Figure size 432x288 with 1 Axes>"
      ]
     },
     "metadata": {},
     "output_type": "display_data"
    }
   ],
   "source": [
    "fake_data=np.asarray([p_x_theta_map[i].rvs() for i in range(784)])\n",
    "plt.imshow(fake_data.reshape([28,28]), cmap='Greys')"
   ]
  },
  {
   "cell_type": "code",
   "execution_count": 149,
   "metadata": {},
   "outputs": [
    {
     "name": "stdout",
     "output_type": "stream",
     "text": [
      "0 Test MAP log-likelihood (class 0): -198.22\n"
     ]
    }
   ],
   "source": [
    "log_like_zero=[]\n",
    "for i in range(binary_test[0].shape[0]):\n",
    "    x_data=(binary_test[i])\n",
    "    log_likelihood=[p_x_theta_map[i].logpmf(x_data[i]) for i in range(784)]\n",
    "    log_like_zero.append(np.sum(log_likelihood))\n",
    "print('0 Test MAP log-likelihood (class 0): {0:0.2f}'.format(np.mean(log_like_zero)))"
   ]
  },
  {
   "cell_type": "code",
   "execution_count": 146,
   "metadata": {},
   "outputs": [
    {
     "name": "stdout",
     "output_type": "stream",
     "text": [
      "1 MAP log-likelihood (0 class) : -274.11\n"
     ]
    }
   ],
   "source": [
    "one_test=X_test[y_test=='1',:]\n",
    "binary_one=(one_data>128).astype(np.int)\n",
    "\n",
    "log_like_one=[]\n",
    "for i in range(binary_one[0].shape[0]):\n",
    "    x_data=(binary_one[i])\n",
    "    log_likelihood=[p_x_theta_map[i].logpmf(x_data[i]) for i in range(784)]\n",
    "    log_like_one.append(np.sum(log_likelihood))\n",
    "print('1 Test MAP log-likelihood (0 class) : {0:0.2f}'.format(np.mean(log_like_one)))"
   ]
  },
  {
   "cell_type": "code",
   "execution_count": 154,
   "metadata": {},
   "outputs": [],
   "source": [
    "import pandas as pd\n",
    "\n",
    "ll_zero=pd.DataFrame({'digit':['zero | zero']*binary_test[0].shape[0],'log-likelihood':log_like_zero})\n",
    "ll_one=pd.DataFrame({'digit':['one | zero']*binary_one[0].shape[0],'log-likelihood':log_like_one})"
   ]
  },
  {
   "cell_type": "code",
   "execution_count": 155,
   "metadata": {},
   "outputs": [],
   "source": [
    "df=pd.concat([ll_zero,ll_one])"
   ]
  },
  {
   "cell_type": "code",
   "execution_count": 156,
   "metadata": {},
   "outputs": [
    {
     "data": {
      "text/plain": [
       "array([<matplotlib.axes._subplots.AxesSubplot object at 0x7f38604bbac8>,\n",
       "       <matplotlib.axes._subplots.AxesSubplot object at 0x7f3860518cf8>],\n",
       "      dtype=object)"
      ]
     },
     "execution_count": 156,
     "metadata": {},
     "output_type": "execute_result"
    },
    {
     "data": {
      "image/png": "[encoded data removed]",
      "text/plain": [
       "<Figure size 720x504 with 2 Axes>"
      ]
     },
     "metadata": {},
     "output_type": "display_data"
    }
   ],
   "source": [
    "df.hist(by='digit',figsize=(10,7))"
   ]
  },
  {
   "cell_type": "code",
   "execution_count": null,
   "metadata": {},
   "outputs": [],
   "source": []
  }
 ],
 "metadata": {
  "kernelspec": {
   "display_name": "Python 3",
   "language": "python",
   "name": "python3"
  },
  "language_info": {
   "codemirror_mode": {
    "name": "ipython",
    "version": 3
   },
   "file_extension": ".py",
   "mimetype": "text/x-python",
   "name": "python",
   "nbconvert_exporter": "python",
   "pygments_lexer": "ipython3",
   "version": "3.6.9"
  }
 },
 "nbformat": 4,
 "nbformat_minor": 2
}
