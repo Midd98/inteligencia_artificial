{
 "cells": [
  {
   "cell_type": "markdown",
   "metadata": {},
   "source": [
    "# Hidden Markov Model\n",
    "\n",
    "Tal cual como redes Bayesianas con probabilidades discretas, también es posible estudiar secuencias temporales discretas. Estas secuencias se dan en muchas problemas en que necesitamos clasificar el estado de un proceso (oculto o latente) $Z$ que toma valores (discretos o contínuos) a los que tenemos acceso a través de  variables observadas $X$.  \n",
    "\n",
    "\n",
    "Sin embargo, si sabemos que el proceso $Z$ tiene la propiedad de Markov de primer orden $p(z_k \\vert z_{k-1},\\ldots,z_1)=p(z_k \\vert z_{k-1})$ y que las observaciones $X$ son independientes entre si y solamente dependen de la variable oculta.\n",
    "\n",
    "Las variables observadas pueden ser variables discretas o continuas. Cuando se consideran v.a. discretas, podemos especificar una matriz $\\boldsymbol{A}_{[N \\times N]}$ de transición para los $N$ posibles estados, una matriz de emisión $\\boldsymbol{B}_{[M \\times N]}$ y un conjunto de probabilidades iniciales $\\boldsymbol{\\pi}$."
   ]
  },
  {
   "cell_type": "markdown",
   "metadata": {},
   "source": [
    "$\n",
    "\\begin{align*}\n",
    "\\boldsymbol{A}_{n,n} = \n",
    "\\begin{pmatrix}\n",
    "z_{1,1} & z_{1,2} & \\cdots & z_{1,N} \\\\\n",
    "z_{2,1} & z_{2,2} & \\cdots & z_{2,N} \\\\\n",
    "\\vdots  & \\vdots  & \\ddots & \\vdots  \\\\\n",
    "z_{N,1} & z_{N,2} & \\cdots & z_{N,N} \n",
    "\\end{pmatrix};\\quad\n",
    "&\\boldsymbol{B}_{m,n} = \n",
    "\\begin{pmatrix}\n",
    "x_{1,1} & x_{1,2} & \\cdots & x_{1,N} \\\\\n",
    "x_{2,1} & x_{2,2} & \\cdots & x_{2,N} \\\\\n",
    "\\vdots  & \\vdots  & \\ddots & \\vdots  \\\\\n",
    "x_{M,1} & x_{M,2} & \\cdots & x_{M,N} \n",
    "\\end{pmatrix}; \\quad\n",
    "\\boldsymbol{\\pi}=[\\pi_1,\\ldots,\\pi_N]\n",
    "\\end{align*}\n",
    "$"
   ]
  },
  {
   "cell_type": "markdown",
   "metadata": {},
   "source": [
    "Dado un modelo $\\lambda=(\\boldsymbol{A,B,\\pi})$, una secuencia observada $X_n=\\{x_1,\\ldots,x_n\\}$ y un conjunto de estados $Z_n=\\{z_1,\\ldots,z_n\\}$, los patrones de inferencia para HMM son los siguientes:\n",
    "\t\n",
    "Filtrado : Determinar $p(z_n \\vert X_n)$.\n",
    "\n",
    "Verosimilitud :  Determinar $p(X_n)$. \n",
    "\n",
    "Secuencia más probable :  $p(Z_n \\vert X_n)$."
   ]
  },
  {
   "cell_type": "code",
   "execution_count": 320,
   "metadata": {},
   "outputs": [],
   "source": [
    "import numpy as np\n",
    "\n",
    "class HMM:\n",
    "\n",
    "    def __init__(self,A,B,pi):\n",
    "        self.A = A\n",
    "        self.B = B\n",
    "        self.pi = pi\n",
    "\n",
    "    def alpha_recursion(self,observations):\n",
    "        D=len(self.pi)\n",
    "        T=len(observations)\n",
    "        alpha=np.zeros((D,T))\n",
    "        alpha[:,0]=self.pi*self.B[observations[0]]\n",
    "        #alpha[:,0]=alpha[:,0]/alpha[:,0].sum()\n",
    "        for i in range(1,T):\n",
    "            alpha[:,i]=np.dot(np.diag(self.B[observations[i]]),np.dot(self.A,alpha[:,i-1]))\n",
    "            #alpha[:,i]=alpha[:,i]/alpha[:,i].sum()\n",
    "        return alpha\n",
    "    \n",
    "    def beta_recursion(self,observations):\n",
    "        D=len(self.pi)\n",
    "        T=len(observations)\n",
    "        beta=np.zeros((D,T))\n",
    "        beta[:,-1]=np.ones(D)\n",
    "        for i in range(T-1,0,-1):\n",
    "            beta[:,i-1]=np.dot(self.A,np.diag(self.B[observations[i]]).dot(beta[:,i]))\n",
    "        return beta\n",
    "    \n",
    "    def likelihood(self,observations):\n",
    "        alpha=self.alpha_recursion(observations)\n",
    "        likelihood=np.sum(alpha,0)\n",
    "        return likelihood.sum()\n",
    "    \n"
   ]
  },
  {
   "cell_type": "code",
   "execution_count": 321,
   "metadata": {},
   "outputs": [],
   "source": [
    "B=np.array([[0.7,0.4,0.8],\n",
    "           [0.3,0.6,0.2]])\n",
    "A=np.array([[0.5,0.3,0.2],\n",
    "            [0.0,0.6,0.4],\n",
    "            [0.0,0.0,1.0]]).T\n",
    "pi=np.array([0.9,0.1,0.0])\n",
    "observations=np.array([0,1,0])\n",
    "\n",
    "hmm=HMM(A,B,pi)\n"
   ]
  },
  {
   "cell_type": "code",
   "execution_count": 322,
   "metadata": {},
   "outputs": [
    {
     "name": "stdout",
     "output_type": "stream",
     "text": [
      "p(v_1,v_2,v_3)=0.154\n"
     ]
    }
   ],
   "source": [
    "alpha=hmm.alpha_recursion(observations)\n",
    "beta=hmm.beta_recursion(observations)\n",
    "\n",
    "print('p(v_1,v_2,v_3)={0:0.3f}'.format(alpha[:,-1].sum()))"
   ]
  },
  {
   "cell_type": "code",
   "execution_count": 323,
   "metadata": {},
   "outputs": [
    {
     "name": "stdout",
     "output_type": "stream",
     "text": [
      "alpha 0 : [0.94029851 0.05970149 0.        ]\n",
      "alpha 1 : [0.37694456 0.50977264 0.11328281]\n",
      "alpha 2 : [0.21501986 0.2731191  0.51186104]\n"
     ]
    }
   ],
   "source": [
    "alpha_norm=alpha/alpha.sum(axis=0)\n",
    "\n",
    "for i in range(alpha_norm.shape[1]):\n",
    "    print('alpha {0} : {1}'.format(i,alpha_norm[:,i]))"
   ]
  },
  {
   "cell_type": "code",
   "execution_count": 324,
   "metadata": {},
   "outputs": [
    {
     "name": "stdout",
     "output_type": "stream",
     "text": [
      "beta 0 : [0.08823529 0.32521008 0.58655462]\n",
      "beta 1 : [0.18421053 0.23684211 0.57894737]\n",
      "beta 2 : [0.33333333 0.33333333 0.33333333]\n"
     ]
    }
   ],
   "source": [
    "beta_norm=beta/beta.sum(axis=0)\n",
    "\n",
    "for i in range(beta_norm.shape[1]):\n",
    "    print('beta {0} : {1}'.format(i,beta_norm[:,i]))"
   ]
  },
  {
   "cell_type": "code",
   "execution_count": 325,
   "metadata": {},
   "outputs": [
    {
     "name": "stdout",
     "output_type": "stream",
     "text": [
      "p(h_1 |v_1, v_2,v_3)=[0.81036384 0.18963616 0.        ]\n"
     ]
    }
   ],
   "source": [
    "pv1=alpha_norm[:,0]*beta_norm[:,0]\n",
    "pv1=pv1/pv1.sum()\n",
    "print('p(h_1 |v_1, v_2,v_3)={0}'.format(pv1))"
   ]
  },
  {
   "cell_type": "code",
   "execution_count": 326,
   "metadata": {},
   "outputs": [],
   "source": [
    "B=np.array([[0.9,0.2],\n",
    "           [0.1,0.8]])\n",
    "A=np.array([[0.7,0.3],\n",
    "            [0.3,0.7]])\n",
    "pi=np.array([0.5,0.5])\n",
    "observations=np.array([0,0,1,0,0])\n",
    "\n",
    "hmm=HMM(A,B,pi)"
   ]
  },
  {
   "cell_type": "code",
   "execution_count": 327,
   "metadata": {},
   "outputs": [],
   "source": [
    "alpha=hmm.alpha_recursion(observations)\n",
    "beta=hmm.beta_recursion(observations)\n"
   ]
  },
  {
   "cell_type": "code",
   "execution_count": 328,
   "metadata": {},
   "outputs": [
    {
     "name": "stdout",
     "output_type": "stream",
     "text": [
      "alpha 0 : [0.81818182 0.18181818]\n",
      "alpha 1 : [0.88335704 0.11664296]\n",
      "alpha 2 : [0.19066794 0.80933206]\n",
      "alpha 3 : [0.730794 0.269206]\n",
      "alpha 4 : [0.86733889 0.13266111]\n"
     ]
    }
   ],
   "source": [
    "alpha_norm=alpha/alpha.sum(axis=0)\n",
    "\n",
    "for i in range(alpha_norm.shape[1]):\n",
    "    print('alpha {0} : {1}'.format(i,alpha_norm[:,i]))"
   ]
  },
  {
   "cell_type": "code",
   "execution_count": 330,
   "metadata": {},
   "outputs": [
    {
     "name": "stdout",
     "output_type": "stream",
     "text": [
      "beta 0 : [0.5923176 0.4076824]\n",
      "beta 1 : [0.37626718 0.62373282]\n",
      "beta 2 : [0.65334282 0.34665718]\n",
      "beta 3 : [0.62727273 0.37272727]\n",
      "beta 4 : [0.5 0.5]\n"
     ]
    }
   ],
   "source": [
    "beta_norm=beta/beta.sum(axis=0)\n",
    "\n",
    "for i in range(beta_norm.shape[1]):\n",
    "    print('beta {0} : {1}'.format(i,beta_norm[:,i]))"
   ]
  },
  {
   "cell_type": "code",
   "execution_count": 331,
   "metadata": {},
   "outputs": [],
   "source": [
    "b1=np.ones(2)\n",
    "b2=np.dot(A,np.diag(B[observations[4]]).dot(b1))"
   ]
  },
  {
   "cell_type": "code",
   "execution_count": 332,
   "metadata": {},
   "outputs": [],
   "source": [
    "b3=np.dot(A,np.diag(B[observations[3]]).dot(b2))"
   ]
  },
  {
   "cell_type": "code",
   "execution_count": 333,
   "metadata": {},
   "outputs": [
    {
     "data": {
      "text/plain": [
       "array([0.65334282, 0.34665718])"
      ]
     },
     "execution_count": 333,
     "metadata": {},
     "output_type": "execute_result"
    }
   ],
   "source": [
    "b3/b3.sum()"
   ]
  },
  {
   "cell_type": "code",
   "execution_count": 334,
   "metadata": {},
   "outputs": [],
   "source": [
    "b4=np.dot(A,np.diag(B[observations[2]]).dot(b3))"
   ]
  },
  {
   "cell_type": "code",
   "execution_count": 335,
   "metadata": {},
   "outputs": [
    {
     "data": {
      "text/plain": [
       "array([0.090639, 0.150251])"
      ]
     },
     "execution_count": 335,
     "metadata": {},
     "output_type": "execute_result"
    }
   ],
   "source": [
    "b4"
   ]
  },
  {
   "cell_type": "code",
   "execution_count": 336,
   "metadata": {},
   "outputs": [
    {
     "data": {
      "text/plain": [
       "array([0.37626718, 0.62373282])"
      ]
     },
     "execution_count": 336,
     "metadata": {},
     "output_type": "execute_result"
    }
   ],
   "source": [
    "b4/b4.sum()"
   ]
  },
  {
   "cell_type": "code",
   "execution_count": null,
   "metadata": {},
   "outputs": [],
   "source": []
  }
 ],
 "metadata": {
  "kernelspec": {
   "display_name": "Python 2",
   "language": "python",
   "name": "python2"
  },
  "language_info": {
   "codemirror_mode": {
    "name": "ipython",
    "version": 3
   },
   "file_extension": ".py",
   "mimetype": "text/x-python",
   "name": "python",
   "nbconvert_exporter": "python",
   "pygments_lexer": "ipython3",
   "version": "3.6.9"
  }
 },
 "nbformat": 4,
 "nbformat_minor": 2
}
