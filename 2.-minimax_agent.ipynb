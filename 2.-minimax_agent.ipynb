{
 "cells": [
  {
   "cell_type": "markdown",
   "metadata": {},
   "source": [
    "<h1>Minimax</h1>\n",
    "\n",
    "En teoría de juegos, un árbol de juego es un grafo dirigido de tipo árbol cuyos nodos representan posiciones en el juego y cuyas aristas representan movimientos. Es posible representar una sucesión de jugadas mediante un camino conexo del árbol. \n",
    "<ul>\n",
    "<li> El objetivo de los juegos de dos oponentes es realizar una serie de acciones que de manera óptima (con restricciones de tiempo y capacidad de explorar el árbol de búsqueda) lleven hacia la victoria.</li>\n",
    "<li> El algoritmo de búsqueda Minimax trata de optimizar las acciones (Max) y al mismo tiempo minimizar las acciones del oponente (Min) </li>    \n",
    "<li> Las acciones del oponente no son conocidas apriori y por lo tanto no es posible determinar el árbol de búsqueda, sin embargo podemos asumir que el oponente siempre va a realizar la mejor jugada que sea posible.</li>\n",
    "<li> Al igual que la búsqueda en profundidad, Minimax tiene complejidad $O(b^d)$ y requerimientos de memoria $O(bd)$     </li>\n",
    "</ul>"
   ]
  },
  {
   "cell_type": "code",
   "execution_count": 1,
   "metadata": {},
   "outputs": [
    {
     "data": {
      "text/plain": [
       "<Figure size 1440x480 with 1 Axes>"
      ]
     },
     "metadata": {},
     "output_type": "display_data"
    },
    {
     "data": {
      "text/plain": [
       "<Figure size 1440x480 with 1 Axes>"
      ]
     },
     "metadata": {},
     "output_type": "display_data"
    },
    {
     "data": {
      "text/plain": [
       "<Figure size 1440x480 with 1 Axes>"
      ]
     },
     "metadata": {},
     "output_type": "display_data"
    },
    {
     "data": {
      "text/plain": [
       "<Figure size 1440x480 with 1 Axes>"
      ]
     },
     "metadata": {},
     "output_type": "display_data"
    }
   ],
   "source": [
    "import networkx as nx\n",
    "import matplotlib.pyplot as plt\n",
    "import numpy as np\n",
    "\n",
    "G=nx.DiGraph()\n",
    "G.add_edges_from([('a','b'),('a','c'),('b','d'),('b','f'),('c','g'),('c','h')])\n",
    "pos={'a':(0,0),'b':(-1,-1),'c':(1,-1),'d':(-1.5,-2),'f':(-0.5,-2),'g':(1.5,-2),'h':(0.5,-2)}\n",
    "\n",
    "node_color=['r','b','b','r','r','r','r']\n",
    "\n",
    "#'a':4,'b':4,'c':-3,'d':4,'\n",
    "max_labels={'d':4,'f':10,'g':-3,'h':12}\n",
    "plt.figure(num=None, figsize=(18, 6), dpi=80, facecolor='w', edgecolor='k')\n",
    "nx.draw_networkx_edges(G,pos,edge_color='gray',width=1,alpha=0.9)\n",
    "nx.draw_networkx_nodes(G,pos,node_size=1500,node_color=node_color,alpha=0.5)\n",
    "nx.draw_networkx_labels(G,pos,max_labels,font_size=20,font_family='sans-serif')\n",
    "\n",
    "min_labels=dict(max_labels,**{'b':4})\n",
    "plt.figure(num=None, figsize=(18, 6), dpi=80, facecolor='w', edgecolor='k')\n",
    "nx.draw_networkx_edges(G,pos,edge_color='gray',width=1,alpha=0.9)\n",
    "nx.draw_networkx_nodes(G,pos,node_size=1500,node_color=node_color,alpha=0.5)\n",
    "nx.draw_networkx_labels(G,pos,min_labels,font_size=20,font_family='sans-serif')\n",
    "\n",
    "min_labels=dict(min_labels,**{'c':-3})\n",
    "plt.figure(num=None, figsize=(18, 6), dpi=80, facecolor='w', edgecolor='k')\n",
    "nx.draw_networkx_edges(G,pos,edge_color='gray',width=1,alpha=0.9)\n",
    "nx.draw_networkx_nodes(G,pos,node_size=1500,node_color=node_color,alpha=0.5)\n",
    "nx.draw_networkx_labels(G,pos,min_labels,font_size=20,font_family='sans-serif')\n",
    "#plt.show()\n",
    "\n",
    "max_labels=dict(min_labels,**{'a':4})\n",
    "plt.figure(num=None, figsize=(18, 6), dpi=80, facecolor='w', edgecolor='k')\n",
    "nx.draw_networkx_edges(G,pos,edge_color='gray',width=1,alpha=0.9)\n",
    "nx.draw_networkx_nodes(G,pos,node_size=1500,node_color=node_color,alpha=0.5)\n",
    "nx.draw_networkx_labels(G,pos,max_labels,font_size=20,font_family='sans-serif')\n",
    "plt.show()"
   ]
  },
  {
   "cell_type": "markdown",
   "metadata": {},
   "source": [
    "<h1>Gato</h1>\n",
    "\n",
    "El tres en línea, también conocido Gato es un juego de lápiz y papel entre dos jugadores: O y X, que marcan los espacios de un tablero de 3×3 alternadamente. Un jugador gana si consigue tener una línea de tres de sus símbolos: la línea puede ser horizontal, vertical o diagonal.\n"
   ]
  },
  {
   "cell_type": "code",
   "execution_count": 2,
   "metadata": {},
   "outputs": [],
   "source": [
    "import numpy as np\n",
    "\n",
    "\n",
    "class Gato:\n",
    "    \n",
    "    def __init__(self,board=None):\n",
    "        if board is None:\n",
    "            self.board=np.zeros((3,3))\n",
    "        else:\n",
    "            self.board=board\n",
    "        self.player={'human':1,'ai':-1,'draw':-2}\n",
    "\n",
    "\n",
    "    def get_player_char(self,player_id):\n",
    "        char=' '\n",
    "        if (player_id==self.player['human']):\n",
    "            char='X'\n",
    "        elif (player_id==self.player['ai']):\n",
    "            char='O'\n",
    "        elif (player_id==self.player['draw']):\n",
    "            char='Empate'\n",
    "        return char\n",
    "    \n",
    "    def check_winner(self,player_id,board=None):\n",
    "        if board is None:\n",
    "            board=self.board\n",
    "        ind=player_id*3\n",
    "        winner=False\n",
    "        if (np.any(board.sum(axis=0)==ind) or np.any(board.sum(axis=1)==ind) or np.trace(board)==ind or np.trace(np.fliplr(board))==ind):\n",
    "            winner=True\n",
    "        return winner\n",
    "\n",
    "\n",
    "    def print_board(self,board=None):\n",
    "        if board is None:\n",
    "            board=self.board\n",
    "        print('-----------')\n",
    "        print(' ' + self.get_player_char(board[0][0]) + ' | ' \n",
    "              + self.get_player_char(board[0][1]) + ' | ' \n",
    "              + self.get_player_char(board[0][2]))\n",
    "        print('-----------')\n",
    "        print(' ' + self.get_player_char(board[1][0]) + ' | ' \n",
    "              + self.get_player_char(board[1][1]) + ' | ' \n",
    "              + self.get_player_char(board[1][2]))\n",
    "        print('-----------')\n",
    "        print(' ' + self.get_player_char(board[2][0]) + ' | ' \n",
    "              + self.get_player_char(board[2][1]) + ' | ' \n",
    "              + self.get_player_char(board[2][2]))\n",
    "        print('-----------')\n",
    "\n",
    "    def available_moves(self,board=None):\n",
    "        if board is None:\n",
    "            board=self.board\n",
    "        x,y=np.where(board==0)\n",
    "        return list(zip(x,y))\n",
    "\n",
    "    def utility(self):\n",
    "        utility=0\n",
    "        if(self.check_winner(self.player['human'],self.board)):\n",
    "            utility=-1\n",
    "        elif(self.check_winner(self.player['ai'],self.board)):\n",
    "            utility=1\n",
    "        elif(not np.any(self.board==0)):\n",
    "            utility=0\n",
    "        return utility\n",
    "\n",
    "    \n"
   ]
  },
  {
   "cell_type": "code",
   "execution_count": 9,
   "metadata": {},
   "outputs": [],
   "source": [
    "class play_game:\n",
    "        \n",
    "    def __init__(self,max_depth=8):\n",
    "        self.node=Gato()\n",
    "        self.max_depth=max_depth\n",
    "    \n",
    "    def minimax(self,node, maximizing, max_depth):\n",
    "        if(not np.any(node.board==0)) or max_depth == 0:\n",
    "            return node.utility()\n",
    "        if maximizing:\n",
    "            best_eval = float(\"-inf\") # arbitrarily low starting point\n",
    "            for move in node.available_moves():\n",
    "                new_board=node.board.copy()\n",
    "                new_board[move[0]][move[1]]=node.player['ai']\n",
    "                child_node=Gato(board=new_board)\n",
    "                result = self.minimax(child_node, False, max_depth - 1)\n",
    "                best_eval = max(result, best_eval) # we want the move with the highest evaluation\n",
    "            return best_eval\n",
    "        else: # minimizing\n",
    "            worst_eval: float = float(\"inf\")\n",
    "            for move in node.available_moves():\n",
    "                new_board=node.board.copy()\n",
    "                new_board[move[0]][move[1]]=node.player['human']\n",
    "                child_node=Gato(board=new_board)\n",
    "                result = self.minimax(child_node, True, max_depth - 1)\n",
    "                worst_eval = min(result, worst_eval) # we want the move with the lowest evaluation\n",
    "            return worst_eval\n",
    "    \n",
    "    def human_move(self):\n",
    "        moves=self.node.available_moves()\n",
    "        self.node.print_board()\n",
    "        z=eval(input('Ingrese jugada : '))\n",
    "        while z not in moves or not isinstance(z, tuple):\n",
    "            print('no disponible!')\n",
    "            z=eval(input('Ingrese jugada : '))\n",
    "        self.node.board[z[0]][z[1]]=self.node.player['human']\n",
    "        \n",
    "    def ai_move(self):\n",
    "        moves=self.node.available_moves()\n",
    "        score=[]\n",
    "        for move in moves:\n",
    "            new_board=self.node.board.copy()\n",
    "            new_board[move[0]][move[1]]=self.node.player['ai']\n",
    "            child_node=Gato(board=new_board)\n",
    "            new_score=self.minimax(child_node,False,self.max_depth)\n",
    "            score.append(new_score)\n",
    "        for i,j in zip(score,moves):\n",
    "            print(i,j)\n",
    "        z=moves[np.argmax(score)]\n",
    "        self.node.board[z[0]][z[1]]=self.node.player['ai']\n",
    "   \n",
    "    def get_winner(self):\n",
    "        out=False\n",
    "        if(self.node.check_winner(self.node.player['human'])):\n",
    "            print('Human wins!')\n",
    "            out=True\n",
    "        elif(self.node.check_winner(self.node.player['ai'])):\n",
    "            print('AI wins')\n",
    "            out=True\n",
    "        elif(not np.any(self.node.board==0)):\n",
    "            print('Draw')\n",
    "            out=True\n",
    "        return out\n",
    "    \n",
    "    def main(self):\n",
    "        winner=False\n",
    "        player=self.node.player['ai']\n",
    "        #player=[self.ai,self.human][np.random.binomial(1,0.5)]\n",
    "        while(True):\n",
    "            if(not np.any(self.node.board==0)):\n",
    "                player=self.node.player['draw']\n",
    "                break\n",
    "            if(player==self.node.player['human']):\n",
    "                self.human_move()\n",
    "                print('Human:')\n",
    "                if self.get_winner():\n",
    "                    break\n",
    "                else:\n",
    "                    player=self.node.player['ai']\n",
    "                self.node.print_board()\n",
    "            elif(player==self.node.player['ai']):\n",
    "                print('AI:')\n",
    "                self.ai_move()\n",
    "                if self.get_winner():\n",
    "                    break\n",
    "                else:\n",
    "                    player=self.node.player['human'] \n",
    "    "
   ]
  },
  {
   "cell_type": "code",
   "execution_count": null,
   "metadata": {},
   "outputs": [
    {
     "name": "stdout",
     "output_type": "stream",
     "text": [
      "AI:\n",
      "0 (0, 0)\n",
      "-1 (0, 1)\n",
      "0 (0, 2)\n",
      "-1 (1, 0)\n",
      "0 (1, 1)\n",
      "-1 (1, 2)\n",
      "0 (2, 0)\n",
      "-1 (2, 1)\n",
      "0 (2, 2)\n",
      "-----------\n",
      " O |   |  \n",
      "-----------\n",
      "   |   |  \n",
      "-----------\n",
      "   |   |  \n",
      "-----------\n"
     ]
    }
   ],
   "source": [
    "if __name__ == '__main__':\n",
    "    play_game().main()"
   ]
  },
  {
   "cell_type": "markdown",
   "metadata": {},
   "source": [
    "<h1>Poda alpha-beta</h1>\n",
    "\n",
    "<ul>\n",
    "<li> El problema con la búsqueda Minimax es que el número de evaluaciones del estado del juego crece exponencialmente con la profundidad del árbol.</li>\n",
    "<li> Una alternativa eficiente es podar el árbol y de esa manera eliminar caminos que no tengan mayor influencia en la decisión final.</li>\n",
    "<li> El valor $\\alpha$ representa el mejor valor encontrado por MAX en un camino dado. Cualquier vértice $V$ menor que $\\alpha$ no necesita ser evaluado. </li>\n",
    "<li> El valor $\\beta$ representa el mejor valor encontrado por MIN en un camino dado. </li>\n",
    "<li> Cuando un nodo $V$ detecta que su evaluaci\\'on ser\\'a peor que $\\alpha$ y $\\beta$ actuales, poda el sub-árbol con los hijos de $V$. </li>\n",
    " </ul>"
   ]
  },
  {
   "cell_type": "code",
   "execution_count": null,
   "metadata": {},
   "outputs": [],
   "source": []
  }
 ],
 "metadata": {
  "kernelspec": {
   "display_name": "Python 3",
   "language": "python",
   "name": "python3"
  },
  "language_info": {
   "codemirror_mode": {
    "name": "ipython",
    "version": 3
   },
   "file_extension": ".py",
   "mimetype": "text/x-python",
   "name": "python",
   "nbconvert_exporter": "python",
   "pygments_lexer": "ipython3",
   "version": "3.6.9"
  }
 },
 "nbformat": 4,
 "nbformat_minor": 2
}
